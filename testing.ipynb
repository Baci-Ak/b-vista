{
 "cells": [
  {
   "cell_type": "code",
   "execution_count": null,
   "metadata": {},
   "outputs": [],
   "source": []
  },
  {
   "cell_type": "code",
   "execution_count": 2,
   "metadata": {},
   "outputs": [],
   "source": [
    "import pandas as pd\n",
    "import numpy as np\n",
    "import bvista as bv\n",
    "\n",
    "# ✅ Create a sample DataFrame with missing values\n",
    "data = {\n",
    "    \"ID\": [1, 2, 3, 4, 5],\n",
    "    \"Name\": [\"Alice\", \"Bob\", None, \"David\", \"Eve\"],\n",
    "    \"Age\": [25, np.nan, 30, None, 28],\n",
    "    \"City\": [\"New York\", \"\", \"Los Angeles\", \"Chicago\", None],\n",
    "    \"Salary\": [50000, 60000, np.nan, 55000, \"\"],\n",
    "}\n",
    "\n",
    "df1 = pd.DataFrame(data)\n",
    "\n",
    "\n"
   ]
  },
  {
   "cell_type": "code",
   "execution_count": null,
   "metadata": {},
   "outputs": [],
   "source": []
  },
  {
   "cell_type": "code",
   "execution_count": null,
   "metadata": {},
   "outputs": [],
   "source": []
  },
  {
   "cell_type": "code",
   "execution_count": null,
   "metadata": {},
   "outputs": [],
   "source": []
  },
  {
   "cell_type": "code",
   "execution_count": null,
   "metadata": {},
   "outputs": [],
   "source": []
  },
  {
   "cell_type": "code",
   "execution_count": null,
   "metadata": {},
   "outputs": [],
   "source": []
  },
  {
   "cell_type": "code",
   "execution_count": null,
   "metadata": {},
   "outputs": [],
   "source": []
  },
  {
   "cell_type": "code",
   "execution_count": null,
   "metadata": {},
   "outputs": [],
   "source": []
  },
  {
   "cell_type": "code",
   "execution_count": null,
   "metadata": {},
   "outputs": [],
   "source": []
  },
  {
   "cell_type": "code",
   "execution_count": null,
   "metadata": {},
   "outputs": [],
   "source": []
  },
  {
   "cell_type": "code",
   "execution_count": null,
   "metadata": {},
   "outputs": [],
   "source": []
  },
  {
   "cell_type": "code",
   "execution_count": null,
   "metadata": {},
   "outputs": [],
   "source": []
  },
  {
   "cell_type": "code",
   "execution_count": null,
   "metadata": {},
   "outputs": [],
   "source": []
  },
  {
   "cell_type": "code",
   "execution_count": null,
   "metadata": {},
   "outputs": [],
   "source": []
  },
  {
   "cell_type": "code",
   "execution_count": 16,
   "metadata": {},
   "outputs": [
    {
     "name": "stderr",
     "output_type": "stream",
     "text": [
      "/var/folders/z0/_53pqkc52j94k8cbwvw_qgf40000gn/T/ipykernel_90295/2584171285.py:18: FutureWarning: 'T' is deprecated and will be removed in a future version, please use 'min' instead.\n",
      "  data[\"timestamp\"] = pd.date_range(\"2023-01-01\", periods=num_rows, freq=\"T\")  # Datetime\n"
     ]
    }
   ],
   "source": [
    "import pandas as pd\n",
    "import numpy as np\n",
    "\n",
    "\n",
    "# ✅ Define number of rows & columns\n",
    "num_rows = 1000  # 100,000 rows\n",
    "num_cols = 50  # 50 columns\n",
    "\n",
    "# ✅ Generate random data\n",
    "data = {\n",
    "    f\"col_{i}\": np.random.randint(0, 1000, size=num_rows) if i % 2 == 0 else np.random.random(num_rows)\n",
    "    for i in range(num_cols)\n",
    "}\n",
    "\n",
    "# ✅ Add diverse data types\n",
    "data[\"id\"] = np.arange(1, num_rows + 1)  # Unique IDs\n",
    "data[\"category\"] = np.random.choice([\"A\", \"B\", \"C\", \"D\"], size=num_rows)  # Categorical\n",
    "data[\"timestamp\"] = pd.date_range(\"2023-01-01\", periods=num_rows, freq=\"T\")  # Datetime\n",
    "data[\"boolean\"] = np.random.choice([True, False], size=num_rows)  # Boolean\n",
    "data[\"text\"] = np.random.choice([\"hello\", \"world\", \"test\", \"data\"], size=num_rows)  # Text column\n",
    "\n",
    "# ✅ Create DataFrame\n",
    "df6 = pd.DataFrame(data)\n",
    "\n",
    "\n"
   ]
  },
  {
   "cell_type": "code",
   "execution_count": null,
   "metadata": {},
   "outputs": [],
   "source": []
  },
  {
   "cell_type": "code",
   "execution_count": null,
   "metadata": {},
   "outputs": [],
   "source": []
  },
  {
   "cell_type": "code",
   "execution_count": 50,
   "metadata": {},
   "outputs": [
    {
     "data": {
      "application/vnd.microsoft.datawrangler.viewer.v0+json": {
       "columns": [
        {
         "name": "index",
         "rawType": "int64",
         "type": "integer"
        },
        {
         "name": "col_0",
         "rawType": "int64",
         "type": "integer"
        },
        {
         "name": "col_1",
         "rawType": "float64",
         "type": "float"
        },
        {
         "name": "col_2",
         "rawType": "int64",
         "type": "integer"
        },
        {
         "name": "col_3",
         "rawType": "float64",
         "type": "float"
        },
        {
         "name": "col_4",
         "rawType": "int64",
         "type": "integer"
        },
        {
         "name": "col_5",
         "rawType": "float64",
         "type": "float"
        },
        {
         "name": "col_6",
         "rawType": "int64",
         "type": "integer"
        },
        {
         "name": "col_7",
         "rawType": "float64",
         "type": "float"
        },
        {
         "name": "col_8",
         "rawType": "int64",
         "type": "integer"
        },
        {
         "name": "col_9",
         "rawType": "float64",
         "type": "float"
        },
        {
         "name": "col_10",
         "rawType": "int64",
         "type": "integer"
        },
        {
         "name": "col_11",
         "rawType": "float64",
         "type": "float"
        },
        {
         "name": "col_12",
         "rawType": "int64",
         "type": "integer"
        },
        {
         "name": "col_13",
         "rawType": "float64",
         "type": "float"
        },
        {
         "name": "col_14",
         "rawType": "int64",
         "type": "integer"
        },
        {
         "name": "col_15",
         "rawType": "float64",
         "type": "float"
        },
        {
         "name": "col_16",
         "rawType": "int64",
         "type": "integer"
        },
        {
         "name": "col_17",
         "rawType": "float64",
         "type": "float"
        },
        {
         "name": "col_18",
         "rawType": "int64",
         "type": "integer"
        },
        {
         "name": "col_19",
         "rawType": "float64",
         "type": "float"
        },
        {
         "name": "col_20",
         "rawType": "int64",
         "type": "integer"
        },
        {
         "name": "col_21",
         "rawType": "float64",
         "type": "float"
        },
        {
         "name": "col_22",
         "rawType": "int64",
         "type": "integer"
        },
        {
         "name": "col_23",
         "rawType": "float64",
         "type": "float"
        },
        {
         "name": "col_24",
         "rawType": "int64",
         "type": "integer"
        },
        {
         "name": "col_25",
         "rawType": "float64",
         "type": "float"
        },
        {
         "name": "col_26",
         "rawType": "int64",
         "type": "integer"
        },
        {
         "name": "col_27",
         "rawType": "float64",
         "type": "float"
        },
        {
         "name": "col_28",
         "rawType": "int64",
         "type": "integer"
        },
        {
         "name": "col_29",
         "rawType": "float64",
         "type": "float"
        },
        {
         "name": "col_30",
         "rawType": "int64",
         "type": "integer"
        },
        {
         "name": "col_31",
         "rawType": "float64",
         "type": "float"
        },
        {
         "name": "col_32",
         "rawType": "int64",
         "type": "integer"
        },
        {
         "name": "col_33",
         "rawType": "float64",
         "type": "float"
        },
        {
         "name": "col_34",
         "rawType": "int64",
         "type": "integer"
        },
        {
         "name": "col_35",
         "rawType": "float64",
         "type": "float"
        },
        {
         "name": "col_36",
         "rawType": "int64",
         "type": "integer"
        },
        {
         "name": "col_37",
         "rawType": "float64",
         "type": "float"
        },
        {
         "name": "col_38",
         "rawType": "int64",
         "type": "integer"
        },
        {
         "name": "col_39",
         "rawType": "float64",
         "type": "float"
        },
        {
         "name": "col_40",
         "rawType": "int64",
         "type": "integer"
        },
        {
         "name": "col_41",
         "rawType": "float64",
         "type": "float"
        },
        {
         "name": "col_42",
         "rawType": "int64",
         "type": "integer"
        },
        {
         "name": "col_43",
         "rawType": "float64",
         "type": "float"
        },
        {
         "name": "col_44",
         "rawType": "int64",
         "type": "integer"
        },
        {
         "name": "col_45",
         "rawType": "float64",
         "type": "float"
        },
        {
         "name": "col_46",
         "rawType": "int64",
         "type": "integer"
        },
        {
         "name": "col_47",
         "rawType": "float64",
         "type": "float"
        },
        {
         "name": "col_48",
         "rawType": "int64",
         "type": "integer"
        },
        {
         "name": "col_49",
         "rawType": "float64",
         "type": "float"
        },
        {
         "name": "id",
         "rawType": "int64",
         "type": "integer"
        },
        {
         "name": "category",
         "rawType": "object",
         "type": "string"
        },
        {
         "name": "timestamp",
         "rawType": "datetime64[ns]",
         "type": "datetime"
        },
        {
         "name": "boolean",
         "rawType": "bool",
         "type": "boolean"
        },
        {
         "name": "text",
         "rawType": "object",
         "type": "string"
        }
       ],
       "conversionMethod": "pd.DataFrame",
       "ref": "0da775c9-9264-40f5-bf65-8662d31a221e",
       "rows": [
        [
         "0",
         "102",
         "0.04521867010618941",
         "406",
         "0.624425446471728",
         "678",
         "0.8266183455024887",
         "20",
         "0.19202336913634455",
         "527",
         "0.3662863862065222",
         "992",
         "0.4811256918168456",
         "705",
         "0.20644523241620039",
         "609",
         "0.618037524676957",
         "945",
         "0.6954756041890774",
         "842",
         "0.28938072360569467",
         "319",
         "0.4280928766249438",
         "30",
         "0.9882471556902453",
         "980",
         "0.2237824361164109",
         "883",
         "0.5255437364597197",
         "244",
         "0.46625605424349503",
         "196",
         "0.34189011706203765",
         "41",
         "0.8510424485859022",
         "554",
         "0.32323357706785427",
         "599",
         "0.06828598372642014",
         "944",
         "0.47935556760024367",
         "305",
         "0.4667058849215976",
         "580",
         "0.028043200166073645",
         "909",
         "0.07440209493782213",
         "959",
         "0.7124707373509691",
         "930",
         "0.4861913687719174",
         "1",
         "C",
         "2023-01-01 00:00:00",
         "True",
         "world"
        ],
        [
         "1",
         "435",
         "0.026366974497252005",
         "618",
         "0.49448113129509297",
         "451",
         "0.36559570100396677",
         "633",
         "0.666685651892513",
         "226",
         "0.05293593556881826",
         "410",
         "0.3333678381165628",
         "501",
         "0.6873723669361333",
         "135",
         "0.7184414747355413",
         "535",
         "0.4384288920111806",
         "482",
         "0.6414471627547098",
         "155",
         "0.8425883794336675",
         "596",
         "0.9521238781308706",
         "327",
         "0.8152052811654619",
         "999",
         "0.5546785254349391",
         "65",
         "0.7755648384674807",
         "909",
         "0.10698180763205611",
         "304",
         "0.7518120763276662",
         "778",
         "0.01354432392440208",
         "677",
         "0.2802918611327917",
         "910",
         "0.19709701465908724",
         "678",
         "0.5694444366906898",
         "949",
         "0.969825279747811",
         "287",
         "0.4903708724988637",
         "475",
         "0.07961082477667891",
         "205",
         "0.1929611985318581",
         "2",
         "B",
         "2023-01-01 00:01:00",
         "False",
         "data"
        ],
        [
         "2",
         "860",
         "0.3764633668780496",
         "335",
         "0.9795508403817569",
         "288",
         "0.35369668658073394",
         "69",
         "0.6233795659599071",
         "473",
         "0.7549325397850504",
         "172",
         "0.4491234139302508",
         "140",
         "0.352435941526575",
         "483",
         "0.39202953480359126",
         "257",
         "0.5522150680546295",
         "131",
         "0.1859520980008047",
         "470",
         "0.8055031112598633",
         "556",
         "0.5632647205206205",
         "966",
         "0.8459681446546411",
         "737",
         "0.39634344583103676",
         "941",
         "0.060872665291400896",
         "346",
         "0.7614693289373168",
         "5",
         "0.6621653546947076",
         "620",
         "0.7971050223340935",
         "493",
         "0.03911557880397076",
         "784",
         "0.5008270423112718",
         "827",
         "0.5073002325642498",
         "251",
         "0.01256446152438051",
         "493",
         "0.7330382136438538",
         "594",
         "0.9066223650367946",
         "721",
         "0.5925994386898191",
         "3",
         "A",
         "2023-01-01 00:02:00",
         "True",
         "data"
        ],
        [
         "3",
         "270",
         "0.8105533307818329",
         "814",
         "0.14496507237981704",
         "140",
         "0.30247902916792657",
         "863",
         "0.6024691704572664",
         "977",
         "0.9551751604781324",
         "3",
         "0.570664578980789",
         "619",
         "0.7130168357337789",
         "788",
         "0.9049295169818152",
         "482",
         "0.5576612476224163",
         "92",
         "0.3027105691242712",
         "419",
         "0.7310758817345485",
         "502",
         "0.698902571894143",
         "808",
         "0.20640886769189526",
         "944",
         "0.4638940204404267",
         "227",
         "0.7053352168113012",
         "48",
         "0.918094793200539",
         "328",
         "0.4217814846854294",
         "834",
         "0.32793865903598807",
         "266",
         "0.013890134966268008",
         "904",
         "0.15003976429087684",
         "881",
         "0.9131845626581134",
         "161",
         "0.3587949616387115",
         "264",
         "0.0460091978297269",
         "980",
         "0.5219292886253023",
         "274",
         "0.5446121518190361",
         "4",
         "D",
         "2023-01-01 00:03:00",
         "False",
         "test"
        ],
        [
         "4",
         "106",
         "0.9872761293149445",
         "116",
         "0.7251557275511148",
         "83",
         "0.9753732771464209",
         "872",
         "0.48978586798824075",
         "540",
         "0.2401515960220142",
         "853",
         "0.43558915801270903",
         "814",
         "0.1577036212594919",
         "311",
         "0.5600039892289184",
         "508",
         "0.2773758133333014",
         "762",
         "0.4860450744832292",
         "112",
         "0.4632296374090289",
         "370",
         "0.801430382208645",
         "689",
         "0.7108272534348722",
         "394",
         "0.20834226792101118",
         "881",
         "0.819711622753325",
         "63",
         "0.21795485466011766",
         "169",
         "0.7305001678916022",
         "677",
         "0.3573094694080502",
         "92",
         "0.35337988693220124",
         "972",
         "0.7440430806908699",
         "474",
         "0.7686681003916374",
         "926",
         "0.07640277297623221",
         "466",
         "0.7782734939976157",
         "863",
         "0.9044385673377316",
         "594",
         "0.08879930180999573",
         "5",
         "C",
         "2023-01-01 00:04:00",
         "False",
         "hello"
        ]
       ],
       "shape": {
        "columns": 55,
        "rows": 5
       }
      },
      "text/html": [
       "<div>\n",
       "<style scoped>\n",
       "    .dataframe tbody tr th:only-of-type {\n",
       "        vertical-align: middle;\n",
       "    }\n",
       "\n",
       "    .dataframe tbody tr th {\n",
       "        vertical-align: top;\n",
       "    }\n",
       "\n",
       "    .dataframe thead th {\n",
       "        text-align: right;\n",
       "    }\n",
       "</style>\n",
       "<table border=\"1\" class=\"dataframe\">\n",
       "  <thead>\n",
       "    <tr style=\"text-align: right;\">\n",
       "      <th></th>\n",
       "      <th>col_0</th>\n",
       "      <th>col_1</th>\n",
       "      <th>col_2</th>\n",
       "      <th>col_3</th>\n",
       "      <th>col_4</th>\n",
       "      <th>col_5</th>\n",
       "      <th>col_6</th>\n",
       "      <th>col_7</th>\n",
       "      <th>col_8</th>\n",
       "      <th>col_9</th>\n",
       "      <th>...</th>\n",
       "      <th>col_45</th>\n",
       "      <th>col_46</th>\n",
       "      <th>col_47</th>\n",
       "      <th>col_48</th>\n",
       "      <th>col_49</th>\n",
       "      <th>id</th>\n",
       "      <th>category</th>\n",
       "      <th>timestamp</th>\n",
       "      <th>boolean</th>\n",
       "      <th>text</th>\n",
       "    </tr>\n",
       "  </thead>\n",
       "  <tbody>\n",
       "    <tr>\n",
       "      <th>0</th>\n",
       "      <td>102</td>\n",
       "      <td>0.045219</td>\n",
       "      <td>406</td>\n",
       "      <td>0.624425</td>\n",
       "      <td>678</td>\n",
       "      <td>0.826618</td>\n",
       "      <td>20</td>\n",
       "      <td>0.192023</td>\n",
       "      <td>527</td>\n",
       "      <td>0.366286</td>\n",
       "      <td>...</td>\n",
       "      <td>0.074402</td>\n",
       "      <td>959</td>\n",
       "      <td>0.712471</td>\n",
       "      <td>930</td>\n",
       "      <td>0.486191</td>\n",
       "      <td>1</td>\n",
       "      <td>C</td>\n",
       "      <td>2023-01-01 00:00:00</td>\n",
       "      <td>True</td>\n",
       "      <td>world</td>\n",
       "    </tr>\n",
       "    <tr>\n",
       "      <th>1</th>\n",
       "      <td>435</td>\n",
       "      <td>0.026367</td>\n",
       "      <td>618</td>\n",
       "      <td>0.494481</td>\n",
       "      <td>451</td>\n",
       "      <td>0.365596</td>\n",
       "      <td>633</td>\n",
       "      <td>0.666686</td>\n",
       "      <td>226</td>\n",
       "      <td>0.052936</td>\n",
       "      <td>...</td>\n",
       "      <td>0.490371</td>\n",
       "      <td>475</td>\n",
       "      <td>0.079611</td>\n",
       "      <td>205</td>\n",
       "      <td>0.192961</td>\n",
       "      <td>2</td>\n",
       "      <td>B</td>\n",
       "      <td>2023-01-01 00:01:00</td>\n",
       "      <td>False</td>\n",
       "      <td>data</td>\n",
       "    </tr>\n",
       "    <tr>\n",
       "      <th>2</th>\n",
       "      <td>860</td>\n",
       "      <td>0.376463</td>\n",
       "      <td>335</td>\n",
       "      <td>0.979551</td>\n",
       "      <td>288</td>\n",
       "      <td>0.353697</td>\n",
       "      <td>69</td>\n",
       "      <td>0.623380</td>\n",
       "      <td>473</td>\n",
       "      <td>0.754933</td>\n",
       "      <td>...</td>\n",
       "      <td>0.733038</td>\n",
       "      <td>594</td>\n",
       "      <td>0.906622</td>\n",
       "      <td>721</td>\n",
       "      <td>0.592599</td>\n",
       "      <td>3</td>\n",
       "      <td>A</td>\n",
       "      <td>2023-01-01 00:02:00</td>\n",
       "      <td>True</td>\n",
       "      <td>data</td>\n",
       "    </tr>\n",
       "    <tr>\n",
       "      <th>3</th>\n",
       "      <td>270</td>\n",
       "      <td>0.810553</td>\n",
       "      <td>814</td>\n",
       "      <td>0.144965</td>\n",
       "      <td>140</td>\n",
       "      <td>0.302479</td>\n",
       "      <td>863</td>\n",
       "      <td>0.602469</td>\n",
       "      <td>977</td>\n",
       "      <td>0.955175</td>\n",
       "      <td>...</td>\n",
       "      <td>0.046009</td>\n",
       "      <td>980</td>\n",
       "      <td>0.521929</td>\n",
       "      <td>274</td>\n",
       "      <td>0.544612</td>\n",
       "      <td>4</td>\n",
       "      <td>D</td>\n",
       "      <td>2023-01-01 00:03:00</td>\n",
       "      <td>False</td>\n",
       "      <td>test</td>\n",
       "    </tr>\n",
       "    <tr>\n",
       "      <th>4</th>\n",
       "      <td>106</td>\n",
       "      <td>0.987276</td>\n",
       "      <td>116</td>\n",
       "      <td>0.725156</td>\n",
       "      <td>83</td>\n",
       "      <td>0.975373</td>\n",
       "      <td>872</td>\n",
       "      <td>0.489786</td>\n",
       "      <td>540</td>\n",
       "      <td>0.240152</td>\n",
       "      <td>...</td>\n",
       "      <td>0.778273</td>\n",
       "      <td>863</td>\n",
       "      <td>0.904439</td>\n",
       "      <td>594</td>\n",
       "      <td>0.088799</td>\n",
       "      <td>5</td>\n",
       "      <td>C</td>\n",
       "      <td>2023-01-01 00:04:00</td>\n",
       "      <td>False</td>\n",
       "      <td>hello</td>\n",
       "    </tr>\n",
       "  </tbody>\n",
       "</table>\n",
       "<p>5 rows × 55 columns</p>\n",
       "</div>"
      ],
      "text/plain": [
       "   col_0     col_1  col_2     col_3  col_4     col_5  col_6     col_7  col_8  \\\n",
       "0    102  0.045219    406  0.624425    678  0.826618     20  0.192023    527   \n",
       "1    435  0.026367    618  0.494481    451  0.365596    633  0.666686    226   \n",
       "2    860  0.376463    335  0.979551    288  0.353697     69  0.623380    473   \n",
       "3    270  0.810553    814  0.144965    140  0.302479    863  0.602469    977   \n",
       "4    106  0.987276    116  0.725156     83  0.975373    872  0.489786    540   \n",
       "\n",
       "      col_9  ...    col_45  col_46    col_47  col_48    col_49  id  category  \\\n",
       "0  0.366286  ...  0.074402     959  0.712471     930  0.486191   1         C   \n",
       "1  0.052936  ...  0.490371     475  0.079611     205  0.192961   2         B   \n",
       "2  0.754933  ...  0.733038     594  0.906622     721  0.592599   3         A   \n",
       "3  0.955175  ...  0.046009     980  0.521929     274  0.544612   4         D   \n",
       "4  0.240152  ...  0.778273     863  0.904439     594  0.088799   5         C   \n",
       "\n",
       "            timestamp  boolean   text  \n",
       "0 2023-01-01 00:00:00     True  world  \n",
       "1 2023-01-01 00:01:00    False   data  \n",
       "2 2023-01-01 00:02:00     True   data  \n",
       "3 2023-01-01 00:03:00    False   test  \n",
       "4 2023-01-01 00:04:00    False  hello  \n",
       "\n",
       "[5 rows x 55 columns]"
      ]
     },
     "execution_count": 50,
     "metadata": {},
     "output_type": "execute_result"
    }
   ],
   "source": [
    "df6.head()"
   ]
  },
  {
   "cell_type": "code",
   "execution_count": 17,
   "metadata": {},
   "outputs": [
    {
     "data": {
      "text/html": [
       "\n",
       "    <iframe src=\"http://127.0.0.1:5050/?session_id=df6\" width=\"100%\" height=\"600px\" style=\"border:none;\"></iframe>\n",
       "    <p style=\"margin-top:10px;\">\n",
       "        <a href=\"http://127.0.0.1:5050/?session_id=df6\" target=\"_blank\" style=\"font-size:14px; text-decoration:none; color:#007bff;\">\n",
       "            🔗 Open in Web Browser\n",
       "        </a>\n",
       "    </p>\n",
       "    "
      ],
      "text/plain": [
       "<IPython.core.display.HTML object>"
      ]
     },
     "metadata": {},
     "output_type": "display_data"
    }
   ],
   "source": [
    "\n",
    "\n",
    "bv.show(df6)"
   ]
  },
  {
   "cell_type": "code",
   "execution_count": null,
   "metadata": {},
   "outputs": [],
   "source": []
  },
  {
   "cell_type": "code",
   "execution_count": null,
   "metadata": {},
   "outputs": [],
   "source": []
  },
  {
   "cell_type": "code",
   "execution_count": null,
   "metadata": {},
   "outputs": [],
   "source": []
  },
  {
   "cell_type": "code",
   "execution_count": 4,
   "metadata": {},
   "outputs": [
    {
     "ename": "NameError",
     "evalue": "name 'df6' is not defined",
     "output_type": "error",
     "traceback": [
      "\u001b[0;31m---------------------------------------------------------------------------\u001b[0m",
      "\u001b[0;31mNameError\u001b[0m                                 Traceback (most recent call last)",
      "Cell \u001b[0;32mIn[4], line 1\u001b[0m\n\u001b[0;32m----> 1\u001b[0m bv\u001b[38;5;241m.\u001b[39mshow(\u001b[43mdf6\u001b[49m)\n",
      "\u001b[0;31mNameError\u001b[0m: name 'df6' is not defined"
     ]
    }
   ],
   "source": [
    "bv.show(df6)"
   ]
  },
  {
   "cell_type": "code",
   "execution_count": null,
   "metadata": {},
   "outputs": [],
   "source": []
  },
  {
   "cell_type": "code",
   "execution_count": null,
   "metadata": {},
   "outputs": [],
   "source": []
  },
  {
   "cell_type": "code",
   "execution_count": null,
   "metadata": {},
   "outputs": [],
   "source": []
  },
  {
   "cell_type": "code",
   "execution_count": 2,
   "metadata": {},
   "outputs": [],
   "source": [
    "import pandas as pd\n",
    "import numpy as np\n",
    "import bvista as bv\n",
    "\n",
    "# ✅ Create a sample DataFrame with missing values\n",
    "data = {\n",
    "    \"ID\": [1, 2, 3, 4, 5],\n",
    "    \"Name\": [\"Alice\", \"Bob\", None, \"David\", \"Eve\"],\n",
    "    \"Age\": [25, np.nan, 30, None, 28],\n",
    "    \"City\": [\"New York\", \"\", \"Los Angeles\", \"Chicago\", None],\n",
    "    \"Salary\": [50000, 60000, np.nan, 55000, \"\"],\n",
    "}\n",
    "\n",
    "df1 = pd.DataFrame(data)\n",
    "\n",
    "\n"
   ]
  },
  {
   "cell_type": "code",
   "execution_count": null,
   "metadata": {},
   "outputs": [],
   "source": []
  },
  {
   "cell_type": "code",
   "execution_count": null,
   "metadata": {},
   "outputs": [],
   "source": []
  },
  {
   "cell_type": "code",
   "execution_count": null,
   "metadata": {},
   "outputs": [],
   "source": []
  },
  {
   "cell_type": "code",
   "execution_count": null,
   "metadata": {},
   "outputs": [],
   "source": []
  },
  {
   "cell_type": "code",
   "execution_count": 18,
   "metadata": {},
   "outputs": [
    {
     "data": {
      "text/html": [
       "\n",
       "    <iframe src=\"http://127.0.0.1:5050/?session_id=df1\" width=\"100%\" height=\"600px\" style=\"border:none;\"></iframe>\n",
       "    <p style=\"margin-top:10px;\">\n",
       "        <a href=\"http://127.0.0.1:5050/?session_id=df1\" target=\"_blank\" style=\"font-size:14px; text-decoration:none; color:#007bff;\">\n",
       "            🔗 Open in Web Browser\n",
       "        </a>\n",
       "    </p>\n",
       "    "
      ],
      "text/plain": [
       "<IPython.core.display.HTML object>"
      ]
     },
     "metadata": {},
     "output_type": "display_data"
    }
   ],
   "source": [
    "\n",
    "bv.show(df1)"
   ]
  },
  {
   "cell_type": "code",
   "execution_count": null,
   "metadata": {},
   "outputs": [],
   "source": []
  },
  {
   "cell_type": "code",
   "execution_count": null,
   "metadata": {},
   "outputs": [],
   "source": []
  },
  {
   "cell_type": "code",
   "execution_count": 3,
   "metadata": {},
   "outputs": [
    {
     "data": {
      "image/png": "[encoded data removed]",
      "text/plain": [
       "<Figure size 640x480 with 1 Axes>"
      ]
     },
     "metadata": {},
     "output_type": "display_data"
    }
   ],
   "source": [
    "import base64\n",
    "from io import BytesIO\n",
    "import matplotlib.pyplot as plt\n",
    "import requests\n",
    "\n",
    "# Make the API request\n",
    "response = requests.post(\"http://127.0.0.1:5050/api/distribution_analysis\",\n",
    "                         json={\"session_id\": \"df1\", \n",
    "                               \"columns\": [\"Age\", \"ID\"], \n",
    "                               \"plot_type\": \"histogram\", \n",
    "                               \"show_kde\": True, \n",
    "                               \"colors\": {\"Age\": \"blue\", \"ID\": \"red\"}})\n",
    "\n",
    "# Extract the base64 image\n",
    "if response.status_code == 200:\n",
    "    data = response.json()\n",
    "    base64_image = data.get(\"image\")\n",
    "\n",
    "    if base64_image:\n",
    "        # Decode the base64 string\n",
    "        image_bytes = base64.b64decode(base64_image)\n",
    "        image_buffer = BytesIO(image_bytes)\n",
    "\n",
    "        # Display the image\n",
    "        img = plt.imread(image_buffer, format=\"png\")\n",
    "        plt.imshow(img)\n",
    "        plt.axis(\"off\")  # Hide axes\n",
    "        plt.show()\n",
    "    else:\n",
    "        print(\"No image data received\")\n",
    "else:\n",
    "    print(\"Error:\", response.json())\n"
   ]
  },
  {
   "cell_type": "code",
   "execution_count": null,
   "metadata": {},
   "outputs": [],
   "source": []
  },
  {
   "cell_type": "code",
   "execution_count": null,
   "metadata": {},
   "outputs": [],
   "source": []
  },
  {
   "cell_type": "code",
   "execution_count": 4,
   "metadata": {},
   "outputs": [
    {
     "name": "stdout",
     "output_type": "stream",
     "text": [
      "<class 'pandas.core.frame.DataFrame'>\n",
      "RangeIndex: 5 entries, 0 to 4\n",
      "Data columns (total 3 columns):\n",
      " #   Column  Non-Null Count  Dtype  \n",
      "---  ------  --------------  -----  \n",
      " 0   Age     3 non-null      float64\n",
      " 1   Salary  4 non-null      object \n",
      " 2   ID      5 non-null      int64  \n",
      "dtypes: float64(1), int64(1), object(1)\n",
      "memory usage: 248.0+ bytes\n",
      "None\n"
     ]
    }
   ],
   "source": [
    "print(df1[[\"Age\", \"Salary\", \"ID\"]].info())\n"
   ]
  },
  {
   "cell_type": "code",
   "execution_count": null,
   "metadata": {},
   "outputs": [],
   "source": []
  },
  {
   "cell_type": "code",
   "execution_count": 3,
   "metadata": {},
   "outputs": [
    {
     "data": {
      "application/vnd.microsoft.datawrangler.viewer.v0+json": {
       "columns": [
        {
         "name": "index",
         "rawType": "int64",
         "type": "integer"
        },
        {
         "name": "ID",
         "rawType": "int64",
         "type": "integer"
        },
        {
         "name": "Name",
         "rawType": "float64",
         "type": "float"
        },
        {
         "name": "Age",
         "rawType": "float64",
         "type": "float"
        },
        {
         "name": "City",
         "rawType": "float64",
         "type": "float"
        },
        {
         "name": "Salary",
         "rawType": "float64",
         "type": "float"
        }
       ],
       "conversionMethod": "pd.DataFrame",
       "ref": "50723d96-a2ff-4fa8-92d2-b764b6151f30",
       "rows": [
        [
         "0",
         "1",
         null,
         "25.0",
         null,
         "50000.0"
        ],
        [
         "1",
         "2",
         null,
         null,
         null,
         "60000.0"
        ],
        [
         "2",
         "3",
         null,
         "30.0",
         null,
         null
        ],
        [
         "3",
         "4",
         null,
         null,
         null,
         "55000.0"
        ],
        [
         "4",
         "5",
         null,
         "28.0",
         null,
         null
        ]
       ],
       "shape": {
        "columns": 5,
        "rows": 5
       }
      },
      "text/html": [
       "<div>\n",
       "<style scoped>\n",
       "    .dataframe tbody tr th:only-of-type {\n",
       "        vertical-align: middle;\n",
       "    }\n",
       "\n",
       "    .dataframe tbody tr th {\n",
       "        vertical-align: top;\n",
       "    }\n",
       "\n",
       "    .dataframe thead th {\n",
       "        text-align: right;\n",
       "    }\n",
       "</style>\n",
       "<table border=\"1\" class=\"dataframe\">\n",
       "  <thead>\n",
       "    <tr style=\"text-align: right;\">\n",
       "      <th></th>\n",
       "      <th>ID</th>\n",
       "      <th>Name</th>\n",
       "      <th>Age</th>\n",
       "      <th>City</th>\n",
       "      <th>Salary</th>\n",
       "    </tr>\n",
       "  </thead>\n",
       "  <tbody>\n",
       "    <tr>\n",
       "      <th>0</th>\n",
       "      <td>1</td>\n",
       "      <td>NaN</td>\n",
       "      <td>25.0</td>\n",
       "      <td>NaN</td>\n",
       "      <td>50000.0</td>\n",
       "    </tr>\n",
       "    <tr>\n",
       "      <th>1</th>\n",
       "      <td>2</td>\n",
       "      <td>NaN</td>\n",
       "      <td>NaN</td>\n",
       "      <td>NaN</td>\n",
       "      <td>60000.0</td>\n",
       "    </tr>\n",
       "    <tr>\n",
       "      <th>2</th>\n",
       "      <td>3</td>\n",
       "      <td>NaN</td>\n",
       "      <td>30.0</td>\n",
       "      <td>NaN</td>\n",
       "      <td>NaN</td>\n",
       "    </tr>\n",
       "    <tr>\n",
       "      <th>3</th>\n",
       "      <td>4</td>\n",
       "      <td>NaN</td>\n",
       "      <td>NaN</td>\n",
       "      <td>NaN</td>\n",
       "      <td>55000.0</td>\n",
       "    </tr>\n",
       "    <tr>\n",
       "      <th>4</th>\n",
       "      <td>5</td>\n",
       "      <td>NaN</td>\n",
       "      <td>28.0</td>\n",
       "      <td>NaN</td>\n",
       "      <td>NaN</td>\n",
       "    </tr>\n",
       "  </tbody>\n",
       "</table>\n",
       "</div>"
      ],
      "text/plain": [
       "   ID  Name   Age  City   Salary\n",
       "0   1   NaN  25.0   NaN  50000.0\n",
       "1   2   NaN   NaN   NaN  60000.0\n",
       "2   3   NaN  30.0   NaN      NaN\n",
       "3   4   NaN   NaN   NaN  55000.0\n",
       "4   5   NaN  28.0   NaN      NaN"
      ]
     },
     "execution_count": 3,
     "metadata": {},
     "output_type": "execute_result"
    }
   ],
   "source": [
    "ds = df1.apply(pd.to_numeric, errors='coerce')\n",
    "ds.head()"
   ]
  },
  {
   "cell_type": "code",
   "execution_count": 3,
   "metadata": {},
   "outputs": [
    {
     "ename": "SyntaxError",
     "evalue": "invalid syntax (2372822046.py, line 1)",
     "output_type": "error",
     "traceback": [
      "\u001b[0;36m  Cell \u001b[0;32mIn[3], line 1\u001b[0;36m\u001b[0m\n\u001b[0;31m    python -c \"import scipy; import pandas; import numpy; import flask; print('All packages loaded successfully!')\"\u001b[0m\n\u001b[0m              ^\u001b[0m\n\u001b[0;31mSyntaxError\u001b[0m\u001b[0;31m:\u001b[0m invalid syntax\n"
     ]
    }
   ],
   "source": [
    "python -c \"import scipy; import pandas; import numpy; import flask; print('All packages loaded successfully!')\"\n"
   ]
  },
  {
   "cell_type": "code",
   "execution_count": null,
   "metadata": {},
   "outputs": [],
   "source": []
  },
  {
   "cell_type": "code",
   "execution_count": null,
   "metadata": {},
   "outputs": [],
   "source": []
  },
  {
   "cell_type": "code",
   "execution_count": 4,
   "metadata": {},
   "outputs": [
    {
     "data": {
      "text/plain": [
       "ID          int64\n",
       "Name      float64\n",
       "Age       float64\n",
       "City      float64\n",
       "Salary    float64\n",
       "dtype: object"
      ]
     },
     "execution_count": 4,
     "metadata": {},
     "output_type": "execute_result"
    }
   ],
   "source": [
    "ds.dtypes"
   ]
  },
  {
   "cell_type": "code",
   "execution_count": null,
   "metadata": {},
   "outputs": [],
   "source": []
  },
  {
   "cell_type": "code",
   "execution_count": 19,
   "metadata": {},
   "outputs": [],
   "source": [
    "import pandas as pd\n",
    "import numpy as np\n",
    "import seaborn as sns\n",
    "import matplotlib.pyplot as plt\n",
    "\n",
    "# Set random seed for reproducibility\n",
    "np.random.seed(42)\n",
    "\n",
    "# Generate random data\n",
    "n = 100  # Number of samples\n",
    "\n",
    "# Perfect positive correlation (+1)\n",
    "x1 = np.linspace(1, 100, n)\n",
    "x2 = x1  # Perfectly correlated\n",
    "\n",
    "# Perfect negative correlation (-1)\n",
    "x3 = -x1  # Perfectly anti-correlated\n",
    "\n",
    "# High positive correlation (~0.8)\n",
    "x4 = x1 * 0.8 + np.random.normal(0, 5, n)\n",
    "\n",
    "# High negative correlation (~-0.8)\n",
    "x5 = -x1 * 0.8 + np.random.normal(0, 5, n)\n",
    "\n",
    "# Low positive correlation (~0.3)\n",
    "x6 = x1 * 0.3 + np.random.normal(0, 10, n)\n",
    "\n",
    "# Low negative correlation (~-0.3)\n",
    "x7 = -x1 * 0.3 + np.random.normal(0, 10, n)\n",
    "\n",
    "# No correlation (~0.0)\n",
    "x8 = np.random.normal(50, 25, n)\n",
    "\n",
    "# Create DataFrame\n",
    "df7 = pd.DataFrame({\n",
    "    \"Perfect_Positive\": x1,\n",
    "    \"Perfect_Negative\": x3,\n",
    "    \"High_Positive\": x4,\n",
    "    \"High_Negative\": x5,\n",
    "    \"Low_Positive\": x6,\n",
    "    \"Low_Negative\": x7,\n",
    "    \"No_Correlation udhdhdjdjd ndndndjndjdjdjdndjdjdjdj dnhdhndhdhhjd hndhdhdjhdn\": x8\n",
    "})\n",
    "\n",
    "\n",
    "\n",
    "\n"
   ]
  },
  {
   "cell_type": "code",
   "execution_count": null,
   "metadata": {},
   "outputs": [],
   "source": []
  },
  {
   "cell_type": "code",
   "execution_count": 20,
   "metadata": {},
   "outputs": [
    {
     "data": {
      "text/html": [
       "\n",
       "    <iframe src=\"http://127.0.0.1:5050/?session_id=df7\" width=\"100%\" height=\"600px\" style=\"border:none;\"></iframe>\n",
       "    <p style=\"margin-top:10px;\">\n",
       "        <a href=\"http://127.0.0.1:5050/?session_id=df7\" target=\"_blank\" style=\"font-size:14px; text-decoration:none; color:#007bff;\">\n",
       "            🔗 Open in Web Browser\n",
       "        </a>\n",
       "    </p>\n",
       "    "
      ],
      "text/plain": [
       "<IPython.core.display.HTML object>"
      ]
     },
     "metadata": {},
     "output_type": "display_data"
    }
   ],
   "source": [
    "bv.show(df7)"
   ]
  },
  {
   "cell_type": "code",
   "execution_count": null,
   "metadata": {},
   "outputs": [],
   "source": []
  },
  {
   "cell_type": "code",
   "execution_count": null,
   "metadata": {},
   "outputs": [],
   "source": []
  },
  {
   "cell_type": "code",
   "execution_count": null,
   "metadata": {},
   "outputs": [],
   "source": []
  },
  {
   "cell_type": "code",
   "execution_count": null,
   "metadata": {},
   "outputs": [],
   "source": []
  },
  {
   "cell_type": "code",
   "execution_count": 3,
   "metadata": {},
   "outputs": [
    {
     "data": {
      "application/vnd.microsoft.datawrangler.viewer.v0+json": {
       "columns": [
        {
         "name": "index",
         "rawType": "int64",
         "type": "integer"
        },
        {
         "name": "TV",
         "rawType": "float64",
         "type": "float"
        },
        {
         "name": "Radio",
         "rawType": "float64",
         "type": "float"
        },
        {
         "name": "Newspaper",
         "rawType": "float64",
         "type": "float"
        },
        {
         "name": "Sales",
         "rawType": "float64",
         "type": "float"
        }
       ],
       "conversionMethod": "pd.DataFrame",
       "ref": "401e821f-f20d-4f91-b1f8-911d738d45a5",
       "rows": [
        [
         "1",
         "230.1",
         "37.8",
         "69.2",
         "22.1"
        ],
        [
         "2",
         "44.5",
         "39.3",
         "45.1",
         "10.4"
        ],
        [
         "3",
         "17.2",
         "45.9",
         "69.3",
         "9.3"
        ],
        [
         "4",
         "151.5",
         "41.3",
         "58.5",
         "18.5"
        ],
        [
         "5",
         "180.8",
         "10.8",
         "58.4",
         "12.9"
        ]
       ],
       "shape": {
        "columns": 4,
        "rows": 5
       }
      },
      "text/html": [
       "<div>\n",
       "<style scoped>\n",
       "    .dataframe tbody tr th:only-of-type {\n",
       "        vertical-align: middle;\n",
       "    }\n",
       "\n",
       "    .dataframe tbody tr th {\n",
       "        vertical-align: top;\n",
       "    }\n",
       "\n",
       "    .dataframe thead th {\n",
       "        text-align: right;\n",
       "    }\n",
       "</style>\n",
       "<table border=\"1\" class=\"dataframe\">\n",
       "  <thead>\n",
       "    <tr style=\"text-align: right;\">\n",
       "      <th></th>\n",
       "      <th>TV</th>\n",
       "      <th>Radio</th>\n",
       "      <th>Newspaper</th>\n",
       "      <th>Sales</th>\n",
       "    </tr>\n",
       "  </thead>\n",
       "  <tbody>\n",
       "    <tr>\n",
       "      <th>1</th>\n",
       "      <td>230.1</td>\n",
       "      <td>37.8</td>\n",
       "      <td>69.2</td>\n",
       "      <td>22.1</td>\n",
       "    </tr>\n",
       "    <tr>\n",
       "      <th>2</th>\n",
       "      <td>44.5</td>\n",
       "      <td>39.3</td>\n",
       "      <td>45.1</td>\n",
       "      <td>10.4</td>\n",
       "    </tr>\n",
       "    <tr>\n",
       "      <th>3</th>\n",
       "      <td>17.2</td>\n",
       "      <td>45.9</td>\n",
       "      <td>69.3</td>\n",
       "      <td>9.3</td>\n",
       "    </tr>\n",
       "    <tr>\n",
       "      <th>4</th>\n",
       "      <td>151.5</td>\n",
       "      <td>41.3</td>\n",
       "      <td>58.5</td>\n",
       "      <td>18.5</td>\n",
       "    </tr>\n",
       "    <tr>\n",
       "      <th>5</th>\n",
       "      <td>180.8</td>\n",
       "      <td>10.8</td>\n",
       "      <td>58.4</td>\n",
       "      <td>12.9</td>\n",
       "    </tr>\n",
       "  </tbody>\n",
       "</table>\n",
       "</div>"
      ],
      "text/plain": [
       "      TV  Radio  Newspaper  Sales\n",
       "1  230.1   37.8       69.2   22.1\n",
       "2   44.5   39.3       45.1   10.4\n",
       "3   17.2   45.9       69.3    9.3\n",
       "4  151.5   41.3       58.5   18.5\n",
       "5  180.8   10.8       58.4   12.9"
      ]
     },
     "execution_count": 3,
     "metadata": {},
     "output_type": "execute_result"
    }
   ],
   "source": [
    "# droping the index column \"unnamed :0\"\n",
    "df2 = pd.read_csv(\"Advertising.csv\", index_col=0)\n",
    "df2.head()"
   ]
  },
  {
   "cell_type": "code",
   "execution_count": 5,
   "metadata": {},
   "outputs": [
    {
     "data": {
      "text/html": [
       "\n",
       "    <iframe src=\"http://127.0.0.1:5050/?session_id=df2\" width=\"100%\" height=\"600px\" style=\"border:none;\"></iframe>\n",
       "    <p style=\"margin-top:10px;\">\n",
       "        <a href=\"http://127.0.0.1:5050/?session_id=df2\" target=\"_blank\" style=\"font-size:14px; text-decoration:none; color:#007bff;\">\n",
       "            🔗 Open in Web Browser\n",
       "        </a>\n",
       "    </p>\n",
       "    "
      ],
      "text/plain": [
       "<IPython.core.display.HTML object>"
      ]
     },
     "metadata": {},
     "output_type": "display_data"
    }
   ],
   "source": [
    "bv.show(df2)"
   ]
  },
  {
   "cell_type": "code",
   "execution_count": null,
   "metadata": {},
   "outputs": [],
   "source": []
  },
  {
   "cell_type": "code",
   "execution_count": 9,
   "metadata": {},
   "outputs": [
    {
     "data": {
      "application/vnd.microsoft.datawrangler.viewer.v0+json": {
       "columns": [
        {
         "name": "index",
         "rawType": "object",
         "type": "string"
        },
        {
         "name": "TV",
         "rawType": "float64",
         "type": "float"
        },
        {
         "name": "Radio",
         "rawType": "float64",
         "type": "float"
        },
        {
         "name": "Newspaper",
         "rawType": "float64",
         "type": "float"
        },
        {
         "name": "Sales",
         "rawType": "float64",
         "type": "float"
        }
       ],
       "conversionMethod": "pd.DataFrame",
       "ref": "e1adc038-238f-4a33-9b4b-129f1d93380a",
       "rows": [
        [
         "TV",
         "1.0",
         "0.05480866446583007",
         "0.05664787496505698",
         "0.7822244248616067"
        ],
        [
         "Radio",
         "0.05480866446583007",
         "1.0",
         "0.3541037507611753",
         "0.5762225745710555"
        ],
        [
         "Newspaper",
         "0.05664787496505698",
         "0.3541037507611753",
         "1.0",
         "0.22829902637616545"
        ],
        [
         "Sales",
         "0.7822244248616067",
         "0.5762225745710555",
         "0.22829902637616545",
         "1.0"
        ]
       ],
       "shape": {
        "columns": 4,
        "rows": 4
       }
      },
      "text/html": [
       "<div>\n",
       "<style scoped>\n",
       "    .dataframe tbody tr th:only-of-type {\n",
       "        vertical-align: middle;\n",
       "    }\n",
       "\n",
       "    .dataframe tbody tr th {\n",
       "        vertical-align: top;\n",
       "    }\n",
       "\n",
       "    .dataframe thead th {\n",
       "        text-align: right;\n",
       "    }\n",
       "</style>\n",
       "<table border=\"1\" class=\"dataframe\">\n",
       "  <thead>\n",
       "    <tr style=\"text-align: right;\">\n",
       "      <th></th>\n",
       "      <th>TV</th>\n",
       "      <th>Radio</th>\n",
       "      <th>Newspaper</th>\n",
       "      <th>Sales</th>\n",
       "    </tr>\n",
       "  </thead>\n",
       "  <tbody>\n",
       "    <tr>\n",
       "      <th>TV</th>\n",
       "      <td>1.000000</td>\n",
       "      <td>0.054809</td>\n",
       "      <td>0.056648</td>\n",
       "      <td>0.782224</td>\n",
       "    </tr>\n",
       "    <tr>\n",
       "      <th>Radio</th>\n",
       "      <td>0.054809</td>\n",
       "      <td>1.000000</td>\n",
       "      <td>0.354104</td>\n",
       "      <td>0.576223</td>\n",
       "    </tr>\n",
       "    <tr>\n",
       "      <th>Newspaper</th>\n",
       "      <td>0.056648</td>\n",
       "      <td>0.354104</td>\n",
       "      <td>1.000000</td>\n",
       "      <td>0.228299</td>\n",
       "    </tr>\n",
       "    <tr>\n",
       "      <th>Sales</th>\n",
       "      <td>0.782224</td>\n",
       "      <td>0.576223</td>\n",
       "      <td>0.228299</td>\n",
       "      <td>1.000000</td>\n",
       "    </tr>\n",
       "  </tbody>\n",
       "</table>\n",
       "</div>"
      ],
      "text/plain": [
       "                 TV     Radio  Newspaper     Sales\n",
       "TV         1.000000  0.054809   0.056648  0.782224\n",
       "Radio      0.054809  1.000000   0.354104  0.576223\n",
       "Newspaper  0.056648  0.354104   1.000000  0.228299\n",
       "Sales      0.782224  0.576223   0.228299  1.000000"
      ]
     },
     "execution_count": 9,
     "metadata": {},
     "output_type": "execute_result"
    }
   ],
   "source": [
    "df2.corr()"
   ]
  },
  {
   "cell_type": "code",
   "execution_count": 37,
   "metadata": {},
   "outputs": [],
   "source": [
    "import pandas as pd\n",
    "import numpy as np\n",
    "import random\n",
    "import uuid\n",
    "from datetime import datetime, timedelta\n",
    "\n",
    "# Set random seed for reproducibility\n",
    "random.seed(42)\n",
    "np.random.seed(42)\n",
    "\n",
    "# Generate 100 rows of mixed messy data\n",
    "num_rows = 100\n",
    "\n",
    "# Generate random dates and times\n",
    "random_dates = [datetime(2023, 1, 1) + timedelta(days=random.randint(0, 365), hours=random.randint(0, 23), minutes=random.randint(0, 59)) for _ in range(num_rows)]\n",
    "random_strings = [\"hello\", \"world\", \"random\", \"data\", \"test\", None, \"string123\", \"45\", \"special@#$%\", \"NaN\"]\n",
    "random_categories = [\"A\", \"B\", \"C\", None, \"D\", \"E\"]\n",
    "random_ip_addresses = [f\"192.168.1.{random.randint(1, 255)}\" for _ in range(num_rows)]\n",
    "\n",
    "# Constructing the DataFrame with messy data\n",
    "data = {\n",
    "    \"ID\": list(range(1, num_rows + 1)),\n",
    "    \"Name\": [random.choice([\"Alice\", \"Bob\", \"Charlie\", \"David\", None, \"Eve\", \"Frank\", \"Grace\"]) for _ in range(num_rows)],\n",
    "    \"Age\": [random.choice([random.randint(18, 70), None]) for _ in range(num_rows)],\n",
    "    \"Salary\": [random.choice([random.uniform(30000, 100000), None, \"$50000\", \"NaN\"]) for _ in range(num_rows)],\n",
    "    \"City\": [random.choice([\"New York\", \"Los Angeles\", \"Chicago\", None, \"San Francisco\", \"Houston\"]) for _ in range(num_rows)],\n",
    "    \"Date_of_Joining\": random_dates,\n",
    "    \"Last_Login\": [random.choice([random.choice(random_dates), \"NaN\", None]) for _ in range(num_rows)],\n",
    "    \"Boolean_Column\": [random.choice([True, False, \"yes\", \"no\", None, \"True\", \"False\"]) for _ in range(num_rows)],\n",
    "    \"Category_Column\": [random.choice(random_categories) for _ in range(num_rows)],\n",
    "    \"IP_Address\": random_ip_addresses,\n",
    "    \"Email\": [random.choice([\"test@example.com\", \"user@gmail.com\", None, \"random@data.com\", \"invalid-email\"]) for _ in range(num_rows)],\n",
    "    \"Currency_Column\": [random.choice([\"$100.50\", \"€200.00\", \"¥3000\", None, \"£50\", \"CHF 75.75\"]) for _ in range(num_rows)],\n",
    "    \"Percentage_Column\": [random.choice([\"50%\", \"75%\", \"100%\", None, \"25%\", \"NaN\"]) for _ in range(num_rows)],\n",
    "    \"Mixed_Column\": [random.choice([\"123\", \"hello\", None, 456, \"78.9\", \"NaN\", \"False\", \"$500\", \"%20\", \"string\"]) for _ in range(num_rows)],\n",
    "    \"List_Column\": [random.choice([[1, 2, 3], [\"a\", \"b\", \"c\"], None, \"random\", \"string\", [\"%\", \"$\", \"€\"]]) for _ in range(num_rows)],\n",
    "    \"Dict_Column\": [random.choice([{\"key\": \"value\"}, None, {\"num\": 123}, \"invalid\"]) for _ in range(num_rows)],\n",
    "    \"UUID_Column\": [str(uuid.uuid4()) if random.random() > 0.1 else None for _ in range(num_rows)],\n",
    "}\n",
    "\n",
    "# Create DataFrame\n",
    "df_messy = pd.DataFrame(data)\n",
    "\n",
    "\n"
   ]
  },
  {
   "cell_type": "code",
   "execution_count": 38,
   "metadata": {},
   "outputs": [
    {
     "data": {
      "text/html": [
       "\n",
       "    <iframe src=\"http://127.0.0.1:5050/?session_id=df_messy\" width=\"100%\" height=\"600px\" style=\"border:none;\"></iframe>\n",
       "    <p style=\"margin-top:10px;\">\n",
       "        <a href=\"http://127.0.0.1:5050/?session_id=df_messy\" target=\"_blank\" style=\"font-size:14px; text-decoration:none; color:#007bff;\">\n",
       "            🔗 Open in Web Browser\n",
       "        </a>\n",
       "    </p>\n",
       "    "
      ],
      "text/plain": [
       "<IPython.core.display.HTML object>"
      ]
     },
     "metadata": {},
     "output_type": "display_data"
    }
   ],
   "source": [
    "\n",
    "bv.show(df_messy)"
   ]
  },
  {
   "cell_type": "code",
   "execution_count": null,
   "metadata": {},
   "outputs": [],
   "source": []
  },
  {
   "cell_type": "code",
   "execution_count": null,
   "metadata": {},
   "outputs": [],
   "source": []
  },
  {
   "cell_type": "code",
   "execution_count": null,
   "metadata": {},
   "outputs": [],
   "source": []
  },
  {
   "cell_type": "code",
   "execution_count": null,
   "metadata": {},
   "outputs": [],
   "source": []
  },
  {
   "cell_type": "code",
   "execution_count": null,
   "metadata": {},
   "outputs": [],
   "source": []
  },
  {
   "cell_type": "code",
   "execution_count": null,
   "metadata": {},
   "outputs": [],
   "source": []
  },
  {
   "cell_type": "code",
   "execution_count": 39,
   "metadata": {},
   "outputs": [],
   "source": [
    "import pandas as pd\n",
    "import numpy as np\n",
    "import json\n",
    "\n",
    "# Create a highly dirty dataset with multiple data types\n",
    "dirty_data = {\n",
    "    \"int_col\": [1, \"two\", None, 4, np.nan, 6, \"?\", 8, None, 10],  # Mixed integers and strings\n",
    "    \"float_col\": [1.5, None, 3.2, np.nan, 5.0, \"six\", 7.89, \"?\", 9.0, None],  # Mixed floats and strings\n",
    "    \"str_col\": [\"apple\", None, \"banana\", \"123\", np.nan, \"cherry\", \"42.5\", \"data\", None, \"grape\"],  # Strings mixed with numbers\n",
    "    \"bool_col\": [True, False, None, True, np.nan, \"yes\", \"no\", 1, 0, None],  # Boolean with mixed representations\n",
    "    \"datetime_col\": [\n",
    "        pd.Timestamp(\"2023-01-01\"), \"2023/02/15\", None, pd.NaT, \n",
    "        \"15-03-2023\", \"April 1, 2023\", \"2023-05-10 12:30\", np.nan, \"invalid_date\", pd.Timestamp(\"2023-06-20\")\n",
    "    ],  # Mixed datetime formats\n",
    "    \"timedelta_col\": [pd.Timedelta(days=1), \"2 days\", None, \"NaT\", \"5 hours\", pd.NaT, \"invalid\", \"30 min\", \"1 week\", \"6 days\"],  # Mixed timedelta\n",
    "    \"category_col\": pd.Categorical([\"A\", \"B\", None, \"D\", np.nan, \"E\", \"F\", \"B\", \"C\", \"D\"]),  # Categories with missing values\n",
    "    \"currency_col\": [\"$10.00\", \"$20.50\", None, np.nan, \"$50.00\", \"€30.00\", \"£15.75\", \"100.00 USD\", \"invalid\", \"$5.99\"],  # Currency formatted\n",
    "    \"percentage_col\": [\"25%\", \"50%\", None, np.nan, \"100%\", \"33.33%\", \"0.85\", \"invalid\", \"75%\", \"10%\"],  # Percentage formatted\n",
    "    \"json_col\": [\n",
    "        '{\"name\": \"Alice\", \"age\": 25}', None, '{}', '{\"city\": \"NY\"}', \n",
    "        np.nan, '[1, 2, 3]', '{\"nested\": {\"key\": \"value\"}}', \"invalid_json\", '[\"a\", \"b\", \"c\"]', None\n",
    "    ],  # JSON and lists\n",
    "    \"mixed_col\": [1, \"two\", 3.5, None, \"NaN\", True, \"False\", pd.Timestamp(\"2023-04-10\"), None, {\"key\": \"value\"}]  # Mixed types\n",
    "}\n",
    "\n",
    "# Convert to DataFrame\n",
    "dirty_df = pd.DataFrame(dirty_data)\n",
    "\n",
    "# Display the DataFrame\n",
    "\n"
   ]
  },
  {
   "cell_type": "code",
   "execution_count": 6,
   "metadata": {},
   "outputs": [
    {
     "data": {
      "application/vnd.microsoft.datawrangler.viewer.v0+json": {
       "columns": [
        {
         "name": "index",
         "rawType": "int64",
         "type": "integer"
        },
        {
         "name": "int_col",
         "rawType": "object",
         "type": "unknown"
        },
        {
         "name": "float_col",
         "rawType": "object",
         "type": "unknown"
        },
        {
         "name": "str_col",
         "rawType": "object",
         "type": "unknown"
        },
        {
         "name": "bool_col",
         "rawType": "object",
         "type": "unknown"
        },
        {
         "name": "datetime_col",
         "rawType": "object",
         "type": "unknown"
        },
        {
         "name": "timedelta_col",
         "rawType": "object",
         "type": "unknown"
        },
        {
         "name": "category_col",
         "rawType": "category",
         "type": "unknown"
        },
        {
         "name": "currency_col",
         "rawType": "object",
         "type": "unknown"
        },
        {
         "name": "percentage_col",
         "rawType": "object",
         "type": "unknown"
        },
        {
         "name": "json_col",
         "rawType": "object",
         "type": "unknown"
        },
        {
         "name": "mixed_col",
         "rawType": "object",
         "type": "unknown"
        }
       ],
       "conversionMethod": "pd.DataFrame",
       "ref": "6a2f3e21-2785-4ded-9eb4-5efbe13b3344",
       "rows": [
        [
         "0",
         "1",
         "1.5",
         "apple",
         "True",
         "2023-01-01 00:00:00",
         "1 days 00:00:00",
         "A",
         "$10.00",
         "25%",
         "{\"name\": \"Alice\", \"age\": 25}",
         "1"
        ],
        [
         "1",
         "two",
         null,
         null,
         "False",
         "2023/02/15",
         "2 days",
         "B",
         "$20.50",
         "50%",
         null,
         "two"
        ],
        [
         "2",
         null,
         "3.2",
         "banana",
         null,
         null,
         null,
         null,
         null,
         null,
         "{}",
         "3.5"
        ],
        [
         "3",
         "4",
         null,
         "123",
         "True",
         null,
         "NaT",
         "D",
         null,
         null,
         "{\"city\": \"NY\"}",
         null
        ],
        [
         "4",
         null,
         "5.0",
         null,
         null,
         "15-03-2023",
         "5 hours",
         null,
         "$50.00",
         "100%",
         null,
         "NaN"
        ],
        [
         "5",
         "6",
         "six",
         "cherry",
         "yes",
         "April 1, 2023",
         null,
         "E",
         "€30.00",
         "33.33%",
         "[1, 2, 3]",
         "True"
        ],
        [
         "6",
         "?",
         "7.89",
         "42.5",
         "no",
         "2023-05-10 12:30",
         "invalid",
         "F",
         "£15.75",
         "0.85",
         "{\"nested\": {\"key\": \"value\"}}",
         "False"
        ],
        [
         "7",
         "8",
         "?",
         "data",
         "1",
         null,
         "30 min",
         "B",
         "100.00 USD",
         "invalid",
         "invalid_json",
         "2023-04-10 00:00:00"
        ],
        [
         "8",
         null,
         "9.0",
         null,
         "0",
         "invalid_date",
         "1 week",
         "C",
         "invalid",
         "75%",
         "[\"a\", \"b\", \"c\"]",
         null
        ],
        [
         "9",
         "10",
         null,
         "grape",
         null,
         "2023-06-20 00:00:00",
         "6 days",
         "D",
         "$5.99",
         "10%",
         null,
         "{'key': 'value'}"
        ]
       ],
       "shape": {
        "columns": 11,
        "rows": 10
       }
      },
      "text/html": [
       "<div>\n",
       "<style scoped>\n",
       "    .dataframe tbody tr th:only-of-type {\n",
       "        vertical-align: middle;\n",
       "    }\n",
       "\n",
       "    .dataframe tbody tr th {\n",
       "        vertical-align: top;\n",
       "    }\n",
       "\n",
       "    .dataframe thead th {\n",
       "        text-align: right;\n",
       "    }\n",
       "</style>\n",
       "<table border=\"1\" class=\"dataframe\">\n",
       "  <thead>\n",
       "    <tr style=\"text-align: right;\">\n",
       "      <th></th>\n",
       "      <th>int_col</th>\n",
       "      <th>float_col</th>\n",
       "      <th>str_col</th>\n",
       "      <th>bool_col</th>\n",
       "      <th>datetime_col</th>\n",
       "      <th>timedelta_col</th>\n",
       "      <th>category_col</th>\n",
       "      <th>currency_col</th>\n",
       "      <th>percentage_col</th>\n",
       "      <th>json_col</th>\n",
       "      <th>mixed_col</th>\n",
       "    </tr>\n",
       "  </thead>\n",
       "  <tbody>\n",
       "    <tr>\n",
       "      <th>0</th>\n",
       "      <td>1</td>\n",
       "      <td>1.5</td>\n",
       "      <td>apple</td>\n",
       "      <td>True</td>\n",
       "      <td>2023-01-01 00:00:00</td>\n",
       "      <td>1 days 00:00:00</td>\n",
       "      <td>A</td>\n",
       "      <td>$10.00</td>\n",
       "      <td>25%</td>\n",
       "      <td>{\"name\": \"Alice\", \"age\": 25}</td>\n",
       "      <td>1</td>\n",
       "    </tr>\n",
       "    <tr>\n",
       "      <th>1</th>\n",
       "      <td>two</td>\n",
       "      <td>None</td>\n",
       "      <td>None</td>\n",
       "      <td>False</td>\n",
       "      <td>2023/02/15</td>\n",
       "      <td>2 days</td>\n",
       "      <td>B</td>\n",
       "      <td>$20.50</td>\n",
       "      <td>50%</td>\n",
       "      <td>None</td>\n",
       "      <td>two</td>\n",
       "    </tr>\n",
       "    <tr>\n",
       "      <th>2</th>\n",
       "      <td>None</td>\n",
       "      <td>3.2</td>\n",
       "      <td>banana</td>\n",
       "      <td>None</td>\n",
       "      <td>None</td>\n",
       "      <td>None</td>\n",
       "      <td>NaN</td>\n",
       "      <td>None</td>\n",
       "      <td>None</td>\n",
       "      <td>{}</td>\n",
       "      <td>3.5</td>\n",
       "    </tr>\n",
       "    <tr>\n",
       "      <th>3</th>\n",
       "      <td>4</td>\n",
       "      <td>NaN</td>\n",
       "      <td>123</td>\n",
       "      <td>True</td>\n",
       "      <td>NaT</td>\n",
       "      <td>NaT</td>\n",
       "      <td>D</td>\n",
       "      <td>NaN</td>\n",
       "      <td>NaN</td>\n",
       "      <td>{\"city\": \"NY\"}</td>\n",
       "      <td>None</td>\n",
       "    </tr>\n",
       "    <tr>\n",
       "      <th>4</th>\n",
       "      <td>NaN</td>\n",
       "      <td>5.0</td>\n",
       "      <td>NaN</td>\n",
       "      <td>NaN</td>\n",
       "      <td>15-03-2023</td>\n",
       "      <td>5 hours</td>\n",
       "      <td>NaN</td>\n",
       "      <td>$50.00</td>\n",
       "      <td>100%</td>\n",
       "      <td>NaN</td>\n",
       "      <td>NaN</td>\n",
       "    </tr>\n",
       "    <tr>\n",
       "      <th>5</th>\n",
       "      <td>6</td>\n",
       "      <td>six</td>\n",
       "      <td>cherry</td>\n",
       "      <td>yes</td>\n",
       "      <td>April 1, 2023</td>\n",
       "      <td>NaT</td>\n",
       "      <td>E</td>\n",
       "      <td>€30.00</td>\n",
       "      <td>33.33%</td>\n",
       "      <td>[1, 2, 3]</td>\n",
       "      <td>True</td>\n",
       "    </tr>\n",
       "    <tr>\n",
       "      <th>6</th>\n",
       "      <td>?</td>\n",
       "      <td>7.89</td>\n",
       "      <td>42.5</td>\n",
       "      <td>no</td>\n",
       "      <td>2023-05-10 12:30</td>\n",
       "      <td>invalid</td>\n",
       "      <td>F</td>\n",
       "      <td>£15.75</td>\n",
       "      <td>0.85</td>\n",
       "      <td>{\"nested\": {\"key\": \"value\"}}</td>\n",
       "      <td>False</td>\n",
       "    </tr>\n",
       "    <tr>\n",
       "      <th>7</th>\n",
       "      <td>8</td>\n",
       "      <td>?</td>\n",
       "      <td>data</td>\n",
       "      <td>1</td>\n",
       "      <td>NaN</td>\n",
       "      <td>30 min</td>\n",
       "      <td>B</td>\n",
       "      <td>100.00 USD</td>\n",
       "      <td>invalid</td>\n",
       "      <td>invalid_json</td>\n",
       "      <td>2023-04-10 00:00:00</td>\n",
       "    </tr>\n",
       "    <tr>\n",
       "      <th>8</th>\n",
       "      <td>None</td>\n",
       "      <td>9.0</td>\n",
       "      <td>None</td>\n",
       "      <td>0</td>\n",
       "      <td>invalid_date</td>\n",
       "      <td>1 week</td>\n",
       "      <td>C</td>\n",
       "      <td>invalid</td>\n",
       "      <td>75%</td>\n",
       "      <td>[\"a\", \"b\", \"c\"]</td>\n",
       "      <td>None</td>\n",
       "    </tr>\n",
       "    <tr>\n",
       "      <th>9</th>\n",
       "      <td>10</td>\n",
       "      <td>None</td>\n",
       "      <td>grape</td>\n",
       "      <td>None</td>\n",
       "      <td>2023-06-20 00:00:00</td>\n",
       "      <td>6 days</td>\n",
       "      <td>D</td>\n",
       "      <td>$5.99</td>\n",
       "      <td>10%</td>\n",
       "      <td>None</td>\n",
       "      <td>{'key': 'value'}</td>\n",
       "    </tr>\n",
       "  </tbody>\n",
       "</table>\n",
       "</div>"
      ],
      "text/plain": [
       "  int_col float_col str_col bool_col         datetime_col    timedelta_col  \\\n",
       "0       1       1.5   apple     True  2023-01-01 00:00:00  1 days 00:00:00   \n",
       "1     two      None    None    False           2023/02/15           2 days   \n",
       "2    None       3.2  banana     None                 None             None   \n",
       "3       4       NaN     123     True                  NaT              NaT   \n",
       "4     NaN       5.0     NaN      NaN           15-03-2023          5 hours   \n",
       "5       6       six  cherry      yes        April 1, 2023              NaT   \n",
       "6       ?      7.89    42.5       no     2023-05-10 12:30          invalid   \n",
       "7       8         ?    data        1                  NaN           30 min   \n",
       "8    None       9.0    None        0         invalid_date           1 week   \n",
       "9      10      None   grape     None  2023-06-20 00:00:00           6 days   \n",
       "\n",
       "  category_col currency_col percentage_col                      json_col  \\\n",
       "0            A       $10.00            25%  {\"name\": \"Alice\", \"age\": 25}   \n",
       "1            B       $20.50            50%                          None   \n",
       "2          NaN         None           None                            {}   \n",
       "3            D          NaN            NaN                {\"city\": \"NY\"}   \n",
       "4          NaN       $50.00           100%                           NaN   \n",
       "5            E       €30.00         33.33%                     [1, 2, 3]   \n",
       "6            F       £15.75           0.85  {\"nested\": {\"key\": \"value\"}}   \n",
       "7            B   100.00 USD        invalid                  invalid_json   \n",
       "8            C      invalid            75%               [\"a\", \"b\", \"c\"]   \n",
       "9            D        $5.99            10%                          None   \n",
       "\n",
       "             mixed_col  \n",
       "0                    1  \n",
       "1                  two  \n",
       "2                  3.5  \n",
       "3                 None  \n",
       "4                  NaN  \n",
       "5                 True  \n",
       "6                False  \n",
       "7  2023-04-10 00:00:00  \n",
       "8                 None  \n",
       "9     {'key': 'value'}  "
      ]
     },
     "execution_count": 6,
     "metadata": {},
     "output_type": "execute_result"
    }
   ],
   "source": [
    "dirty_df.head(14)"
   ]
  },
  {
   "cell_type": "code",
   "execution_count": null,
   "metadata": {},
   "outputs": [],
   "source": []
  },
  {
   "cell_type": "code",
   "execution_count": null,
   "metadata": {},
   "outputs": [],
   "source": []
  },
  {
   "cell_type": "code",
   "execution_count": null,
   "metadata": {},
   "outputs": [],
   "source": []
  },
  {
   "cell_type": "code",
   "execution_count": 41,
   "metadata": {},
   "outputs": [],
   "source": [
    "import pandas as pd\n",
    "import numpy as np\n",
    "import json\n",
    "\n",
    "# Generate a highly complex and diverse DataFrame\n",
    "data = {\n",
    "    \"int_col\": [1, 2, None, 4, np.nan, -100, 9999999],\n",
    "    \"float_col\": [1.5, None, 3.2, np.nan, 5.0, -10.75, 3.141592],\n",
    "    \"str_col\": [\"apple\", None, \"banana\", \"cherry\", np.nan, \"123\", \"special_char_!@#\"],\n",
    "    \"bool_col\": [True, False, None, True, np.nan, False, True],\n",
    "    \"datetime_col\": [\n",
    "        pd.Timestamp(\"2023-01-01\"),\n",
    "        None,\n",
    "        pd.NaT,\n",
    "        pd.Timestamp(\"2023-04-01\"),\n",
    "        pd.NaT,\n",
    "        pd.Timestamp(\"1999-12-31\"),\n",
    "        pd.Timestamp(\"2050-06-15 12:45:30\")\n",
    "    ],\n",
    "    \"timedelta_col\": [\n",
    "        pd.Timedelta(days=1),\n",
    "        None,\n",
    "        pd.NaT,\n",
    "        pd.Timedelta(days=4, hours=5, minutes=30),\n",
    "        pd.NaT,\n",
    "        pd.Timedelta(seconds=3600),\n",
    "        pd.Timedelta(weeks=3)\n",
    "    ],\n",
    "    \"category_col\": pd.Categorical([\"A\", \"B\", None, \"D\", np.nan, \"E\", \"F\"]),\n",
    "    \"currency_col\": [\"$10.00\", \"$20.50\", None, \"NaN\", \"€50.00\", \"£100.75\", \"¥5000\"],\n",
    "    \"percentage_col\": [\"25%\", \"50%\", None, \"NaN\", \"100%\", \"12.5%\", \"87.3%\"],\n",
    "    \"json_col\": [\n",
    "        json.dumps({\"key\": \"value\"}),\n",
    "        json.dumps({\"number\": 123}),\n",
    "        None,\n",
    "        json.dumps({\"bool\": True}),\n",
    "        json.dumps({\"list\": [1, 2, 3]}),\n",
    "        json.dumps({\"nested\": {\"a\": 1, \"b\": [4, 5, 6]}}),\n",
    "        json.dumps({\"special_chars\": \"!@#$%^&*()\"})\n",
    "    ],\n",
    "    \"mixed_col\": [10, \"string\", None, 3.5, True, pd.Timestamp(\"2025-01-01\"), {}],\n",
    "}\n",
    "\n",
    "# Create DataFrame\n",
    "df_complex = pd.DataFrame(data)\n",
    "\n",
    "\n"
   ]
  },
  {
   "cell_type": "code",
   "execution_count": 42,
   "metadata": {},
   "outputs": [
    {
     "data": {
      "text/html": [
       "\n",
       "    <iframe src=\"http://127.0.0.1:5050/?session_id=df_complex\" width=\"100%\" height=\"600px\" style=\"border:none;\"></iframe>\n",
       "    <p style=\"margin-top:10px;\">\n",
       "        <a href=\"http://127.0.0.1:5050/?session_id=df_complex\" target=\"_blank\" style=\"font-size:14px; text-decoration:none; color:#007bff;\">\n",
       "            🔗 Open in Web Browser\n",
       "        </a>\n",
       "    </p>\n",
       "    "
      ],
      "text/plain": [
       "<IPython.core.display.HTML object>"
      ]
     },
     "metadata": {},
     "output_type": "display_data"
    }
   ],
   "source": [
    "bv.show(df_complex)"
   ]
  }
 ],
 "metadata": {
  "kernelspec": {
   "display_name": "venv",
   "language": "python",
   "name": "python3"
  },
  "language_info": {
   "codemirror_mode": {
    "name": "ipython",
    "version": 3
   },
   "file_extension": ".py",
   "mimetype": "text/x-python",
   "name": "python",
   "nbconvert_exporter": "python",
   "pygments_lexer": "ipython3",
   "version": "3.10.16"
  }
 },
 "nbformat": 4,
 "nbformat_minor": 2
}
