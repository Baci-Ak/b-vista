{
 "cells": [
  {
   "cell_type": "code",
   "execution_count": null,
   "metadata": {},
   "outputs": [],
   "source": []
  },
  {
   "cell_type": "code",
   "execution_count": 3,
   "metadata": {},
   "outputs": [
    {
     "name": "stderr",
     "output_type": "stream",
     "text": [
      "/var/folders/z0/_53pqkc52j94k8cbwvw_qgf40000gn/T/ipykernel_17181/1306418026.py:18: FutureWarning: 'T' is deprecated and will be removed in a future version, please use 'min' instead.\n",
      "  data[\"timestamp\"] = pd.date_range(\"2023-01-01\", periods=num_rows, freq=\"T\")  # Datetime\n"
     ]
    }
   ],
   "source": [
    "import pandas as pd\n",
    "import numpy as np\n",
    "import bvista as bv\n",
    "\n",
    "# ✅ Define number of rows & columns\n",
    "num_rows = 100  # 100,000 rows\n",
    "num_cols = 50  # 50 columns\n",
    "\n",
    "# ✅ Generate random data\n",
    "data = {\n",
    "    f\"col_{i}\": np.random.randint(0, 1000, size=num_rows) if i % 2 == 0 else np.random.random(num_rows)\n",
    "    for i in range(num_cols)\n",
    "}\n",
    "\n",
    "# ✅ Add diverse data types\n",
    "data[\"id\"] = np.arange(1, num_rows + 1)  # Unique IDs\n",
    "data[\"category\"] = np.random.choice([\"A\", \"B\", \"C\", \"D\"], size=num_rows)  # Categorical\n",
    "data[\"timestamp\"] = pd.date_range(\"2023-01-01\", periods=num_rows, freq=\"T\")  # Datetime\n",
    "data[\"boolean\"] = np.random.choice([True, False], size=num_rows)  # Boolean\n",
    "data[\"text\"] = np.random.choice([\"hello\", \"world\", \"test\", \"data\"], size=num_rows)  # Text column\n",
    "\n",
    "# ✅ Create DataFrame\n",
    "df6 = pd.DataFrame(data)\n",
    "\n",
    "\n"
   ]
  },
  {
   "cell_type": "code",
   "execution_count": 17,
   "metadata": {},
   "outputs": [
    {
     "data": {
      "text/html": [
       "\n",
       "    <iframe src=\"http://127.0.0.1:5050/?session_id=df6\" width=\"100%\" height=\"600px\" style=\"border:none;\"></iframe>\n",
       "    <p style=\"margin-top:10px;\">\n",
       "        <a href=\"http://127.0.0.1:5050/?session_id=df6\" target=\"_blank\" style=\"font-size:14px; text-decoration:none; color:#007bff;\">\n",
       "            🔗 Open in Web Browser\n",
       "        </a>\n",
       "    </p>\n",
       "    "
      ],
      "text/plain": [
       "<IPython.core.display.HTML object>"
      ]
     },
     "metadata": {},
     "output_type": "display_data"
    }
   ],
   "source": [
    "bv.show(df6)"
   ]
  },
  {
   "cell_type": "code",
   "execution_count": 1,
   "metadata": {},
   "outputs": [],
   "source": [
    "import pandas as pd\n",
    "import numpy as np\n",
    "\n",
    "\n",
    "# ✅ Create a sample DataFrame with missing values\n",
    "data = {\n",
    "    \"ID\": [1, 2, 3, 4, 5],\n",
    "    \"Name\": [\"Alice\", \"Bob\", None, \"David\", \"Eve\"],\n",
    "    \"Age\": [25, np.nan, 30, None, 28],\n",
    "    \"City\": [\"New York\", \"\", \"Los Angeles\", \"Chicago\", None],\n",
    "    \"Salary\": [50000, 60000, np.nan, 55000, \"\"],\n",
    "}\n",
    "\n",
    "df1 = pd.DataFrame(data)\n",
    "\n",
    "\n"
   ]
  },
  {
   "cell_type": "code",
   "execution_count": 18,
   "metadata": {},
   "outputs": [
    {
     "data": {
      "text/html": [
       "\n",
       "    <iframe src=\"http://127.0.0.1:5050/?session_id=df1\" width=\"100%\" height=\"600px\" style=\"border:none;\"></iframe>\n",
       "    <p style=\"margin-top:10px;\">\n",
       "        <a href=\"http://127.0.0.1:5050/?session_id=df1\" target=\"_blank\" style=\"font-size:14px; text-decoration:none; color:#007bff;\">\n",
       "            🔗 Open in Web Browser\n",
       "        </a>\n",
       "    </p>\n",
       "    "
      ],
      "text/plain": [
       "<IPython.core.display.HTML object>"
      ]
     },
     "metadata": {},
     "output_type": "display_data"
    }
   ],
   "source": [
    "import bvista as bv\n",
    "bv.show(df1)"
   ]
  },
  {
   "cell_type": "code",
   "execution_count": 3,
   "metadata": {},
   "outputs": [
    {
     "data": {
      "application/vnd.microsoft.datawrangler.viewer.v0+json": {
       "columns": [
        {
         "name": "index",
         "rawType": "int64",
         "type": "integer"
        },
        {
         "name": "ID",
         "rawType": "int64",
         "type": "integer"
        },
        {
         "name": "Name",
         "rawType": "float64",
         "type": "float"
        },
        {
         "name": "Age",
         "rawType": "float64",
         "type": "float"
        },
        {
         "name": "City",
         "rawType": "float64",
         "type": "float"
        },
        {
         "name": "Salary",
         "rawType": "float64",
         "type": "float"
        }
       ],
       "conversionMethod": "pd.DataFrame",
       "ref": "50723d96-a2ff-4fa8-92d2-b764b6151f30",
       "rows": [
        [
         "0",
         "1",
         null,
         "25.0",
         null,
         "50000.0"
        ],
        [
         "1",
         "2",
         null,
         null,
         null,
         "60000.0"
        ],
        [
         "2",
         "3",
         null,
         "30.0",
         null,
         null
        ],
        [
         "3",
         "4",
         null,
         null,
         null,
         "55000.0"
        ],
        [
         "4",
         "5",
         null,
         "28.0",
         null,
         null
        ]
       ],
       "shape": {
        "columns": 5,
        "rows": 5
       }
      },
      "text/html": [
       "<div>\n",
       "<style scoped>\n",
       "    .dataframe tbody tr th:only-of-type {\n",
       "        vertical-align: middle;\n",
       "    }\n",
       "\n",
       "    .dataframe tbody tr th {\n",
       "        vertical-align: top;\n",
       "    }\n",
       "\n",
       "    .dataframe thead th {\n",
       "        text-align: right;\n",
       "    }\n",
       "</style>\n",
       "<table border=\"1\" class=\"dataframe\">\n",
       "  <thead>\n",
       "    <tr style=\"text-align: right;\">\n",
       "      <th></th>\n",
       "      <th>ID</th>\n",
       "      <th>Name</th>\n",
       "      <th>Age</th>\n",
       "      <th>City</th>\n",
       "      <th>Salary</th>\n",
       "    </tr>\n",
       "  </thead>\n",
       "  <tbody>\n",
       "    <tr>\n",
       "      <th>0</th>\n",
       "      <td>1</td>\n",
       "      <td>NaN</td>\n",
       "      <td>25.0</td>\n",
       "      <td>NaN</td>\n",
       "      <td>50000.0</td>\n",
       "    </tr>\n",
       "    <tr>\n",
       "      <th>1</th>\n",
       "      <td>2</td>\n",
       "      <td>NaN</td>\n",
       "      <td>NaN</td>\n",
       "      <td>NaN</td>\n",
       "      <td>60000.0</td>\n",
       "    </tr>\n",
       "    <tr>\n",
       "      <th>2</th>\n",
       "      <td>3</td>\n",
       "      <td>NaN</td>\n",
       "      <td>30.0</td>\n",
       "      <td>NaN</td>\n",
       "      <td>NaN</td>\n",
       "    </tr>\n",
       "    <tr>\n",
       "      <th>3</th>\n",
       "      <td>4</td>\n",
       "      <td>NaN</td>\n",
       "      <td>NaN</td>\n",
       "      <td>NaN</td>\n",
       "      <td>55000.0</td>\n",
       "    </tr>\n",
       "    <tr>\n",
       "      <th>4</th>\n",
       "      <td>5</td>\n",
       "      <td>NaN</td>\n",
       "      <td>28.0</td>\n",
       "      <td>NaN</td>\n",
       "      <td>NaN</td>\n",
       "    </tr>\n",
       "  </tbody>\n",
       "</table>\n",
       "</div>"
      ],
      "text/plain": [
       "   ID  Name   Age  City   Salary\n",
       "0   1   NaN  25.0   NaN  50000.0\n",
       "1   2   NaN   NaN   NaN  60000.0\n",
       "2   3   NaN  30.0   NaN      NaN\n",
       "3   4   NaN   NaN   NaN  55000.0\n",
       "4   5   NaN  28.0   NaN      NaN"
      ]
     },
     "execution_count": 3,
     "metadata": {},
     "output_type": "execute_result"
    }
   ],
   "source": [
    "ds = df1.apply(pd.to_numeric, errors='coerce')\n",
    "ds.head()"
   ]
  },
  {
   "cell_type": "code",
   "execution_count": 4,
   "metadata": {},
   "outputs": [
    {
     "data": {
      "text/plain": [
       "ID          int64\n",
       "Name      float64\n",
       "Age       float64\n",
       "City      float64\n",
       "Salary    float64\n",
       "dtype: object"
      ]
     },
     "execution_count": 4,
     "metadata": {},
     "output_type": "execute_result"
    }
   ],
   "source": [
    "ds.dtypes"
   ]
  },
  {
   "cell_type": "code",
   "execution_count": null,
   "metadata": {},
   "outputs": [],
   "source": []
  },
  {
   "cell_type": "code",
   "execution_count": null,
   "metadata": {},
   "outputs": [],
   "source": [
    "import pandas as pd\n",
    "import numpy as np\n",
    "import seaborn as sns\n",
    "import matplotlib.pyplot as plt\n",
    "\n",
    "# Set random seed for reproducibility\n",
    "np.random.seed(42)\n",
    "\n",
    "# Generate random data\n",
    "n = 100  # Number of samples\n",
    "\n",
    "# Perfect positive correlation (+1)\n",
    "x1 = np.linspace(1, 100, n)\n",
    "x2 = x1  # Perfectly correlated\n",
    "\n",
    "# Perfect negative correlation (-1)\n",
    "x3 = -x1  # Perfectly anti-correlated\n",
    "\n",
    "# High positive correlation (~0.8)\n",
    "x4 = x1 * 0.8 + np.random.normal(0, 5, n)\n",
    "\n",
    "# High negative correlation (~-0.8)\n",
    "x5 = -x1 * 0.8 + np.random.normal(0, 5, n)\n",
    "\n",
    "# Low positive correlation (~0.3)\n",
    "x6 = x1 * 0.3 + np.random.normal(0, 10, n)\n",
    "\n",
    "# Low negative correlation (~-0.3)\n",
    "x7 = -x1 * 0.3 + np.random.normal(0, 10, n)\n",
    "\n",
    "# No correlation (~0.0)\n",
    "x8 = np.random.normal(50, 25, n)\n",
    "\n",
    "# Create DataFrame\n",
    "df7 = pd.DataFrame({\n",
    "    \"Perfect_Positive\": x1,\n",
    "    \"Perfect_Negative\": x3,\n",
    "    \"High_Positive\": x4,\n",
    "    \"High_Negative\": x5,\n",
    "    \"Low_Positive\": x6,\n",
    "    \"Low_Negative\": x7,\n",
    "    \"No_Correlation\": x8\n",
    "})\n",
    "\n",
    "\n",
    "\n",
    "\n"
   ]
  },
  {
   "cell_type": "code",
   "execution_count": 10,
   "metadata": {},
   "outputs": [
    {
     "data": {
      "image/png": "[encoded data removed]",
      "text/plain": [
       "<Figure size 2000x1600 with 2 Axes>"
      ]
     },
     "metadata": {},
     "output_type": "display_data"
    }
   ],
   "source": [
    "\n",
    "# Calculate the correlation matrix\n",
    "correlation_matrix2 = df7.corr()\n",
    "#correlation_matrix                                             \n",
    "# Create a heatmap to visualize the correlations\n",
    "plt.figure(figsize=(20, 16))\n",
    "sns.heatmap(correlation_matrix2, annot=True, cmap='coolwarm', linewidths=1, square=True, fmt='.2f', annot_kws={'size': 20, 'weight': 'bold'}, vmin=-1, vmax=1)\n",
    "plt.title('Relationship Between the Indicators and the SDG3 Composite Index ', fontsize=30, fontweight='bold')\n",
    "plt.xticks(fontweight='bold', fontsize=18)\n",
    "plt.yticks(fontweight='bold', fontsize=18)\n",
    "plt.show()   "
   ]
  },
  {
   "cell_type": "code",
   "execution_count": null,
   "metadata": {},
   "outputs": [],
   "source": []
  },
  {
   "cell_type": "code",
   "execution_count": null,
   "metadata": {},
   "outputs": [],
   "source": []
  },
  {
   "cell_type": "code",
   "execution_count": 22,
   "metadata": {},
   "outputs": [
    {
     "data": {
      "text/html": [
       "\n",
       "    <iframe src=\"http://127.0.0.1:5050/?session_id=df7\" width=\"100%\" height=\"600px\" style=\"border:none;\"></iframe>\n",
       "    <p style=\"margin-top:10px;\">\n",
       "        <a href=\"http://127.0.0.1:5050/?session_id=df7\" target=\"_blank\" style=\"font-size:14px; text-decoration:none; color:#007bff;\">\n",
       "            🔗 Open in Web Browser\n",
       "        </a>\n",
       "    </p>\n",
       "    "
      ],
      "text/plain": [
       "<IPython.core.display.HTML object>"
      ]
     },
     "metadata": {},
     "output_type": "display_data"
    }
   ],
   "source": [
    "bv.show(df7)"
   ]
  },
  {
   "cell_type": "code",
   "execution_count": null,
   "metadata": {},
   "outputs": [],
   "source": []
  },
  {
   "cell_type": "code",
   "execution_count": null,
   "metadata": {},
   "outputs": [],
   "source": []
  },
  {
   "cell_type": "code",
   "execution_count": null,
   "metadata": {},
   "outputs": [],
   "source": []
  },
  {
   "cell_type": "code",
   "execution_count": null,
   "metadata": {},
   "outputs": [],
   "source": []
  },
  {
   "cell_type": "code",
   "execution_count": 7,
   "metadata": {},
   "outputs": [],
   "source": [
    "numeric_cols = ds.select_dtypes(include=['number']).corr()"
   ]
  },
  {
   "cell_type": "code",
   "execution_count": 8,
   "metadata": {},
   "outputs": [
    {
     "data": {
      "application/vnd.microsoft.datawrangler.viewer.v0+json": {
       "columns": [
        {
         "name": "index",
         "rawType": "object",
         "type": "string"
        },
        {
         "name": "ID",
         "rawType": "float64",
         "type": "float"
        },
        {
         "name": "Name",
         "rawType": "float64",
         "type": "float"
        },
        {
         "name": "Age",
         "rawType": "float64",
         "type": "float"
        },
        {
         "name": "City",
         "rawType": "float64",
         "type": "float"
        },
        {
         "name": "Salary",
         "rawType": "float64",
         "type": "float"
        }
       ],
       "conversionMethod": "pd.DataFrame",
       "ref": "4a5eb03f-c271-4d93-95b3-ea212d43ded2",
       "rows": [
        [
         "ID",
         "1.0",
         null,
         "0.5960395606792693",
         null,
         "0.3273268353539886"
        ],
        [
         "Name",
         null,
         null,
         null,
         null,
         null
        ],
        [
         "Age",
         "0.5960395606792693",
         null,
         "1.0",
         null,
         null
        ],
        [
         "City",
         null,
         null,
         null,
         null,
         null
        ],
        [
         "Salary",
         "0.3273268353539886",
         null,
         null,
         null,
         "1.0"
        ]
       ],
       "shape": {
        "columns": 5,
        "rows": 5
       }
      },
      "text/html": [
       "<div>\n",
       "<style scoped>\n",
       "    .dataframe tbody tr th:only-of-type {\n",
       "        vertical-align: middle;\n",
       "    }\n",
       "\n",
       "    .dataframe tbody tr th {\n",
       "        vertical-align: top;\n",
       "    }\n",
       "\n",
       "    .dataframe thead th {\n",
       "        text-align: right;\n",
       "    }\n",
       "</style>\n",
       "<table border=\"1\" class=\"dataframe\">\n",
       "  <thead>\n",
       "    <tr style=\"text-align: right;\">\n",
       "      <th></th>\n",
       "      <th>ID</th>\n",
       "      <th>Name</th>\n",
       "      <th>Age</th>\n",
       "      <th>City</th>\n",
       "      <th>Salary</th>\n",
       "    </tr>\n",
       "  </thead>\n",
       "  <tbody>\n",
       "    <tr>\n",
       "      <th>ID</th>\n",
       "      <td>1.000000</td>\n",
       "      <td>NaN</td>\n",
       "      <td>0.59604</td>\n",
       "      <td>NaN</td>\n",
       "      <td>0.327327</td>\n",
       "    </tr>\n",
       "    <tr>\n",
       "      <th>Name</th>\n",
       "      <td>NaN</td>\n",
       "      <td>NaN</td>\n",
       "      <td>NaN</td>\n",
       "      <td>NaN</td>\n",
       "      <td>NaN</td>\n",
       "    </tr>\n",
       "    <tr>\n",
       "      <th>Age</th>\n",
       "      <td>0.596040</td>\n",
       "      <td>NaN</td>\n",
       "      <td>1.00000</td>\n",
       "      <td>NaN</td>\n",
       "      <td>NaN</td>\n",
       "    </tr>\n",
       "    <tr>\n",
       "      <th>City</th>\n",
       "      <td>NaN</td>\n",
       "      <td>NaN</td>\n",
       "      <td>NaN</td>\n",
       "      <td>NaN</td>\n",
       "      <td>NaN</td>\n",
       "    </tr>\n",
       "    <tr>\n",
       "      <th>Salary</th>\n",
       "      <td>0.327327</td>\n",
       "      <td>NaN</td>\n",
       "      <td>NaN</td>\n",
       "      <td>NaN</td>\n",
       "      <td>1.000000</td>\n",
       "    </tr>\n",
       "  </tbody>\n",
       "</table>\n",
       "</div>"
      ],
      "text/plain": [
       "              ID  Name      Age  City    Salary\n",
       "ID      1.000000   NaN  0.59604   NaN  0.327327\n",
       "Name         NaN   NaN      NaN   NaN       NaN\n",
       "Age     0.596040   NaN  1.00000   NaN       NaN\n",
       "City         NaN   NaN      NaN   NaN       NaN\n",
       "Salary  0.327327   NaN      NaN   NaN  1.000000"
      ]
     },
     "execution_count": 8,
     "metadata": {},
     "output_type": "execute_result"
    }
   ],
   "source": [
    "numeric_cols"
   ]
  },
  {
   "cell_type": "code",
   "execution_count": 4,
   "metadata": {},
   "outputs": [
    {
     "data": {
      "text/plain": [
       "ID        0\n",
       "Name      1\n",
       "Age       2\n",
       "City      1\n",
       "Salary    1\n",
       "dtype: int64"
      ]
     },
     "execution_count": 4,
     "metadata": {},
     "output_type": "execute_result"
    }
   ],
   "source": [
    "df1.isnull().sum()"
   ]
  },
  {
   "cell_type": "code",
   "execution_count": null,
   "metadata": {},
   "outputs": [],
   "source": []
  },
  {
   "cell_type": "code",
   "execution_count": null,
   "metadata": {},
   "outputs": [],
   "source": []
  },
  {
   "cell_type": "code",
   "execution_count": 3,
   "metadata": {},
   "outputs": [
    {
     "data": {
      "application/vnd.microsoft.datawrangler.viewer.v0+json": {
       "columns": [
        {
         "name": "index",
         "rawType": "object",
         "type": "string"
        },
        {
         "name": "ID",
         "rawType": "float64",
         "type": "float"
        },
        {
         "name": "Age",
         "rawType": "float64",
         "type": "float"
        }
       ],
       "conversionMethod": "pd.DataFrame",
       "ref": "a7f62f23-e65e-44e2-bcba-3eac473e04dd",
       "rows": [
        [
         "count",
         "5.0",
         "3.0"
        ],
        [
         "mean",
         "3.0",
         "27.666666666666668"
        ],
        [
         "std",
         "1.5811388300841898",
         "2.5166114784235836"
        ],
        [
         "min",
         "1.0",
         "25.0"
        ],
        [
         "25%",
         "2.0",
         "26.5"
        ],
        [
         "50%",
         "3.0",
         "28.0"
        ],
        [
         "75%",
         "4.0",
         "29.0"
        ],
        [
         "max",
         "5.0",
         "30.0"
        ]
       ],
       "shape": {
        "columns": 2,
        "rows": 8
       }
      },
      "text/html": [
       "<div>\n",
       "<style scoped>\n",
       "    .dataframe tbody tr th:only-of-type {\n",
       "        vertical-align: middle;\n",
       "    }\n",
       "\n",
       "    .dataframe tbody tr th {\n",
       "        vertical-align: top;\n",
       "    }\n",
       "\n",
       "    .dataframe thead th {\n",
       "        text-align: right;\n",
       "    }\n",
       "</style>\n",
       "<table border=\"1\" class=\"dataframe\">\n",
       "  <thead>\n",
       "    <tr style=\"text-align: right;\">\n",
       "      <th></th>\n",
       "      <th>ID</th>\n",
       "      <th>Age</th>\n",
       "    </tr>\n",
       "  </thead>\n",
       "  <tbody>\n",
       "    <tr>\n",
       "      <th>count</th>\n",
       "      <td>5.000000</td>\n",
       "      <td>3.000000</td>\n",
       "    </tr>\n",
       "    <tr>\n",
       "      <th>mean</th>\n",
       "      <td>3.000000</td>\n",
       "      <td>27.666667</td>\n",
       "    </tr>\n",
       "    <tr>\n",
       "      <th>std</th>\n",
       "      <td>1.581139</td>\n",
       "      <td>2.516611</td>\n",
       "    </tr>\n",
       "    <tr>\n",
       "      <th>min</th>\n",
       "      <td>1.000000</td>\n",
       "      <td>25.000000</td>\n",
       "    </tr>\n",
       "    <tr>\n",
       "      <th>25%</th>\n",
       "      <td>2.000000</td>\n",
       "      <td>26.500000</td>\n",
       "    </tr>\n",
       "    <tr>\n",
       "      <th>50%</th>\n",
       "      <td>3.000000</td>\n",
       "      <td>28.000000</td>\n",
       "    </tr>\n",
       "    <tr>\n",
       "      <th>75%</th>\n",
       "      <td>4.000000</td>\n",
       "      <td>29.000000</td>\n",
       "    </tr>\n",
       "    <tr>\n",
       "      <th>max</th>\n",
       "      <td>5.000000</td>\n",
       "      <td>30.000000</td>\n",
       "    </tr>\n",
       "  </tbody>\n",
       "</table>\n",
       "</div>"
      ],
      "text/plain": [
       "             ID        Age\n",
       "count  5.000000   3.000000\n",
       "mean   3.000000  27.666667\n",
       "std    1.581139   2.516611\n",
       "min    1.000000  25.000000\n",
       "25%    2.000000  26.500000\n",
       "50%    3.000000  28.000000\n",
       "75%    4.000000  29.000000\n",
       "max    5.000000  30.000000"
      ]
     },
     "execution_count": 3,
     "metadata": {},
     "output_type": "execute_result"
    }
   ],
   "source": [
    "df1.describe()"
   ]
  },
  {
   "cell_type": "code",
   "execution_count": 3,
   "metadata": {},
   "outputs": [
    {
     "data": {
      "application/vnd.microsoft.datawrangler.viewer.v0+json": {
       "columns": [
        {
         "name": "index",
         "rawType": "object",
         "type": "string"
        },
        {
         "name": "ID",
         "rawType": "float64",
         "type": "float"
        },
        {
         "name": "Name",
         "rawType": "object",
         "type": "unknown"
        },
        {
         "name": "Age",
         "rawType": "float64",
         "type": "float"
        },
        {
         "name": "City",
         "rawType": "object",
         "type": "unknown"
        },
        {
         "name": "Salary",
         "rawType": "float64",
         "type": "float"
        }
       ],
       "conversionMethod": "pd.DataFrame",
       "ref": "4583cb11-5633-4c5e-9fe6-2386bbbdf82d",
       "rows": [
        [
         "count",
         "5.0",
         "4",
         "3.0",
         "4",
         "4.0"
        ],
        [
         "unique",
         null,
         "4",
         null,
         "4",
         "4.0"
        ],
        [
         "top",
         null,
         "Alice",
         null,
         "New York",
         "50000.0"
        ],
        [
         "freq",
         null,
         "1",
         null,
         "1",
         "1.0"
        ],
        [
         "mean",
         "3.0",
         null,
         "27.666666666666668",
         null,
         null
        ],
        [
         "std",
         "1.5811388300841898",
         null,
         "2.5166114784235836",
         null,
         null
        ],
        [
         "min",
         "1.0",
         null,
         "25.0",
         null,
         null
        ],
        [
         "25%",
         "2.0",
         null,
         "26.5",
         null,
         null
        ],
        [
         "50%",
         "3.0",
         null,
         "28.0",
         null,
         null
        ],
        [
         "75%",
         "4.0",
         null,
         "29.0",
         null,
         null
        ],
        [
         "max",
         "5.0",
         null,
         "30.0",
         null,
         null
        ]
       ],
       "shape": {
        "columns": 5,
        "rows": 11
       }
      },
      "text/html": [
       "<div>\n",
       "<style scoped>\n",
       "    .dataframe tbody tr th:only-of-type {\n",
       "        vertical-align: middle;\n",
       "    }\n",
       "\n",
       "    .dataframe tbody tr th {\n",
       "        vertical-align: top;\n",
       "    }\n",
       "\n",
       "    .dataframe thead th {\n",
       "        text-align: right;\n",
       "    }\n",
       "</style>\n",
       "<table border=\"1\" class=\"dataframe\">\n",
       "  <thead>\n",
       "    <tr style=\"text-align: right;\">\n",
       "      <th></th>\n",
       "      <th>ID</th>\n",
       "      <th>Name</th>\n",
       "      <th>Age</th>\n",
       "      <th>City</th>\n",
       "      <th>Salary</th>\n",
       "    </tr>\n",
       "  </thead>\n",
       "  <tbody>\n",
       "    <tr>\n",
       "      <th>count</th>\n",
       "      <td>5.000000</td>\n",
       "      <td>4</td>\n",
       "      <td>3.000000</td>\n",
       "      <td>4</td>\n",
       "      <td>4.0</td>\n",
       "    </tr>\n",
       "    <tr>\n",
       "      <th>unique</th>\n",
       "      <td>NaN</td>\n",
       "      <td>4</td>\n",
       "      <td>NaN</td>\n",
       "      <td>4</td>\n",
       "      <td>4.0</td>\n",
       "    </tr>\n",
       "    <tr>\n",
       "      <th>top</th>\n",
       "      <td>NaN</td>\n",
       "      <td>Alice</td>\n",
       "      <td>NaN</td>\n",
       "      <td>New York</td>\n",
       "      <td>50000.0</td>\n",
       "    </tr>\n",
       "    <tr>\n",
       "      <th>freq</th>\n",
       "      <td>NaN</td>\n",
       "      <td>1</td>\n",
       "      <td>NaN</td>\n",
       "      <td>1</td>\n",
       "      <td>1.0</td>\n",
       "    </tr>\n",
       "    <tr>\n",
       "      <th>mean</th>\n",
       "      <td>3.000000</td>\n",
       "      <td>NaN</td>\n",
       "      <td>27.666667</td>\n",
       "      <td>NaN</td>\n",
       "      <td>NaN</td>\n",
       "    </tr>\n",
       "    <tr>\n",
       "      <th>std</th>\n",
       "      <td>1.581139</td>\n",
       "      <td>NaN</td>\n",
       "      <td>2.516611</td>\n",
       "      <td>NaN</td>\n",
       "      <td>NaN</td>\n",
       "    </tr>\n",
       "    <tr>\n",
       "      <th>min</th>\n",
       "      <td>1.000000</td>\n",
       "      <td>NaN</td>\n",
       "      <td>25.000000</td>\n",
       "      <td>NaN</td>\n",
       "      <td>NaN</td>\n",
       "    </tr>\n",
       "    <tr>\n",
       "      <th>25%</th>\n",
       "      <td>2.000000</td>\n",
       "      <td>NaN</td>\n",
       "      <td>26.500000</td>\n",
       "      <td>NaN</td>\n",
       "      <td>NaN</td>\n",
       "    </tr>\n",
       "    <tr>\n",
       "      <th>50%</th>\n",
       "      <td>3.000000</td>\n",
       "      <td>NaN</td>\n",
       "      <td>28.000000</td>\n",
       "      <td>NaN</td>\n",
       "      <td>NaN</td>\n",
       "    </tr>\n",
       "    <tr>\n",
       "      <th>75%</th>\n",
       "      <td>4.000000</td>\n",
       "      <td>NaN</td>\n",
       "      <td>29.000000</td>\n",
       "      <td>NaN</td>\n",
       "      <td>NaN</td>\n",
       "    </tr>\n",
       "    <tr>\n",
       "      <th>max</th>\n",
       "      <td>5.000000</td>\n",
       "      <td>NaN</td>\n",
       "      <td>30.000000</td>\n",
       "      <td>NaN</td>\n",
       "      <td>NaN</td>\n",
       "    </tr>\n",
       "  </tbody>\n",
       "</table>\n",
       "</div>"
      ],
      "text/plain": [
       "              ID   Name        Age      City   Salary\n",
       "count   5.000000      4   3.000000         4      4.0\n",
       "unique       NaN      4        NaN         4      4.0\n",
       "top          NaN  Alice        NaN  New York  50000.0\n",
       "freq         NaN      1        NaN         1      1.0\n",
       "mean    3.000000    NaN  27.666667       NaN      NaN\n",
       "std     1.581139    NaN   2.516611       NaN      NaN\n",
       "min     1.000000    NaN  25.000000       NaN      NaN\n",
       "25%     2.000000    NaN  26.500000       NaN      NaN\n",
       "50%     3.000000    NaN  28.000000       NaN      NaN\n",
       "75%     4.000000    NaN  29.000000       NaN      NaN\n",
       "max     5.000000    NaN  30.000000       NaN      NaN"
      ]
     },
     "execution_count": 3,
     "metadata": {},
     "output_type": "execute_result"
    }
   ],
   "source": [
    "df1.describe(include='all')"
   ]
  },
  {
   "cell_type": "code",
   "execution_count": 5,
   "metadata": {},
   "outputs": [
    {
     "data": {
      "application/vnd.microsoft.datawrangler.viewer.v0+json": {
       "columns": [
        {
         "name": "index",
         "rawType": "int64",
         "type": "integer"
        },
        {
         "name": "TV",
         "rawType": "float64",
         "type": "float"
        },
        {
         "name": "Radio",
         "rawType": "float64",
         "type": "float"
        },
        {
         "name": "Newspaper",
         "rawType": "float64",
         "type": "float"
        },
        {
         "name": "Sales",
         "rawType": "float64",
         "type": "float"
        }
       ],
       "conversionMethod": "pd.DataFrame",
       "ref": "ff5240a9-f07a-422c-9dea-e2d05478eb9d",
       "rows": [
        [
         "1",
         "230.1",
         "37.8",
         "69.2",
         "22.1"
        ],
        [
         "2",
         "44.5",
         "39.3",
         "45.1",
         "10.4"
        ],
        [
         "3",
         "17.2",
         "45.9",
         "69.3",
         "9.3"
        ],
        [
         "4",
         "151.5",
         "41.3",
         "58.5",
         "18.5"
        ],
        [
         "5",
         "180.8",
         "10.8",
         "58.4",
         "12.9"
        ]
       ],
       "shape": {
        "columns": 4,
        "rows": 5
       }
      },
      "text/html": [
       "<div>\n",
       "<style scoped>\n",
       "    .dataframe tbody tr th:only-of-type {\n",
       "        vertical-align: middle;\n",
       "    }\n",
       "\n",
       "    .dataframe tbody tr th {\n",
       "        vertical-align: top;\n",
       "    }\n",
       "\n",
       "    .dataframe thead th {\n",
       "        text-align: right;\n",
       "    }\n",
       "</style>\n",
       "<table border=\"1\" class=\"dataframe\">\n",
       "  <thead>\n",
       "    <tr style=\"text-align: right;\">\n",
       "      <th></th>\n",
       "      <th>TV</th>\n",
       "      <th>Radio</th>\n",
       "      <th>Newspaper</th>\n",
       "      <th>Sales</th>\n",
       "    </tr>\n",
       "  </thead>\n",
       "  <tbody>\n",
       "    <tr>\n",
       "      <th>1</th>\n",
       "      <td>230.1</td>\n",
       "      <td>37.8</td>\n",
       "      <td>69.2</td>\n",
       "      <td>22.1</td>\n",
       "    </tr>\n",
       "    <tr>\n",
       "      <th>2</th>\n",
       "      <td>44.5</td>\n",
       "      <td>39.3</td>\n",
       "      <td>45.1</td>\n",
       "      <td>10.4</td>\n",
       "    </tr>\n",
       "    <tr>\n",
       "      <th>3</th>\n",
       "      <td>17.2</td>\n",
       "      <td>45.9</td>\n",
       "      <td>69.3</td>\n",
       "      <td>9.3</td>\n",
       "    </tr>\n",
       "    <tr>\n",
       "      <th>4</th>\n",
       "      <td>151.5</td>\n",
       "      <td>41.3</td>\n",
       "      <td>58.5</td>\n",
       "      <td>18.5</td>\n",
       "    </tr>\n",
       "    <tr>\n",
       "      <th>5</th>\n",
       "      <td>180.8</td>\n",
       "      <td>10.8</td>\n",
       "      <td>58.4</td>\n",
       "      <td>12.9</td>\n",
       "    </tr>\n",
       "  </tbody>\n",
       "</table>\n",
       "</div>"
      ],
      "text/plain": [
       "      TV  Radio  Newspaper  Sales\n",
       "1  230.1   37.8       69.2   22.1\n",
       "2   44.5   39.3       45.1   10.4\n",
       "3   17.2   45.9       69.3    9.3\n",
       "4  151.5   41.3       58.5   18.5\n",
       "5  180.8   10.8       58.4   12.9"
      ]
     },
     "execution_count": 5,
     "metadata": {},
     "output_type": "execute_result"
    }
   ],
   "source": [
    "# droping the index column \"unnamed :0\"\n",
    "df2 = pd.read_csv(\"Advertising.csv\", index_col=0)\n",
    "df2.head()"
   ]
  },
  {
   "cell_type": "code",
   "execution_count": 20,
   "metadata": {},
   "outputs": [
    {
     "data": {
      "text/html": [
       "\n",
       "    <iframe src=\"http://127.0.0.1:5050/?session_id=df2\" width=\"100%\" height=\"600px\" style=\"border:none;\"></iframe>\n",
       "    <p style=\"margin-top:10px;\">\n",
       "        <a href=\"http://127.0.0.1:5050/?session_id=df2\" target=\"_blank\" style=\"font-size:14px; text-decoration:none; color:#007bff;\">\n",
       "            🔗 Open in Web Browser\n",
       "        </a>\n",
       "    </p>\n",
       "    "
      ],
      "text/plain": [
       "<IPython.core.display.HTML object>"
      ]
     },
     "metadata": {},
     "output_type": "display_data"
    }
   ],
   "source": [
    "bv.show(df2)"
   ]
  },
  {
   "cell_type": "code",
   "execution_count": null,
   "metadata": {},
   "outputs": [
    {
     "data": {
      "image/png": "[encoded data removed]",
      "text/plain": [
       "<Figure size 2000x1600 with 2 Axes>"
      ]
     },
     "metadata": {},
     "output_type": "display_data"
    }
   ],
   "source": [
    "# Selecting the columns containing indicators and pc\"s for relationship analysis\n",
    "\n",
    "\n",
    "# Calculate the correlation matrix\n",
    "correlation_matrix2 = df2.corr()\n",
    "#correlation_matrix                                             \n",
    "# Create a heatmap to visualize the correlations\n",
    "plt.figure(figsize=(20, 16))\n",
    "sns.heatmap(correlation_matrix2, annot=True, cmap='coolwarm', linewidths=1, square=True, fmt='.2f', annot_kws={'size': 20, 'weight': 'bold'}, vmin=-1, vmax=1)\n",
    "plt.title('Relationship Between the Indicators and the SDG3 Composite Index ', fontsize=30, fontweight='bold')\n",
    "plt.xticks(fontweight='bold', fontsize=18)\n",
    "plt.yticks(fontweight='bold', fontsize=18)\n",
    "plt.show()                                                                                                                                                                                                                                                                                  "
   ]
  },
  {
   "cell_type": "code",
   "execution_count": null,
   "metadata": {},
   "outputs": [],
   "source": []
  },
  {
   "cell_type": "code",
   "execution_count": null,
   "metadata": {},
   "outputs": [],
   "source": []
  },
  {
   "cell_type": "code",
   "execution_count": 8,
   "metadata": {},
   "outputs": [],
   "source": [
    "import pandas as pd\n",
    "import numpy as np\n",
    "import random\n",
    "import uuid\n",
    "from datetime import datetime, timedelta\n",
    "\n",
    "# Set random seed for reproducibility\n",
    "random.seed(42)\n",
    "np.random.seed(42)\n",
    "\n",
    "# Generate 100 rows of mixed messy data\n",
    "num_rows = 100\n",
    "\n",
    "# Generate random dates and times\n",
    "random_dates = [datetime(2023, 1, 1) + timedelta(days=random.randint(0, 365), hours=random.randint(0, 23), minutes=random.randint(0, 59)) for _ in range(num_rows)]\n",
    "random_strings = [\"hello\", \"world\", \"random\", \"data\", \"test\", None, \"string123\", \"45\", \"special@#$%\", \"NaN\"]\n",
    "random_categories = [\"A\", \"B\", \"C\", None, \"D\", \"E\"]\n",
    "random_ip_addresses = [f\"192.168.1.{random.randint(1, 255)}\" for _ in range(num_rows)]\n",
    "\n",
    "# Constructing the DataFrame with messy data\n",
    "data = {\n",
    "    \"ID\": list(range(1, num_rows + 1)),\n",
    "    \"Name\": [random.choice([\"Alice\", \"Bob\", \"Charlie\", \"David\", None, \"Eve\", \"Frank\", \"Grace\"]) for _ in range(num_rows)],\n",
    "    \"Age\": [random.choice([random.randint(18, 70), None]) for _ in range(num_rows)],\n",
    "    \"Salary\": [random.choice([random.uniform(30000, 100000), None, \"$50000\", \"NaN\"]) for _ in range(num_rows)],\n",
    "    \"City\": [random.choice([\"New York\", \"Los Angeles\", \"Chicago\", None, \"San Francisco\", \"Houston\"]) for _ in range(num_rows)],\n",
    "    \"Date_of_Joining\": random_dates,\n",
    "    \"Last_Login\": [random.choice([random.choice(random_dates), \"NaN\", None]) for _ in range(num_rows)],\n",
    "    \"Boolean_Column\": [random.choice([True, False, \"yes\", \"no\", None, \"True\", \"False\"]) for _ in range(num_rows)],\n",
    "    \"Category_Column\": [random.choice(random_categories) for _ in range(num_rows)],\n",
    "    \"IP_Address\": random_ip_addresses,\n",
    "    \"Email\": [random.choice([\"test@example.com\", \"user@gmail.com\", None, \"random@data.com\", \"invalid-email\"]) for _ in range(num_rows)],\n",
    "    \"Currency_Column\": [random.choice([\"$100.50\", \"€200.00\", \"¥3000\", None, \"£50\", \"CHF 75.75\"]) for _ in range(num_rows)],\n",
    "    \"Percentage_Column\": [random.choice([\"50%\", \"75%\", \"100%\", None, \"25%\", \"NaN\"]) for _ in range(num_rows)],\n",
    "    \"Mixed_Column\": [random.choice([\"123\", \"hello\", None, 456, \"78.9\", \"NaN\", \"False\", \"$500\", \"%20\", \"string\"]) for _ in range(num_rows)],\n",
    "    \"List_Column\": [random.choice([[1, 2, 3], [\"a\", \"b\", \"c\"], None, \"random\", \"string\", [\"%\", \"$\", \"€\"]]) for _ in range(num_rows)],\n",
    "    \"Dict_Column\": [random.choice([{\"key\": \"value\"}, None, {\"num\": 123}, \"invalid\"]) for _ in range(num_rows)],\n",
    "    \"UUID_Column\": [str(uuid.uuid4()) if random.random() > 0.1 else None for _ in range(num_rows)],\n",
    "}\n",
    "\n",
    "# Create DataFrame\n",
    "df_messy = pd.DataFrame(data)\n",
    "\n",
    "\n"
   ]
  },
  {
   "cell_type": "code",
   "execution_count": 9,
   "metadata": {},
   "outputs": [
    {
     "data": {
      "text/html": [
       "\n",
       "    <iframe src=\"http://127.0.0.1:5050/?session_id=df_messy\" width=\"100%\" height=\"600px\" style=\"border:none;\"></iframe>\n",
       "    <p style=\"margin-top:10px;\">\n",
       "        <a href=\"http://127.0.0.1:5050/?session_id=df_messy\" target=\"_blank\" style=\"font-size:14px; text-decoration:none; color:#007bff;\">\n",
       "            🔗 Open in Web Browser\n",
       "        </a>\n",
       "    </p>\n",
       "    "
      ],
      "text/plain": [
       "<IPython.core.display.HTML object>"
      ]
     },
     "metadata": {},
     "output_type": "display_data"
    }
   ],
   "source": [
    "import bvista as bv\n",
    "bv.show(df_messy)"
   ]
  },
  {
   "cell_type": "code",
   "execution_count": null,
   "metadata": {},
   "outputs": [],
   "source": []
  },
  {
   "cell_type": "code",
   "execution_count": null,
   "metadata": {},
   "outputs": [],
   "source": []
  },
  {
   "cell_type": "code",
   "execution_count": null,
   "metadata": {},
   "outputs": [],
   "source": []
  },
  {
   "cell_type": "code",
   "execution_count": null,
   "metadata": {},
   "outputs": [],
   "source": []
  },
  {
   "cell_type": "code",
   "execution_count": null,
   "metadata": {},
   "outputs": [],
   "source": []
  },
  {
   "cell_type": "code",
   "execution_count": null,
   "metadata": {},
   "outputs": [],
   "source": []
  },
  {
   "cell_type": "code",
   "execution_count": 7,
   "metadata": {},
   "outputs": [],
   "source": [
    "import pandas as pd\n",
    "import numpy as np\n",
    "import json\n",
    "\n",
    "# Create a highly dirty dataset with multiple data types\n",
    "dirty_data = {\n",
    "    \"int_col\": [1, \"two\", None, 4, np.nan, 6, \"?\", 8, None, 10],  # Mixed integers and strings\n",
    "    \"float_col\": [1.5, None, 3.2, np.nan, 5.0, \"six\", 7.89, \"?\", 9.0, None],  # Mixed floats and strings\n",
    "    \"str_col\": [\"apple\", None, \"banana\", \"123\", np.nan, \"cherry\", \"42.5\", \"data\", None, \"grape\"],  # Strings mixed with numbers\n",
    "    \"bool_col\": [True, False, None, True, np.nan, \"yes\", \"no\", 1, 0, None],  # Boolean with mixed representations\n",
    "    \"datetime_col\": [\n",
    "        pd.Timestamp(\"2023-01-01\"), \"2023/02/15\", None, pd.NaT, \n",
    "        \"15-03-2023\", \"April 1, 2023\", \"2023-05-10 12:30\", np.nan, \"invalid_date\", pd.Timestamp(\"2023-06-20\")\n",
    "    ],  # Mixed datetime formats\n",
    "    \"timedelta_col\": [pd.Timedelta(days=1), \"2 days\", None, \"NaT\", \"5 hours\", pd.NaT, \"invalid\", \"30 min\", \"1 week\", \"6 days\"],  # Mixed timedelta\n",
    "    \"category_col\": pd.Categorical([\"A\", \"B\", None, \"D\", np.nan, \"E\", \"F\", \"B\", \"C\", \"D\"]),  # Categories with missing values\n",
    "    \"currency_col\": [\"$10.00\", \"$20.50\", None, np.nan, \"$50.00\", \"€30.00\", \"£15.75\", \"100.00 USD\", \"invalid\", \"$5.99\"],  # Currency formatted\n",
    "    \"percentage_col\": [\"25%\", \"50%\", None, np.nan, \"100%\", \"33.33%\", \"0.85\", \"invalid\", \"75%\", \"10%\"],  # Percentage formatted\n",
    "    \"json_col\": [\n",
    "        '{\"name\": \"Alice\", \"age\": 25}', None, '{}', '{\"city\": \"NY\"}', \n",
    "        np.nan, '[1, 2, 3]', '{\"nested\": {\"key\": \"value\"}}', \"invalid_json\", '[\"a\", \"b\", \"c\"]', None\n",
    "    ],  # JSON and lists\n",
    "    \"mixed_col\": [1, \"two\", 3.5, None, \"NaN\", True, \"False\", pd.Timestamp(\"2023-04-10\"), None, {\"key\": \"value\"}]  # Mixed types\n",
    "}\n",
    "\n",
    "# Convert to DataFrame\n",
    "dirty_df = pd.DataFrame(dirty_data)\n",
    "\n",
    "# Display the DataFrame\n",
    "\n"
   ]
  },
  {
   "cell_type": "code",
   "execution_count": 8,
   "metadata": {},
   "outputs": [
    {
     "data": {
      "application/vnd.microsoft.datawrangler.viewer.v0+json": {
       "columns": [
        {
         "name": "index",
         "rawType": "int64",
         "type": "integer"
        },
        {
         "name": "int_col",
         "rawType": "object",
         "type": "unknown"
        },
        {
         "name": "float_col",
         "rawType": "object",
         "type": "unknown"
        },
        {
         "name": "str_col",
         "rawType": "object",
         "type": "unknown"
        },
        {
         "name": "bool_col",
         "rawType": "object",
         "type": "unknown"
        },
        {
         "name": "datetime_col",
         "rawType": "object",
         "type": "unknown"
        },
        {
         "name": "timedelta_col",
         "rawType": "object",
         "type": "unknown"
        },
        {
         "name": "category_col",
         "rawType": "category",
         "type": "unknown"
        },
        {
         "name": "currency_col",
         "rawType": "object",
         "type": "unknown"
        },
        {
         "name": "percentage_col",
         "rawType": "object",
         "type": "unknown"
        },
        {
         "name": "json_col",
         "rawType": "object",
         "type": "unknown"
        },
        {
         "name": "mixed_col",
         "rawType": "object",
         "type": "unknown"
        }
       ],
       "conversionMethod": "pd.DataFrame",
       "ref": "41016509-5d23-49e3-821e-5c71c58048ae",
       "rows": [
        [
         "0",
         "1",
         "1.5",
         "apple",
         "True",
         "2023-01-01 00:00:00",
         "1 days 00:00:00",
         "A",
         "$10.00",
         "25%",
         "{\"name\": \"Alice\", \"age\": 25}",
         "1"
        ],
        [
         "1",
         "two",
         null,
         null,
         "False",
         "2023/02/15",
         "2 days",
         "B",
         "$20.50",
         "50%",
         null,
         "two"
        ],
        [
         "2",
         null,
         "3.2",
         "banana",
         null,
         null,
         null,
         null,
         null,
         null,
         "{}",
         "3.5"
        ],
        [
         "3",
         "4",
         null,
         "123",
         "True",
         null,
         "NaT",
         "D",
         null,
         null,
         "{\"city\": \"NY\"}",
         null
        ],
        [
         "4",
         null,
         "5.0",
         null,
         null,
         "15-03-2023",
         "5 hours",
         null,
         "$50.00",
         "100%",
         null,
         "NaN"
        ],
        [
         "5",
         "6",
         "six",
         "cherry",
         "yes",
         "April 1, 2023",
         null,
         "E",
         "€30.00",
         "33.33%",
         "[1, 2, 3]",
         "True"
        ],
        [
         "6",
         "?",
         "7.89",
         "42.5",
         "no",
         "2023-05-10 12:30",
         "invalid",
         "F",
         "£15.75",
         "0.85",
         "{\"nested\": {\"key\": \"value\"}}",
         "False"
        ],
        [
         "7",
         "8",
         "?",
         "data",
         "1",
         null,
         "30 min",
         "B",
         "100.00 USD",
         "invalid",
         "invalid_json",
         "2023-04-10 00:00:00"
        ],
        [
         "8",
         null,
         "9.0",
         null,
         "0",
         "invalid_date",
         "1 week",
         "C",
         "invalid",
         "75%",
         "[\"a\", \"b\", \"c\"]",
         null
        ],
        [
         "9",
         "10",
         null,
         "grape",
         null,
         "2023-06-20 00:00:00",
         "6 days",
         "D",
         "$5.99",
         "10%",
         null,
         "{'key': 'value'}"
        ]
       ],
       "shape": {
        "columns": 11,
        "rows": 10
       }
      },
      "text/html": [
       "<div>\n",
       "<style scoped>\n",
       "    .dataframe tbody tr th:only-of-type {\n",
       "        vertical-align: middle;\n",
       "    }\n",
       "\n",
       "    .dataframe tbody tr th {\n",
       "        vertical-align: top;\n",
       "    }\n",
       "\n",
       "    .dataframe thead th {\n",
       "        text-align: right;\n",
       "    }\n",
       "</style>\n",
       "<table border=\"1\" class=\"dataframe\">\n",
       "  <thead>\n",
       "    <tr style=\"text-align: right;\">\n",
       "      <th></th>\n",
       "      <th>int_col</th>\n",
       "      <th>float_col</th>\n",
       "      <th>str_col</th>\n",
       "      <th>bool_col</th>\n",
       "      <th>datetime_col</th>\n",
       "      <th>timedelta_col</th>\n",
       "      <th>category_col</th>\n",
       "      <th>currency_col</th>\n",
       "      <th>percentage_col</th>\n",
       "      <th>json_col</th>\n",
       "      <th>mixed_col</th>\n",
       "    </tr>\n",
       "  </thead>\n",
       "  <tbody>\n",
       "    <tr>\n",
       "      <th>0</th>\n",
       "      <td>1</td>\n",
       "      <td>1.5</td>\n",
       "      <td>apple</td>\n",
       "      <td>True</td>\n",
       "      <td>2023-01-01 00:00:00</td>\n",
       "      <td>1 days 00:00:00</td>\n",
       "      <td>A</td>\n",
       "      <td>$10.00</td>\n",
       "      <td>25%</td>\n",
       "      <td>{\"name\": \"Alice\", \"age\": 25}</td>\n",
       "      <td>1</td>\n",
       "    </tr>\n",
       "    <tr>\n",
       "      <th>1</th>\n",
       "      <td>two</td>\n",
       "      <td>None</td>\n",
       "      <td>None</td>\n",
       "      <td>False</td>\n",
       "      <td>2023/02/15</td>\n",
       "      <td>2 days</td>\n",
       "      <td>B</td>\n",
       "      <td>$20.50</td>\n",
       "      <td>50%</td>\n",
       "      <td>None</td>\n",
       "      <td>two</td>\n",
       "    </tr>\n",
       "    <tr>\n",
       "      <th>2</th>\n",
       "      <td>None</td>\n",
       "      <td>3.2</td>\n",
       "      <td>banana</td>\n",
       "      <td>None</td>\n",
       "      <td>None</td>\n",
       "      <td>None</td>\n",
       "      <td>NaN</td>\n",
       "      <td>None</td>\n",
       "      <td>None</td>\n",
       "      <td>{}</td>\n",
       "      <td>3.5</td>\n",
       "    </tr>\n",
       "    <tr>\n",
       "      <th>3</th>\n",
       "      <td>4</td>\n",
       "      <td>NaN</td>\n",
       "      <td>123</td>\n",
       "      <td>True</td>\n",
       "      <td>NaT</td>\n",
       "      <td>NaT</td>\n",
       "      <td>D</td>\n",
       "      <td>NaN</td>\n",
       "      <td>NaN</td>\n",
       "      <td>{\"city\": \"NY\"}</td>\n",
       "      <td>None</td>\n",
       "    </tr>\n",
       "    <tr>\n",
       "      <th>4</th>\n",
       "      <td>NaN</td>\n",
       "      <td>5.0</td>\n",
       "      <td>NaN</td>\n",
       "      <td>NaN</td>\n",
       "      <td>15-03-2023</td>\n",
       "      <td>5 hours</td>\n",
       "      <td>NaN</td>\n",
       "      <td>$50.00</td>\n",
       "      <td>100%</td>\n",
       "      <td>NaN</td>\n",
       "      <td>NaN</td>\n",
       "    </tr>\n",
       "    <tr>\n",
       "      <th>5</th>\n",
       "      <td>6</td>\n",
       "      <td>six</td>\n",
       "      <td>cherry</td>\n",
       "      <td>yes</td>\n",
       "      <td>April 1, 2023</td>\n",
       "      <td>NaT</td>\n",
       "      <td>E</td>\n",
       "      <td>€30.00</td>\n",
       "      <td>33.33%</td>\n",
       "      <td>[1, 2, 3]</td>\n",
       "      <td>True</td>\n",
       "    </tr>\n",
       "    <tr>\n",
       "      <th>6</th>\n",
       "      <td>?</td>\n",
       "      <td>7.89</td>\n",
       "      <td>42.5</td>\n",
       "      <td>no</td>\n",
       "      <td>2023-05-10 12:30</td>\n",
       "      <td>invalid</td>\n",
       "      <td>F</td>\n",
       "      <td>£15.75</td>\n",
       "      <td>0.85</td>\n",
       "      <td>{\"nested\": {\"key\": \"value\"}}</td>\n",
       "      <td>False</td>\n",
       "    </tr>\n",
       "    <tr>\n",
       "      <th>7</th>\n",
       "      <td>8</td>\n",
       "      <td>?</td>\n",
       "      <td>data</td>\n",
       "      <td>1</td>\n",
       "      <td>NaN</td>\n",
       "      <td>30 min</td>\n",
       "      <td>B</td>\n",
       "      <td>100.00 USD</td>\n",
       "      <td>invalid</td>\n",
       "      <td>invalid_json</td>\n",
       "      <td>2023-04-10 00:00:00</td>\n",
       "    </tr>\n",
       "    <tr>\n",
       "      <th>8</th>\n",
       "      <td>None</td>\n",
       "      <td>9.0</td>\n",
       "      <td>None</td>\n",
       "      <td>0</td>\n",
       "      <td>invalid_date</td>\n",
       "      <td>1 week</td>\n",
       "      <td>C</td>\n",
       "      <td>invalid</td>\n",
       "      <td>75%</td>\n",
       "      <td>[\"a\", \"b\", \"c\"]</td>\n",
       "      <td>None</td>\n",
       "    </tr>\n",
       "    <tr>\n",
       "      <th>9</th>\n",
       "      <td>10</td>\n",
       "      <td>None</td>\n",
       "      <td>grape</td>\n",
       "      <td>None</td>\n",
       "      <td>2023-06-20 00:00:00</td>\n",
       "      <td>6 days</td>\n",
       "      <td>D</td>\n",
       "      <td>$5.99</td>\n",
       "      <td>10%</td>\n",
       "      <td>None</td>\n",
       "      <td>{'key': 'value'}</td>\n",
       "    </tr>\n",
       "  </tbody>\n",
       "</table>\n",
       "</div>"
      ],
      "text/plain": [
       "  int_col float_col str_col bool_col         datetime_col    timedelta_col  \\\n",
       "0       1       1.5   apple     True  2023-01-01 00:00:00  1 days 00:00:00   \n",
       "1     two      None    None    False           2023/02/15           2 days   \n",
       "2    None       3.2  banana     None                 None             None   \n",
       "3       4       NaN     123     True                  NaT              NaT   \n",
       "4     NaN       5.0     NaN      NaN           15-03-2023          5 hours   \n",
       "5       6       six  cherry      yes        April 1, 2023              NaT   \n",
       "6       ?      7.89    42.5       no     2023-05-10 12:30          invalid   \n",
       "7       8         ?    data        1                  NaN           30 min   \n",
       "8    None       9.0    None        0         invalid_date           1 week   \n",
       "9      10      None   grape     None  2023-06-20 00:00:00           6 days   \n",
       "\n",
       "  category_col currency_col percentage_col                      json_col  \\\n",
       "0            A       $10.00            25%  {\"name\": \"Alice\", \"age\": 25}   \n",
       "1            B       $20.50            50%                          None   \n",
       "2          NaN         None           None                            {}   \n",
       "3            D          NaN            NaN                {\"city\": \"NY\"}   \n",
       "4          NaN       $50.00           100%                           NaN   \n",
       "5            E       €30.00         33.33%                     [1, 2, 3]   \n",
       "6            F       £15.75           0.85  {\"nested\": {\"key\": \"value\"}}   \n",
       "7            B   100.00 USD        invalid                  invalid_json   \n",
       "8            C      invalid            75%               [\"a\", \"b\", \"c\"]   \n",
       "9            D        $5.99            10%                          None   \n",
       "\n",
       "             mixed_col  \n",
       "0                    1  \n",
       "1                  two  \n",
       "2                  3.5  \n",
       "3                 None  \n",
       "4                  NaN  \n",
       "5                 True  \n",
       "6                False  \n",
       "7  2023-04-10 00:00:00  \n",
       "8                 None  \n",
       "9     {'key': 'value'}  "
      ]
     },
     "execution_count": 8,
     "metadata": {},
     "output_type": "execute_result"
    }
   ],
   "source": [
    "dirty_df.head(14)"
   ]
  },
  {
   "cell_type": "code",
   "execution_count": 4,
   "metadata": {},
   "outputs": [
    {
     "data": {
      "text/plain": [
       "int_col             object\n",
       "float_col           object\n",
       "str_col             object\n",
       "bool_col            object\n",
       "datetime_col        object\n",
       "timedelta_col       object\n",
       "category_col      category\n",
       "currency_col        object\n",
       "percentage_col      object\n",
       "json_col            object\n",
       "mixed_col           object\n",
       "dtype: object"
      ]
     },
     "execution_count": 4,
     "metadata": {},
     "output_type": "execute_result"
    }
   ],
   "source": [
    "dirty_df.dtypes"
   ]
  },
  {
   "cell_type": "code",
   "execution_count": 9,
   "metadata": {},
   "outputs": [
    {
     "name": "stdout",
     "output_type": "stream",
     "text": [
      "✅ Dataset 'dirty_df' uploaded successfully. Session ID: dirty_df\n"
     ]
    },
    {
     "data": {
      "text/html": [
       "\n",
       "    <iframe src=\"http://127.0.0.1:5050/?session_id=dirty_df\" width=\"100%\" height=\"600px\" style=\"border:none;\"></iframe>\n",
       "    <p style=\"margin-top:10px;\">\n",
       "        <a href=\"http://127.0.0.1:5050/?session_id=dirty_df\" target=\"_blank\" style=\"font-size:14px; text-decoration:none; color:#007bff;\">\n",
       "            🔗 Open in Web Browser\n",
       "        </a>\n",
       "    </p>\n",
       "    "
      ],
      "text/plain": [
       "<IPython.core.display.HTML object>"
      ]
     },
     "metadata": {},
     "output_type": "display_data"
    }
   ],
   "source": [
    "import bvista as bv\n",
    "bv.show(dirty_df)"
   ]
  },
  {
   "cell_type": "code",
   "execution_count": null,
   "metadata": {},
   "outputs": [],
   "source": []
  },
  {
   "cell_type": "code",
   "execution_count": 1,
   "metadata": {},
   "outputs": [],
   "source": [
    "import pandas as pd\n",
    "import bvista as bv\n",
    "import numpy as np\n",
    "\n",
    "data = {\n",
    "    \"int_col\": [1, 2, None, 4, np.nan],\n",
    "    \"float_col\": [1.5, None, 3.2, np.nan, 5.0],\n",
    "    \"str_col\": [\"apple\", None, \"banana\", \"cherry\", np.nan],\n",
    "    \"bool_col\": [True, False, None, True, np.nan],\n",
    "    \"datetime_col\": [pd.Timestamp(\"2023-01-01\"), None, pd.NaT, pd.Timestamp(\"2023-04-01\"), pd.NaT],\n",
    "    \"timedelta_col\": [pd.Timedelta(days=1), None, pd.NaT, pd.Timedelta(days=4), pd.NaT],\n",
    "    \"category_col\": pd.Categorical([\"A\", \"B\", None, \"D\", np.nan]),\n",
    "    \"currency_col\": [10.0, 20.5, None, np.nan, 50.0],\n",
    "    \"percentage_col\": [0.25, 0.50, None, np.nan, 1.0],\n",
    "}\n",
    "\n",
    "df5 = pd.DataFrame(data)\n",
    "\n",
    "\n"
   ]
  },
  {
   "cell_type": "code",
   "execution_count": null,
   "metadata": {},
   "outputs": [],
   "source": []
  },
  {
   "cell_type": "code",
   "execution_count": 2,
   "metadata": {},
   "outputs": [
    {
     "data": {
      "text/html": [
       "\n",
       "    <iframe src=\"http://127.0.0.1:5050/?session_id=df5\" width=\"100%\" height=\"600px\" style=\"border:none;\"></iframe>\n",
       "    <p style=\"margin-top:10px;\">\n",
       "        <a href=\"http://127.0.0.1:5050/?session_id=df5\" target=\"_blank\" style=\"font-size:14px; text-decoration:none; color:#007bff;\">\n",
       "            🔗 Open in Web Browser\n",
       "        </a>\n",
       "    </p>\n",
       "    "
      ],
      "text/plain": [
       "<IPython.core.display.HTML object>"
      ]
     },
     "metadata": {},
     "output_type": "display_data"
    }
   ],
   "source": [
    "bv.show(df5)"
   ]
  },
  {
   "cell_type": "code",
   "execution_count": 3,
   "metadata": {},
   "outputs": [
    {
     "name": "stdout",
     "output_type": "stream",
     "text": [
      "{'sessions': {'df5': {'created_at': 1740755021.7707462, 'name': 'dataset'}}}\n"
     ]
    }
   ],
   "source": [
    "import requests\n",
    "response = requests.get(\"http://127.0.0.1:5050/api/get_sessions\")\n",
    "print(response.json())  # The name should now match what you passed in `bv.show(df5)`\n"
   ]
  },
  {
   "cell_type": "code",
   "execution_count": 3,
   "metadata": {},
   "outputs": [
    {
     "name": "stdout",
     "output_type": "stream",
     "text": [
      "{'columns': [{'dataType': 'float64', 'field': 'int_col', 'headerName': 'int_col'}, {'dataType': 'float64', 'field': 'float_col', 'headerName': 'float_col'}, {'dataType': 'object', 'field': 'str_col', 'headerName': 'str_col'}, {'dataType': 'object', 'field': 'bool_col', 'headerName': 'bool_col'}, {'dataType': 'datetime64[ns]', 'field': 'datetime_col', 'headerName': 'datetime_col'}, {'dataType': 'timedelta64[ns]', 'field': 'timedelta_col', 'headerName': 'timedelta_col'}, {'dataType': 'category', 'field': 'category_col', 'headerName': 'category_col'}, {'dataType': 'float64', 'field': 'currency_col', 'headerName': 'currency_col'}, {'dataType': 'float64', 'field': 'percentage_col', 'headerName': 'percentage_col'}], 'data': [{'bool_col': True, 'category_col': 'A', 'currency_col': 10.0, 'datetime_col': 'Sun, 01 Jan 2023 00:00:00 GMT', 'float_col': 1.5, 'int_col': 1.0, 'percentage_col': 0.25, 'str_col': 'apple', 'timedelta_col': '1 days'}, {'bool_col': False, 'category_col': 'B', 'currency_col': 20.5, 'datetime_col': None, 'float_col': None, 'int_col': 2.0, 'percentage_col': 0.5, 'str_col': None, 'timedelta_col': 'NaT'}, {'bool_col': None, 'category_col': None, 'currency_col': None, 'datetime_col': None, 'float_col': 3.2, 'int_col': None, 'percentage_col': None, 'str_col': 'banana', 'timedelta_col': 'NaT'}, {'bool_col': True, 'category_col': 'D', 'currency_col': None, 'datetime_col': 'Sat, 01 Apr 2023 00:00:00 GMT', 'float_col': None, 'int_col': 4.0, 'percentage_col': None, 'str_col': 'cherry', 'timedelta_col': '4 days'}, {'bool_col': None, 'category_col': None, 'currency_col': 50.0, 'datetime_col': None, 'float_col': 5.0, 'int_col': None, 'percentage_col': 1.0, 'str_col': None, 'timedelta_col': 'NaT'}], 'name': 'dataset', 'session_id': 'df5', 'total_columns': 9, 'total_rows': 5}\n"
     ]
    }
   ],
   "source": [
    "import requests\n",
    "response = requests.get(\"http://127.0.0.1:5050/api/session/df5\")\n",
    "print(response.json())  # It should return correct data without errors.\n"
   ]
  },
  {
   "cell_type": "code",
   "execution_count": 14,
   "metadata": {},
   "outputs": [],
   "source": [
    "import pandas as pd\n",
    "import bvista as bv\n",
    "import numpy as np\n",
    "\n",
    "data = {\n",
    "    \"int_col\": [1, 2, None, 4, np.nan],\n",
    "    \"float_col\": [1.5, None, 3.2, np.nan, 5.0],\n",
    "    \"str_col\": [\"apple\", None, \"banana\", \"cherry\", np.nan],\n",
    "    \"bool_col\": [True, False, None, True, np.nan],\n",
    "    \"datetime_col\": [pd.Timestamp(\"2023-01-01\"), None, pd.NaT, pd.Timestamp(\"2023-04-01\"), pd.NaT],\n",
    "    \"timedelta_col\": [pd.Timedelta(days=1), None, pd.NaT, pd.Timedelta(days=4), pd.NaT],\n",
    "    \"category_col\": pd.Categorical([\"A\", \"B\", None, \"D\", np.nan]),\n",
    "    \"currency_col\": [10.0, 20.5, None, np.nan, 50.0],\n",
    "    \"percentage_col\": [0.25, 0.50, None, np.nan, 1.0],\n",
    "}\n",
    "\n",
    "df5 = pd.DataFrame(data)\n"
   ]
  },
  {
   "cell_type": "code",
   "execution_count": 15,
   "metadata": {},
   "outputs": [
    {
     "data": {
      "text/html": [
       "\n",
       "    <iframe src=\"http://127.0.0.1:5050/?session_id=df5\" width=\"100%\" height=\"600px\" style=\"border:none;\"></iframe>\n",
       "    <p style=\"margin-top:10px;\">\n",
       "        <a href=\"http://127.0.0.1:5050/?session_id=df5\" target=\"_blank\" style=\"font-size:14px; text-decoration:none; color:#007bff;\">\n",
       "            🔗 Open in Web Browser\n",
       "        </a>\n",
       "    </p>\n",
       "    "
      ],
      "text/plain": [
       "<IPython.core.display.HTML object>"
      ]
     },
     "metadata": {},
     "output_type": "display_data"
    }
   ],
   "source": [
    "bv.show(df5)"
   ]
  },
  {
   "cell_type": "code",
   "execution_count": null,
   "metadata": {},
   "outputs": [],
   "source": []
  },
  {
   "cell_type": "code",
   "execution_count": null,
   "metadata": {},
   "outputs": [],
   "source": []
  },
  {
   "cell_type": "code",
   "execution_count": 12,
   "metadata": {},
   "outputs": [],
   "source": [
    "import pandas as pd\n",
    "import numpy as np\n",
    "import json\n",
    "\n",
    "# Generate a highly complex and diverse DataFrame\n",
    "data = {\n",
    "    \"int_col\": [1, 2, None, 4, np.nan, -100, 9999999],\n",
    "    \"float_col\": [1.5, None, 3.2, np.nan, 5.0, -10.75, 3.141592],\n",
    "    \"str_col\": [\"apple\", None, \"banana\", \"cherry\", np.nan, \"123\", \"special_char_!@#\"],\n",
    "    \"bool_col\": [True, False, None, True, np.nan, False, True],\n",
    "    \"datetime_col\": [\n",
    "        pd.Timestamp(\"2023-01-01\"),\n",
    "        None,\n",
    "        pd.NaT,\n",
    "        pd.Timestamp(\"2023-04-01\"),\n",
    "        pd.NaT,\n",
    "        pd.Timestamp(\"1999-12-31\"),\n",
    "        pd.Timestamp(\"2050-06-15 12:45:30\")\n",
    "    ],\n",
    "    \"timedelta_col\": [\n",
    "        pd.Timedelta(days=1),\n",
    "        None,\n",
    "        pd.NaT,\n",
    "        pd.Timedelta(days=4, hours=5, minutes=30),\n",
    "        pd.NaT,\n",
    "        pd.Timedelta(seconds=3600),\n",
    "        pd.Timedelta(weeks=3)\n",
    "    ],\n",
    "    \"category_col\": pd.Categorical([\"A\", \"B\", None, \"D\", np.nan, \"E\", \"F\"]),\n",
    "    \"currency_col\": [\"$10.00\", \"$20.50\", None, \"NaN\", \"€50.00\", \"£100.75\", \"¥5000\"],\n",
    "    \"percentage_col\": [\"25%\", \"50%\", None, \"NaN\", \"100%\", \"12.5%\", \"87.3%\"],\n",
    "    \"json_col\": [\n",
    "        json.dumps({\"key\": \"value\"}),\n",
    "        json.dumps({\"number\": 123}),\n",
    "        None,\n",
    "        json.dumps({\"bool\": True}),\n",
    "        json.dumps({\"list\": [1, 2, 3]}),\n",
    "        json.dumps({\"nested\": {\"a\": 1, \"b\": [4, 5, 6]}}),\n",
    "        json.dumps({\"special_chars\": \"!@#$%^&*()\"})\n",
    "    ],\n",
    "    \"mixed_col\": [10, \"string\", None, 3.5, True, pd.Timestamp(\"2025-01-01\"), {}],\n",
    "}\n",
    "\n",
    "# Create DataFrame\n",
    "df_complex = pd.DataFrame(data)\n",
    "\n",
    "\n"
   ]
  },
  {
   "cell_type": "code",
   "execution_count": 13,
   "metadata": {},
   "outputs": [
    {
     "data": {
      "text/html": [
       "\n",
       "    <iframe src=\"http://127.0.0.1:5050/?session_id=df_complex\" width=\"100%\" height=\"600px\" style=\"border:none;\"></iframe>\n",
       "    <p style=\"margin-top:10px;\">\n",
       "        <a href=\"http://127.0.0.1:5050/?session_id=df_complex\" target=\"_blank\" style=\"font-size:14px; text-decoration:none; color:#007bff;\">\n",
       "            🔗 Open in Web Browser\n",
       "        </a>\n",
       "    </p>\n",
       "    "
      ],
      "text/plain": [
       "<IPython.core.display.HTML object>"
      ]
     },
     "metadata": {},
     "output_type": "display_data"
    }
   ],
   "source": [
    "bv.show(df_complex)"
   ]
  },
  {
   "cell_type": "code",
   "execution_count": 11,
   "metadata": {},
   "outputs": [
    {
     "data": {
      "text/plain": [
       "int_col                   float64\n",
       "float_col                 float64\n",
       "str_col                    object\n",
       "bool_col                   object\n",
       "datetime_col       datetime64[ns]\n",
       "timedelta_col     timedelta64[ns]\n",
       "category_col             category\n",
       "currency_col               object\n",
       "percentage_col             object\n",
       "json_col                   object\n",
       "mixed_col                  object\n",
       "dtype: object"
      ]
     },
     "execution_count": 11,
     "metadata": {},
     "output_type": "execute_result"
    }
   ],
   "source": [
    "df_complex.dtypes"
   ]
  },
  {
   "cell_type": "code",
   "execution_count": null,
   "metadata": {},
   "outputs": [],
   "source": []
  },
  {
   "cell_type": "code",
   "execution_count": 10,
   "metadata": {},
   "outputs": [
    {
     "data": {
      "text/html": [
       "\n",
       "    <iframe src=\"http://127.0.0.1:5050/?session_id=dirty_test\" width=\"100%\" height=\"600px\" style=\"border:none;\"></iframe>\n",
       "    <p style=\"margin-top:10px;\">\n",
       "        <a href=\"http://127.0.0.1:5050/?session_id=dirty_test\" target=\"_blank\" style=\"font-size:14px; text-decoration:none; color:#007bff;\">\n",
       "            🔗 Open in Web Browser\n",
       "        </a>\n",
       "    </p>\n",
       "    "
      ],
      "text/plain": [
       "<IPython.core.display.HTML object>"
      ]
     },
     "metadata": {},
     "output_type": "display_data"
    }
   ],
   "source": [
    "import pandas as pd\n",
    "import numpy as np\n",
    "import json\n",
    "\n",
    "data = {\n",
    "    \"int_col\": [1, \"two\", None, 4, np.nan],  # Mixed int & str\n",
    "    \"float_col\": [1.5, \"2.3\", None, np.nan, 5.0],  # Mixed float & str\n",
    "    \"str_col\": [\"apple\", None, \"banana\", \"cherry\", np.nan],  # Standard string column\n",
    "    \"bool_col_mixed\": [True, \"Yes\", \"No\", False, None],  # Mixed Boolean representations\n",
    "    \"bool_col_standard\": [True, False, True, False, None],  # Standard True/False\n",
    "    \"bool_col_numeric\": [1, 0, 1, np.nan, None],  # Boolean as 1/0\n",
    "    \"datetime_col\": [pd.Timestamp(\"2023-01-01\"), None, pd.NaT, pd.Timestamp(\"2023-04-01\"), \"InvalidDate\"],  # Dates with an invalid value\n",
    "    \"timedelta_col\": [pd.Timedelta(days=1), None, pd.NaT, pd.Timedelta(days=4), \"5 days\"],  # Timedelta with mixed formats\n",
    "    \"category_col\": pd.Categorical([\"A\", \"B\", None, \"D\", np.nan]),  # Categorical column\n",
    "    \"currency_col\": [\"$10.00\", \"$20.50\", None, np.nan, \"50.00 USD\"],  # Different currency formats\n",
    "    \"percentage_col\": [\"10%\", \"20.5%\", None, \"NaN\", \"0.5\"],  # Percentage formats\n",
    "    \"json_col\": [\n",
    "        json.dumps({\"key\": \"value\"}),\n",
    "        json.dumps({\"user\": \"John\", \"age\": 30}),\n",
    "        None,\n",
    "        json.dumps({\"active\": False}),\n",
    "        \"InvalidJSON\"\n",
    "    ],  # JSON-like strings with an invalid entry\n",
    "    \"mixed_col\": [42, \"text\", None, 3.14, {\"unexpected\": \"dict\"}]  # Completely mixed types\n",
    "}\n",
    "\n",
    "df_test = pd.DataFrame(data)\n",
    "\n",
    "# Show the DataFrame in B-Vista\n",
    "import bvista as bv\n",
    "bv.show(df_test, name=\"dirty_test\")\n"
   ]
  },
  {
   "cell_type": "code",
   "execution_count": 13,
   "metadata": {},
   "outputs": [
    {
     "data": {
      "application/vnd.microsoft.datawrangler.viewer.v0+json": {
       "columns": [
        {
         "name": "index",
         "rawType": "int64",
         "type": "integer"
        },
        {
         "name": "int_col",
         "rawType": "object",
         "type": "unknown"
        },
        {
         "name": "float_col",
         "rawType": "object",
         "type": "unknown"
        },
        {
         "name": "str_col",
         "rawType": "object",
         "type": "unknown"
        },
        {
         "name": "bool_col_mixed",
         "rawType": "object",
         "type": "unknown"
        },
        {
         "name": "bool_col_standard",
         "rawType": "object",
         "type": "unknown"
        },
        {
         "name": "bool_col_numeric",
         "rawType": "float64",
         "type": "float"
        },
        {
         "name": "datetime_col",
         "rawType": "object",
         "type": "unknown"
        },
        {
         "name": "timedelta_col",
         "rawType": "object",
         "type": "unknown"
        },
        {
         "name": "category_col",
         "rawType": "category",
         "type": "unknown"
        },
        {
         "name": "currency_col",
         "rawType": "object",
         "type": "unknown"
        },
        {
         "name": "percentage_col",
         "rawType": "object",
         "type": "unknown"
        },
        {
         "name": "json_col",
         "rawType": "object",
         "type": "unknown"
        },
        {
         "name": "mixed_col",
         "rawType": "object",
         "type": "unknown"
        }
       ],
       "conversionMethod": "pd.DataFrame",
       "ref": "4ee56000-3b0b-48de-b475-98c6fac1b4c6",
       "rows": [
        [
         "0",
         "1",
         "1.5",
         "apple",
         "True",
         "True",
         "1.0",
         "2023-01-01 00:00:00",
         "1 days 00:00:00",
         "A",
         "$10.00",
         "10%",
         "{\"key\": \"value\"}",
         "42"
        ],
        [
         "1",
         "two",
         "2.3",
         null,
         "Yes",
         "False",
         "0.0",
         null,
         null,
         "B",
         "$20.50",
         "20.5%",
         "{\"user\": \"John\", \"age\": 30}",
         "text"
        ],
        [
         "2",
         null,
         null,
         "banana",
         "No",
         "True",
         "1.0",
         null,
         null,
         null,
         null,
         null,
         null,
         null
        ],
        [
         "3",
         "4",
         null,
         "cherry",
         "False",
         "False",
         null,
         "2023-04-01 00:00:00",
         "4 days 00:00:00",
         "D",
         null,
         "NaN",
         "{\"active\": false}",
         "3.14"
        ],
        [
         "4",
         null,
         "5.0",
         null,
         null,
         null,
         null,
         "InvalidDate",
         "5 days",
         null,
         "50.00 USD",
         "0.5",
         "InvalidJSON",
         "{'unexpected': 'dict'}"
        ]
       ],
       "shape": {
        "columns": 13,
        "rows": 5
       }
      },
      "text/html": [
       "<div>\n",
       "<style scoped>\n",
       "    .dataframe tbody tr th:only-of-type {\n",
       "        vertical-align: middle;\n",
       "    }\n",
       "\n",
       "    .dataframe tbody tr th {\n",
       "        vertical-align: top;\n",
       "    }\n",
       "\n",
       "    .dataframe thead th {\n",
       "        text-align: right;\n",
       "    }\n",
       "</style>\n",
       "<table border=\"1\" class=\"dataframe\">\n",
       "  <thead>\n",
       "    <tr style=\"text-align: right;\">\n",
       "      <th></th>\n",
       "      <th>int_col</th>\n",
       "      <th>float_col</th>\n",
       "      <th>str_col</th>\n",
       "      <th>bool_col_mixed</th>\n",
       "      <th>bool_col_standard</th>\n",
       "      <th>bool_col_numeric</th>\n",
       "      <th>datetime_col</th>\n",
       "      <th>timedelta_col</th>\n",
       "      <th>category_col</th>\n",
       "      <th>currency_col</th>\n",
       "      <th>percentage_col</th>\n",
       "      <th>json_col</th>\n",
       "      <th>mixed_col</th>\n",
       "    </tr>\n",
       "  </thead>\n",
       "  <tbody>\n",
       "    <tr>\n",
       "      <th>0</th>\n",
       "      <td>1</td>\n",
       "      <td>1.5</td>\n",
       "      <td>apple</td>\n",
       "      <td>True</td>\n",
       "      <td>True</td>\n",
       "      <td>1.0</td>\n",
       "      <td>2023-01-01 00:00:00</td>\n",
       "      <td>1 days 00:00:00</td>\n",
       "      <td>A</td>\n",
       "      <td>$10.00</td>\n",
       "      <td>10%</td>\n",
       "      <td>{\"key\": \"value\"}</td>\n",
       "      <td>42</td>\n",
       "    </tr>\n",
       "    <tr>\n",
       "      <th>1</th>\n",
       "      <td>two</td>\n",
       "      <td>2.3</td>\n",
       "      <td>None</td>\n",
       "      <td>Yes</td>\n",
       "      <td>False</td>\n",
       "      <td>0.0</td>\n",
       "      <td>None</td>\n",
       "      <td>None</td>\n",
       "      <td>B</td>\n",
       "      <td>$20.50</td>\n",
       "      <td>20.5%</td>\n",
       "      <td>{\"user\": \"John\", \"age\": 30}</td>\n",
       "      <td>text</td>\n",
       "    </tr>\n",
       "    <tr>\n",
       "      <th>2</th>\n",
       "      <td>None</td>\n",
       "      <td>None</td>\n",
       "      <td>banana</td>\n",
       "      <td>No</td>\n",
       "      <td>True</td>\n",
       "      <td>1.0</td>\n",
       "      <td>NaT</td>\n",
       "      <td>NaT</td>\n",
       "      <td>NaN</td>\n",
       "      <td>None</td>\n",
       "      <td>None</td>\n",
       "      <td>None</td>\n",
       "      <td>None</td>\n",
       "    </tr>\n",
       "    <tr>\n",
       "      <th>3</th>\n",
       "      <td>4</td>\n",
       "      <td>NaN</td>\n",
       "      <td>cherry</td>\n",
       "      <td>False</td>\n",
       "      <td>False</td>\n",
       "      <td>NaN</td>\n",
       "      <td>2023-04-01 00:00:00</td>\n",
       "      <td>4 days 00:00:00</td>\n",
       "      <td>D</td>\n",
       "      <td>NaN</td>\n",
       "      <td>NaN</td>\n",
       "      <td>{\"active\": false}</td>\n",
       "      <td>3.14</td>\n",
       "    </tr>\n",
       "    <tr>\n",
       "      <th>4</th>\n",
       "      <td>NaN</td>\n",
       "      <td>5.0</td>\n",
       "      <td>NaN</td>\n",
       "      <td>None</td>\n",
       "      <td>None</td>\n",
       "      <td>NaN</td>\n",
       "      <td>InvalidDate</td>\n",
       "      <td>5 days</td>\n",
       "      <td>NaN</td>\n",
       "      <td>50.00 USD</td>\n",
       "      <td>0.5</td>\n",
       "      <td>InvalidJSON</td>\n",
       "      <td>{'unexpected': 'dict'}</td>\n",
       "    </tr>\n",
       "  </tbody>\n",
       "</table>\n",
       "</div>"
      ],
      "text/plain": [
       "  int_col float_col str_col bool_col_mixed bool_col_standard  \\\n",
       "0       1       1.5   apple           True              True   \n",
       "1     two       2.3    None            Yes             False   \n",
       "2    None      None  banana             No              True   \n",
       "3       4       NaN  cherry          False             False   \n",
       "4     NaN       5.0     NaN           None              None   \n",
       "\n",
       "   bool_col_numeric         datetime_col    timedelta_col category_col  \\\n",
       "0               1.0  2023-01-01 00:00:00  1 days 00:00:00            A   \n",
       "1               0.0                 None             None            B   \n",
       "2               1.0                  NaT              NaT          NaN   \n",
       "3               NaN  2023-04-01 00:00:00  4 days 00:00:00            D   \n",
       "4               NaN          InvalidDate           5 days          NaN   \n",
       "\n",
       "  currency_col percentage_col                     json_col  \\\n",
       "0       $10.00            10%             {\"key\": \"value\"}   \n",
       "1       $20.50          20.5%  {\"user\": \"John\", \"age\": 30}   \n",
       "2         None           None                         None   \n",
       "3          NaN            NaN            {\"active\": false}   \n",
       "4    50.00 USD            0.5                  InvalidJSON   \n",
       "\n",
       "                mixed_col  \n",
       "0                      42  \n",
       "1                    text  \n",
       "2                    None  \n",
       "3                    3.14  \n",
       "4  {'unexpected': 'dict'}  "
      ]
     },
     "execution_count": 13,
     "metadata": {},
     "output_type": "execute_result"
    }
   ],
   "source": [
    "df_test.head()"
   ]
  },
  {
   "cell_type": "code",
   "execution_count": null,
   "metadata": {},
   "outputs": [],
   "source": []
  },
  {
   "cell_type": "code",
   "execution_count": 11,
   "metadata": {},
   "outputs": [
    {
     "data": {
      "text/html": [
       "\n",
       "    <iframe src=\"http://127.0.0.1:5050/?session_id=complete_test\" width=\"100%\" height=\"600px\" style=\"border:none;\"></iframe>\n",
       "    <p style=\"margin-top:10px;\">\n",
       "        <a href=\"http://127.0.0.1:5050/?session_id=complete_test\" target=\"_blank\" style=\"font-size:14px; text-decoration:none; color:#007bff;\">\n",
       "            🔗 Open in Web Browser\n",
       "        </a>\n",
       "    </p>\n",
       "    "
      ],
      "text/plain": [
       "<IPython.core.display.HTML object>"
      ]
     },
     "metadata": {},
     "output_type": "display_data"
    }
   ],
   "source": [
    "import pandas as pd\n",
    "import numpy as np\n",
    "import json\n",
    "import uuid\n",
    "\n",
    "# Generate test data\n",
    "data = {\n",
    "    \"int_col\": [1, -2, 3000000, None, np.nan],  # Integer with large values\n",
    "    \"float_col\": [1.5, -2.345, 3.2e5, np.nan, 5.0],  # Float with scientific notation\n",
    "    \"bool_col_standard\": [True, False, None, True, False],  # Standard boolean\n",
    "    \"bool_col_mixed\": [\"Yes\", \"No\", 1, 0, None],  # Boolean in multiple formats\n",
    "    \"str_col\": [\"hello\", \"123\", \"!@#%\", \"Üñîçødê\", None],  # String with Unicode and special chars\n",
    "    \"datetime_col\": [pd.Timestamp(\"2023-01-01\"), None, pd.NaT, pd.Timestamp(\"2023-04-01\"), \"InvalidDate\"],  # Datetime with invalid case\n",
    "    \"timedelta_col\": [pd.Timedelta(days=1), None, pd.NaT, pd.Timedelta(weeks=2), \"5 days\"],  # Timedelta\n",
    "    \"category_col\": pd.Categorical([\"Red\", \"Green\", \"Blue\", \"Yellow\", None]),  # Categorical column\n",
    "    \"currency_col\": [\"$10.00\", \"€20,50\", None, np.nan, \"50.00 USD\"],  # Various currency formats\n",
    "    \"percentage_col\": [\"10%\", \"20.5%\", None, \"NaN\", \"0.5\"],  # Percentages in different styles\n",
    "    \"json_col\": [\n",
    "        json.dumps({\"key\": \"value\"}),\n",
    "        json.dumps({\"user\": \"John\", \"age\": 30}),\n",
    "        None,\n",
    "        json.dumps({\"active\": False}),\n",
    "        \"InvalidJSON\"\n",
    "    ],  # JSON in string format\n",
    "    \"uuid_col\": [str(uuid.uuid4()) for _ in range(5)],  # Unique Identifiers (UUIDs)\n",
    "    \"ip_address_col\": [\"192.168.1.1\", \"10.0.0.1\", None, \"172.16.254.1\", \"InvalidIP\"],  # IP addresses\n",
    "    \"email_col\": [\"user@example.com\", \"test@domain.net\", None, \"email@invalid\", \"admin@site.com\"],  # Email addresses\n",
    "    \"binary_col\": [b\"binary1\", b\"binary2\", None, b\"binary4\", b\"binary5\"],  # Binary data\n",
    "    \"geo_latitude\": [40.7128, -34.6037, None, 51.5074, 35.6895],  # Latitude\n",
    "    \"geo_longitude\": [-74.0060, -58.3816, None, -0.1278, 139.6917],  # Longitude\n",
    "    \"list_col\": [[1, 2, 3], [\"a\", \"b\", \"c\"], None, [None, 4.5], \"InvalidList\"],  # Lists stored as strings\n",
    "    \"dict_col\": [\n",
    "        json.dumps({\"a\": 1, \"b\": 2}),\n",
    "        json.dumps({\"x\": \"y\"}),\n",
    "        None,\n",
    "        json.dumps({\"nested\": {\"inside\": \"dict\"}}),\n",
    "        \"InvalidDict\"\n",
    "    ],  # Dictionaries stored as JSON strings\n",
    "    \"mixed_col\": [42, \"text\", None, 3.14, {\"unexpected\": \"dict\"}]  # Mixed types\n",
    "}\n",
    "\n",
    "df_complete = pd.DataFrame(data)\n",
    "\n",
    "# Show the DataFrame in B-Vista\n",
    "import bvista as bv\n",
    "bv.show(df_complete, name=\"complete_test\")\n"
   ]
  },
  {
   "cell_type": "code",
   "execution_count": 17,
   "metadata": {},
   "outputs": [
    {
     "data": {
      "application/vnd.microsoft.datawrangler.viewer.v0+json": {
       "columns": [
        {
         "name": "index",
         "rawType": "int64",
         "type": "integer"
        },
        {
         "name": "int_col",
         "rawType": "float64",
         "type": "float"
        },
        {
         "name": "float_col",
         "rawType": "float64",
         "type": "float"
        },
        {
         "name": "bool_col_standard",
         "rawType": "object",
         "type": "unknown"
        },
        {
         "name": "bool_col_mixed",
         "rawType": "object",
         "type": "unknown"
        },
        {
         "name": "str_col",
         "rawType": "object",
         "type": "unknown"
        },
        {
         "name": "datetime_col",
         "rawType": "object",
         "type": "unknown"
        },
        {
         "name": "timedelta_col",
         "rawType": "object",
         "type": "unknown"
        },
        {
         "name": "category_col",
         "rawType": "category",
         "type": "unknown"
        },
        {
         "name": "currency_col",
         "rawType": "object",
         "type": "unknown"
        },
        {
         "name": "percentage_col",
         "rawType": "object",
         "type": "unknown"
        },
        {
         "name": "json_col",
         "rawType": "object",
         "type": "unknown"
        },
        {
         "name": "uuid_col",
         "rawType": "object",
         "type": "string"
        },
        {
         "name": "ip_address_col",
         "rawType": "object",
         "type": "unknown"
        },
        {
         "name": "email_col",
         "rawType": "object",
         "type": "unknown"
        },
        {
         "name": "binary_col",
         "rawType": "object",
         "type": "unknown"
        },
        {
         "name": "geo_latitude",
         "rawType": "float64",
         "type": "float"
        },
        {
         "name": "geo_longitude",
         "rawType": "float64",
         "type": "float"
        },
        {
         "name": "list_col",
         "rawType": "object",
         "type": "unknown"
        },
        {
         "name": "dict_col",
         "rawType": "object",
         "type": "unknown"
        },
        {
         "name": "mixed_col",
         "rawType": "object",
         "type": "unknown"
        }
       ],
       "conversionMethod": "pd.DataFrame",
       "ref": "434ef62f-3f15-4cd6-b7ea-e28759a6edba",
       "rows": [
        [
         "0",
         "1.0",
         "1.5",
         "True",
         "Yes",
         "hello",
         "2023-01-01 00:00:00",
         "1 days 00:00:00",
         "Red",
         "$10.00",
         "10%",
         "{\"key\": \"value\"}",
         "c64ae955-ed4b-4b56-b570-1a219a088f4e",
         "192.168.1.1",
         "user@example.com",
         "b'binary1'",
         "40.7128",
         "-74.006",
         "[1, 2, 3]",
         "{\"a\": 1, \"b\": 2}",
         "42"
        ],
        [
         "1",
         "-2.0",
         "-2.345",
         "False",
         "No",
         "123",
         null,
         null,
         "Green",
         "€20,50",
         "20.5%",
         "{\"user\": \"John\", \"age\": 30}",
         "35bb2f4d-7592-4b64-ba22-fb319015bc26",
         "10.0.0.1",
         "test@domain.net",
         "b'binary2'",
         "-34.6037",
         "-58.3816",
         "['a', 'b', 'c']",
         "{\"x\": \"y\"}",
         "text"
        ],
        [
         "2",
         "3000000.0",
         "320000.0",
         null,
         "1",
         "!@#%",
         null,
         null,
         "Blue",
         null,
         null,
         null,
         "f7c8d85b-e117-4317-88a2-965026f0b5a9",
         null,
         null,
         null,
         null,
         null,
         null,
         null,
         null
        ],
        [
         "3",
         null,
         null,
         "True",
         "0",
         "Üñîçødê",
         "2023-04-01 00:00:00",
         "14 days 00:00:00",
         "Yellow",
         null,
         "NaN",
         "{\"active\": false}",
         "8c336e2a-4ba3-447c-af7f-9fc121d17e04",
         "172.16.254.1",
         "email@invalid",
         "b'binary4'",
         "51.5074",
         "-0.1278",
         "[None, 4.5]",
         "{\"nested\": {\"inside\": \"dict\"}}",
         "3.14"
        ],
        [
         "4",
         null,
         "5.0",
         "False",
         null,
         null,
         "InvalidDate",
         "5 days",
         null,
         "50.00 USD",
         "0.5",
         "InvalidJSON",
         "961329ec-bd44-4712-87f9-733066971f37",
         "InvalidIP",
         "admin@site.com",
         "b'binary5'",
         "35.6895",
         "139.6917",
         "InvalidList",
         "InvalidDict",
         "{'unexpected': 'dict'}"
        ]
       ],
       "shape": {
        "columns": 20,
        "rows": 5
       }
      },
      "text/html": [
       "<div>\n",
       "<style scoped>\n",
       "    .dataframe tbody tr th:only-of-type {\n",
       "        vertical-align: middle;\n",
       "    }\n",
       "\n",
       "    .dataframe tbody tr th {\n",
       "        vertical-align: top;\n",
       "    }\n",
       "\n",
       "    .dataframe thead th {\n",
       "        text-align: right;\n",
       "    }\n",
       "</style>\n",
       "<table border=\"1\" class=\"dataframe\">\n",
       "  <thead>\n",
       "    <tr style=\"text-align: right;\">\n",
       "      <th></th>\n",
       "      <th>int_col</th>\n",
       "      <th>float_col</th>\n",
       "      <th>bool_col_standard</th>\n",
       "      <th>bool_col_mixed</th>\n",
       "      <th>str_col</th>\n",
       "      <th>datetime_col</th>\n",
       "      <th>timedelta_col</th>\n",
       "      <th>category_col</th>\n",
       "      <th>currency_col</th>\n",
       "      <th>percentage_col</th>\n",
       "      <th>json_col</th>\n",
       "      <th>uuid_col</th>\n",
       "      <th>ip_address_col</th>\n",
       "      <th>email_col</th>\n",
       "      <th>binary_col</th>\n",
       "      <th>geo_latitude</th>\n",
       "      <th>geo_longitude</th>\n",
       "      <th>list_col</th>\n",
       "      <th>dict_col</th>\n",
       "      <th>mixed_col</th>\n",
       "    </tr>\n",
       "  </thead>\n",
       "  <tbody>\n",
       "    <tr>\n",
       "      <th>0</th>\n",
       "      <td>1.0</td>\n",
       "      <td>1.500</td>\n",
       "      <td>True</td>\n",
       "      <td>Yes</td>\n",
       "      <td>hello</td>\n",
       "      <td>2023-01-01 00:00:00</td>\n",
       "      <td>1 days 00:00:00</td>\n",
       "      <td>Red</td>\n",
       "      <td>$10.00</td>\n",
       "      <td>10%</td>\n",
       "      <td>{\"key\": \"value\"}</td>\n",
       "      <td>c64ae955-ed4b-4b56-b570-1a219a088f4e</td>\n",
       "      <td>192.168.1.1</td>\n",
       "      <td>user@example.com</td>\n",
       "      <td>b'binary1'</td>\n",
       "      <td>40.7128</td>\n",
       "      <td>-74.0060</td>\n",
       "      <td>[1, 2, 3]</td>\n",
       "      <td>{\"a\": 1, \"b\": 2}</td>\n",
       "      <td>42</td>\n",
       "    </tr>\n",
       "    <tr>\n",
       "      <th>1</th>\n",
       "      <td>-2.0</td>\n",
       "      <td>-2.345</td>\n",
       "      <td>False</td>\n",
       "      <td>No</td>\n",
       "      <td>123</td>\n",
       "      <td>None</td>\n",
       "      <td>None</td>\n",
       "      <td>Green</td>\n",
       "      <td>€20,50</td>\n",
       "      <td>20.5%</td>\n",
       "      <td>{\"user\": \"John\", \"age\": 30}</td>\n",
       "      <td>35bb2f4d-7592-4b64-ba22-fb319015bc26</td>\n",
       "      <td>10.0.0.1</td>\n",
       "      <td>test@domain.net</td>\n",
       "      <td>b'binary2'</td>\n",
       "      <td>-34.6037</td>\n",
       "      <td>-58.3816</td>\n",
       "      <td>[a, b, c]</td>\n",
       "      <td>{\"x\": \"y\"}</td>\n",
       "      <td>text</td>\n",
       "    </tr>\n",
       "    <tr>\n",
       "      <th>2</th>\n",
       "      <td>3000000.0</td>\n",
       "      <td>320000.000</td>\n",
       "      <td>None</td>\n",
       "      <td>1</td>\n",
       "      <td>!@#%</td>\n",
       "      <td>NaT</td>\n",
       "      <td>NaT</td>\n",
       "      <td>Blue</td>\n",
       "      <td>None</td>\n",
       "      <td>None</td>\n",
       "      <td>None</td>\n",
       "      <td>f7c8d85b-e117-4317-88a2-965026f0b5a9</td>\n",
       "      <td>None</td>\n",
       "      <td>None</td>\n",
       "      <td>None</td>\n",
       "      <td>NaN</td>\n",
       "      <td>NaN</td>\n",
       "      <td>None</td>\n",
       "      <td>None</td>\n",
       "      <td>None</td>\n",
       "    </tr>\n",
       "    <tr>\n",
       "      <th>3</th>\n",
       "      <td>NaN</td>\n",
       "      <td>NaN</td>\n",
       "      <td>True</td>\n",
       "      <td>0</td>\n",
       "      <td>Üñîçødê</td>\n",
       "      <td>2023-04-01 00:00:00</td>\n",
       "      <td>14 days 00:00:00</td>\n",
       "      <td>Yellow</td>\n",
       "      <td>NaN</td>\n",
       "      <td>NaN</td>\n",
       "      <td>{\"active\": false}</td>\n",
       "      <td>8c336e2a-4ba3-447c-af7f-9fc121d17e04</td>\n",
       "      <td>172.16.254.1</td>\n",
       "      <td>email@invalid</td>\n",
       "      <td>b'binary4'</td>\n",
       "      <td>51.5074</td>\n",
       "      <td>-0.1278</td>\n",
       "      <td>[None, 4.5]</td>\n",
       "      <td>{\"nested\": {\"inside\": \"dict\"}}</td>\n",
       "      <td>3.14</td>\n",
       "    </tr>\n",
       "    <tr>\n",
       "      <th>4</th>\n",
       "      <td>NaN</td>\n",
       "      <td>5.000</td>\n",
       "      <td>False</td>\n",
       "      <td>None</td>\n",
       "      <td>None</td>\n",
       "      <td>InvalidDate</td>\n",
       "      <td>5 days</td>\n",
       "      <td>NaN</td>\n",
       "      <td>50.00 USD</td>\n",
       "      <td>0.5</td>\n",
       "      <td>InvalidJSON</td>\n",
       "      <td>961329ec-bd44-4712-87f9-733066971f37</td>\n",
       "      <td>InvalidIP</td>\n",
       "      <td>admin@site.com</td>\n",
       "      <td>b'binary5'</td>\n",
       "      <td>35.6895</td>\n",
       "      <td>139.6917</td>\n",
       "      <td>InvalidList</td>\n",
       "      <td>InvalidDict</td>\n",
       "      <td>{'unexpected': 'dict'}</td>\n",
       "    </tr>\n",
       "  </tbody>\n",
       "</table>\n",
       "</div>"
      ],
      "text/plain": [
       "     int_col   float_col bool_col_standard bool_col_mixed  str_col  \\\n",
       "0        1.0       1.500              True            Yes    hello   \n",
       "1       -2.0      -2.345             False             No      123   \n",
       "2  3000000.0  320000.000              None              1     !@#%   \n",
       "3        NaN         NaN              True              0  Üñîçødê   \n",
       "4        NaN       5.000             False           None     None   \n",
       "\n",
       "          datetime_col     timedelta_col category_col currency_col  \\\n",
       "0  2023-01-01 00:00:00   1 days 00:00:00          Red       $10.00   \n",
       "1                 None              None        Green       €20,50   \n",
       "2                  NaT               NaT         Blue         None   \n",
       "3  2023-04-01 00:00:00  14 days 00:00:00       Yellow          NaN   \n",
       "4          InvalidDate            5 days          NaN    50.00 USD   \n",
       "\n",
       "  percentage_col                     json_col  \\\n",
       "0            10%             {\"key\": \"value\"}   \n",
       "1          20.5%  {\"user\": \"John\", \"age\": 30}   \n",
       "2           None                         None   \n",
       "3            NaN            {\"active\": false}   \n",
       "4            0.5                  InvalidJSON   \n",
       "\n",
       "                               uuid_col ip_address_col         email_col  \\\n",
       "0  c64ae955-ed4b-4b56-b570-1a219a088f4e    192.168.1.1  user@example.com   \n",
       "1  35bb2f4d-7592-4b64-ba22-fb319015bc26       10.0.0.1   test@domain.net   \n",
       "2  f7c8d85b-e117-4317-88a2-965026f0b5a9           None              None   \n",
       "3  8c336e2a-4ba3-447c-af7f-9fc121d17e04   172.16.254.1     email@invalid   \n",
       "4  961329ec-bd44-4712-87f9-733066971f37      InvalidIP    admin@site.com   \n",
       "\n",
       "   binary_col  geo_latitude  geo_longitude     list_col  \\\n",
       "0  b'binary1'       40.7128       -74.0060    [1, 2, 3]   \n",
       "1  b'binary2'      -34.6037       -58.3816    [a, b, c]   \n",
       "2        None           NaN            NaN         None   \n",
       "3  b'binary4'       51.5074        -0.1278  [None, 4.5]   \n",
       "4  b'binary5'       35.6895       139.6917  InvalidList   \n",
       "\n",
       "                         dict_col               mixed_col  \n",
       "0                {\"a\": 1, \"b\": 2}                      42  \n",
       "1                      {\"x\": \"y\"}                    text  \n",
       "2                            None                    None  \n",
       "3  {\"nested\": {\"inside\": \"dict\"}}                    3.14  \n",
       "4                     InvalidDict  {'unexpected': 'dict'}  "
      ]
     },
     "execution_count": 17,
     "metadata": {},
     "output_type": "execute_result"
    }
   ],
   "source": [
    "df_complete.head()"
   ]
  },
  {
   "cell_type": "code",
   "execution_count": 3,
   "metadata": {},
   "outputs": [
    {
     "data": {
      "text/plain": [
       "int_col               float64\n",
       "float_col             float64\n",
       "bool_col_standard      object\n",
       "bool_col_mixed         object\n",
       "str_col                object\n",
       "datetime_col           object\n",
       "timedelta_col          object\n",
       "category_col         category\n",
       "currency_col           object\n",
       "percentage_col         object\n",
       "json_col               object\n",
       "uuid_col               object\n",
       "ip_address_col         object\n",
       "email_col              object\n",
       "binary_col             object\n",
       "geo_latitude          float64\n",
       "geo_longitude         float64\n",
       "list_col               object\n",
       "dict_col               object\n",
       "mixed_col              object\n",
       "dtype: object"
      ]
     },
     "execution_count": 3,
     "metadata": {},
     "output_type": "execute_result"
    }
   ],
   "source": [
    "df_complete.dtypes"
   ]
  },
  {
   "cell_type": "code",
   "execution_count": 1,
   "metadata": {},
   "outputs": [
    {
     "ename": "NameError",
     "evalue": "name 'np' is not defined",
     "output_type": "error",
     "traceback": [
      "\u001b[0;31m---------------------------------------------------------------------------\u001b[0m",
      "\u001b[0;31mNameError\u001b[0m                                 Traceback (most recent call last)",
      "Cell \u001b[0;32mIn[1], line 2\u001b[0m\n\u001b[1;32m      1\u001b[0m data \u001b[38;5;241m=\u001b[39m {\n\u001b[0;32m----> 2\u001b[0m         \u001b[38;5;124m\"\u001b[39m\u001b[38;5;124mint_col\u001b[39m\u001b[38;5;124m\"\u001b[39m: [\u001b[38;5;241m1\u001b[39m, \u001b[38;5;241m2\u001b[39m, \u001b[38;5;28;01mNone\u001b[39;00m, \u001b[38;5;241m4\u001b[39m, \u001b[43mnp\u001b[49m\u001b[38;5;241m.\u001b[39mnan],  \u001b[38;5;66;03m# ✅ int64 with NaN\u001b[39;00m\n\u001b[1;32m      3\u001b[0m         \u001b[38;5;124m\"\u001b[39m\u001b[38;5;124mfloat_col\u001b[39m\u001b[38;5;124m\"\u001b[39m: [\u001b[38;5;241m1.5\u001b[39m, \u001b[38;5;28;01mNone\u001b[39;00m, \u001b[38;5;124m\"\u001b[39m\u001b[38;5;124myou\u001b[39m\u001b[38;5;124m\"\u001b[39m, np\u001b[38;5;241m.\u001b[39mnan, \u001b[38;5;241m5.0\u001b[39m],  \u001b[38;5;66;03m# ✅ float64 with NaN\u001b[39;00m\n\u001b[1;32m      4\u001b[0m         \u001b[38;5;124m\"\u001b[39m\u001b[38;5;124mstr_col\u001b[39m\u001b[38;5;124m\"\u001b[39m: [\u001b[38;5;124m\"\u001b[39m\u001b[38;5;124mapple\u001b[39m\u001b[38;5;124m\"\u001b[39m, \u001b[38;5;28;01mNone\u001b[39;00m, \u001b[38;5;124m\"\u001b[39m\u001b[38;5;124mbanana\u001b[39m\u001b[38;5;124m\"\u001b[39m, \u001b[38;5;124m\"\u001b[39m\u001b[38;5;124mcherry\u001b[39m\u001b[38;5;124m\"\u001b[39m, np\u001b[38;5;241m.\u001b[39mnan],  \u001b[38;5;66;03m# ✅ object with None/NaN\u001b[39;00m\n\u001b[1;32m      5\u001b[0m         \u001b[38;5;124m\"\u001b[39m\u001b[38;5;124mbool_col\u001b[39m\u001b[38;5;124m\"\u001b[39m: [\u001b[38;5;28;01mTrue\u001b[39;00m, \u001b[38;5;28;01mFalse\u001b[39;00m, \u001b[38;5;28;01mNone\u001b[39;00m, \u001b[38;5;124m\"\u001b[39m\u001b[38;5;124mcome\u001b[39m\u001b[38;5;124m\"\u001b[39m, np\u001b[38;5;241m.\u001b[39mnan],  \u001b[38;5;66;03m# ✅ boolean with NaN\u001b[39;00m\n\u001b[1;32m      6\u001b[0m         \u001b[38;5;124m\"\u001b[39m\u001b[38;5;124mdatetime_col\u001b[39m\u001b[38;5;124m\"\u001b[39m: [pd\u001b[38;5;241m.\u001b[39mTimestamp(\u001b[38;5;124m\"\u001b[39m\u001b[38;5;124m2023-01-01\u001b[39m\u001b[38;5;124m\"\u001b[39m), \u001b[38;5;28;01mNone\u001b[39;00m, pd\u001b[38;5;241m.\u001b[39mNaT, pd\u001b[38;5;241m.\u001b[39mTimestamp(\u001b[38;5;124m\"\u001b[39m\u001b[38;5;124m2023-04-01\u001b[39m\u001b[38;5;124m\"\u001b[39m), pd\u001b[38;5;241m.\u001b[39mNaT],  \u001b[38;5;66;03m# ✅ datetime64 with NaT\u001b[39;00m\n\u001b[1;32m      7\u001b[0m         \u001b[38;5;124m\"\u001b[39m\u001b[38;5;124mtimedelta_col\u001b[39m\u001b[38;5;124m\"\u001b[39m: [pd\u001b[38;5;241m.\u001b[39mTimedelta(days\u001b[38;5;241m=\u001b[39m\u001b[38;5;241m1\u001b[39m), \u001b[38;5;28;01mNone\u001b[39;00m, pd\u001b[38;5;241m.\u001b[39mNaT, pd\u001b[38;5;241m.\u001b[39mTimedelta(days\u001b[38;5;241m=\u001b[39m\u001b[38;5;241m4\u001b[39m), pd\u001b[38;5;241m.\u001b[39mNaT],  \u001b[38;5;66;03m# ✅ timedelta64 with NaT\u001b[39;00m\n\u001b[1;32m      8\u001b[0m         \u001b[38;5;124m\"\u001b[39m\u001b[38;5;124mcategory_col\u001b[39m\u001b[38;5;124m\"\u001b[39m: pd\u001b[38;5;241m.\u001b[39mCategorical([\u001b[38;5;124m\"\u001b[39m\u001b[38;5;124mA\u001b[39m\u001b[38;5;124m\"\u001b[39m, \u001b[38;5;124m\"\u001b[39m\u001b[38;5;124mB\u001b[39m\u001b[38;5;124m\"\u001b[39m, \u001b[38;5;28;01mNone\u001b[39;00m, \u001b[38;5;124m\"\u001b[39m\u001b[38;5;124mD\u001b[39m\u001b[38;5;124m\"\u001b[39m, np\u001b[38;5;241m.\u001b[39mnan]),  \u001b[38;5;66;03m# ✅ category with missing values\u001b[39;00m\n\u001b[1;32m      9\u001b[0m         \u001b[38;5;124m\"\u001b[39m\u001b[38;5;124mcurrency_col\u001b[39m\u001b[38;5;124m\"\u001b[39m: [\u001b[38;5;241m10.0\u001b[39m, \u001b[38;5;241m20.5\u001b[39m, \u001b[38;5;28;01mNone\u001b[39;00m, np\u001b[38;5;241m.\u001b[39mnan, \u001b[38;5;241m50.0\u001b[39m],  \u001b[38;5;66;03m# ✅ float (to be formatted as currency)\u001b[39;00m\n\u001b[1;32m     10\u001b[0m         \u001b[38;5;124m\"\u001b[39m\u001b[38;5;124mpercentage_col\u001b[39m\u001b[38;5;124m\"\u001b[39m: [\u001b[38;5;241m0.25\u001b[39m, \u001b[38;5;241m0.50\u001b[39m, \u001b[38;5;28;01mNone\u001b[39;00m, np\u001b[38;5;241m.\u001b[39mnan, \u001b[38;5;241m1.0\u001b[39m],  \u001b[38;5;66;03m# ✅ float (to be converted to percentage)\u001b[39;00m\n\u001b[1;32m     11\u001b[0m     }\n\u001b[1;32m     13\u001b[0m df \u001b[38;5;241m=\u001b[39m pd\u001b[38;5;241m.\u001b[39mDataFrame(data)\n\u001b[1;32m     14\u001b[0m bv\u001b[38;5;241m.\u001b[39mshow(df)\n",
      "\u001b[0;31mNameError\u001b[0m: name 'np' is not defined"
     ]
    }
   ],
   "source": [
    "data = {\n",
    "        \"int_col\": [1, 2, None, 4, np.nan],  # ✅ int64 with NaN\n",
    "        \"float_col\": [1.5, None, \"you\", np.nan, 5.0],  # ✅ float64 with NaN\n",
    "        \"str_col\": [\"apple\", None, \"banana\", \"cherry\", np.nan],  # ✅ object with None/NaN\n",
    "        \"bool_col\": [True, False, None, \"come\", np.nan],  # ✅ boolean with NaN\n",
    "        \"datetime_col\": [pd.Timestamp(\"2023-01-01\"), None, pd.NaT, pd.Timestamp(\"2023-04-01\"), pd.NaT],  # ✅ datetime64 with NaT\n",
    "        \"timedelta_col\": [pd.Timedelta(days=1), None, pd.NaT, pd.Timedelta(days=4), pd.NaT],  # ✅ timedelta64 with NaT\n",
    "        \"category_col\": pd.Categorical([\"A\", \"B\", None, \"D\", np.nan]),  # ✅ category with missing values\n",
    "        \"currency_col\": [10.0, 20.5, None, np.nan, 50.0],  # ✅ float (to be formatted as currency)\n",
    "        \"percentage_col\": [0.25, 0.50, None, np.nan, 1.0],  # ✅ float (to be converted to percentage)\n",
    "    }\n",
    "\n",
    "df = pd.DataFrame(data)\n",
    "bv.show(df)"
   ]
  },
  {
   "cell_type": "code",
   "execution_count": null,
   "metadata": {},
   "outputs": [],
   "source": []
  },
  {
   "cell_type": "code",
   "execution_count": null,
   "metadata": {},
   "outputs": [],
   "source": []
  },
  {
   "cell_type": "code",
   "execution_count": null,
   "metadata": {},
   "outputs": [],
   "source": []
  },
  {
   "cell_type": "code",
   "execution_count": null,
   "metadata": {},
   "outputs": [],
   "source": []
  },
  {
   "cell_type": "code",
   "execution_count": null,
   "metadata": {},
   "outputs": [],
   "source": []
  },
  {
   "cell_type": "code",
   "execution_count": null,
   "metadata": {},
   "outputs": [],
   "source": []
  },
  {
   "cell_type": "code",
   "execution_count": null,
   "metadata": {},
   "outputs": [],
   "source": []
  },
  {
   "cell_type": "code",
   "execution_count": null,
   "metadata": {},
   "outputs": [],
   "source": []
  },
  {
   "cell_type": "code",
   "execution_count": null,
   "metadata": {},
   "outputs": [],
   "source": []
  },
  {
   "cell_type": "code",
   "execution_count": null,
   "metadata": {},
   "outputs": [],
   "source": []
  },
  {
   "cell_type": "code",
   "execution_count": null,
   "metadata": {},
   "outputs": [],
   "source": []
  },
  {
   "cell_type": "code",
   "execution_count": null,
   "metadata": {},
   "outputs": [],
   "source": []
  },
  {
   "cell_type": "code",
   "execution_count": null,
   "metadata": {},
   "outputs": [],
   "source": []
  },
  {
   "cell_type": "code",
   "execution_count": null,
   "metadata": {},
   "outputs": [],
   "source": []
  },
  {
   "cell_type": "code",
   "execution_count": null,
   "metadata": {},
   "outputs": [],
   "source": []
  },
  {
   "cell_type": "code",
   "execution_count": null,
   "metadata": {},
   "outputs": [],
   "source": []
  },
  {
   "cell_type": "code",
   "execution_count": null,
   "metadata": {},
   "outputs": [],
   "source": []
  },
  {
   "cell_type": "code",
   "execution_count": 1,
   "metadata": {},
   "outputs": [],
   "source": [
    "import bvista as bv\n",
    "import pandas as pd\n",
    "import numpy as np\n",
    "\n",
    "# Generate a large dataset with 100000 rows and 50 columns\n",
    "np.random.seed(42)\n",
    "num_rows = 100\n",
    "num_cols = 50\n",
    "\n",
    "columns = [f\"Col_{i}\" for i in range(1, num_cols + 1)]\n",
    "data = np.random.randint(1, 100, size=(num_rows, num_cols))\n",
    "\n",
    "df_large = pd.DataFrame(data, columns=columns)\n",
    "\n"
   ]
  },
  {
   "cell_type": "code",
   "execution_count": 2,
   "metadata": {},
   "outputs": [
    {
     "data": {
      "text/html": [
       "\n",
       "    <iframe src=\"http://127.0.0.1:5050/?session_id=df_large\" width=\"100%\" height=\"600px\" style=\"border:none;\"></iframe>\n",
       "    <p style=\"margin-top:10px;\">\n",
       "        <a href=\"http://127.0.0.1:5050/?session_id=df_large\" target=\"_blank\" style=\"font-size:14px; text-decoration:none; color:#007bff;\">\n",
       "            🔗 Open in Web Browser\n",
       "        </a>\n",
       "    </p>\n",
       "    "
      ],
      "text/plain": [
       "<IPython.core.display.HTML object>"
      ]
     },
     "metadata": {},
     "output_type": "display_data"
    }
   ],
   "source": [
    "# Show the large dataset in B-Vista\n",
    "bv.show(df_large)\n"
   ]
  },
  {
   "cell_type": "code",
   "execution_count": null,
   "metadata": {},
   "outputs": [],
   "source": []
  },
  {
   "cell_type": "code",
   "execution_count": null,
   "metadata": {},
   "outputs": [],
   "source": []
  },
  {
   "cell_type": "code",
   "execution_count": 6,
   "metadata": {},
   "outputs": [
    {
     "data": {
      "text/html": [
       "\n",
       "    <iframe src=\"http://127.0.0.1:5050/?session_id=df\" width=\"100%\" height=\"600px\" style=\"border:none;\"></iframe>\n",
       "    <p style=\"margin-top:10px;\">\n",
       "        <a href=\"http://127.0.0.1:5050/?session_id=df\" target=\"_blank\" style=\"font-size:14px; text-decoration:none; color:#007bff;\">\n",
       "            🔗 Open in Web Browser\n",
       "        </a>\n",
       "    </p>\n",
       "    "
      ],
      "text/plain": [
       "<IPython.core.display.HTML object>"
      ]
     },
     "metadata": {},
     "output_type": "display_data"
    }
   ],
   "source": [
    "# Show the large dataset in B-Vista\n",
    "bv.show(df)"
   ]
  },
  {
   "cell_type": "code",
   "execution_count": null,
   "metadata": {},
   "outputs": [],
   "source": []
  },
  {
   "cell_type": "code",
   "execution_count": null,
   "metadata": {},
   "outputs": [],
   "source": []
  },
  {
   "cell_type": "code",
   "execution_count": null,
   "metadata": {},
   "outputs": [],
   "source": []
  },
  {
   "cell_type": "code",
   "execution_count": null,
   "metadata": {},
   "outputs": [],
   "source": []
  },
  {
   "cell_type": "code",
   "execution_count": 3,
   "metadata": {},
   "outputs": [
    {
     "data": {
      "text/html": [
       "\n",
       "    <iframe src=\"http://127.0.0.1:5050/?session_id=df2\" width=\"100%\" height=\"600px\" style=\"border:none;\"></iframe>\n",
       "    <p style=\"margin-top:10px;\">\n",
       "        <a href=\"http://127.0.0.1:5050/?session_id=df2\" target=\"_blank\" style=\"font-size:14px; text-decoration:none; color:#007bff;\">\n",
       "            🔗 Open in Web Browser\n",
       "        </a>\n",
       "    </p>\n",
       "    "
      ],
      "text/plain": [
       "<IPython.core.display.HTML object>"
      ]
     },
     "metadata": {},
     "output_type": "display_data"
    }
   ],
   "source": [
    "\n",
    "import bvista as bv\n",
    "import pandas as pd\n",
    "import numpy as np\n",
    "\n",
    "\n",
    "data = {\n",
    "    \"ID\": [1, 2, 3, 4, 5],\n",
    "    \"Name\": [\"Alice\", \"Bob\", \"Charlie\", \"David\", \"Moses\"],\n",
    "    \"Score\": [95, 80, 75, 85, 90]\n",
    "}\n",
    "df2 = pd.DataFrame(data)\n",
    "\n",
    "bv.show(df2)\n"
   ]
  },
  {
   "cell_type": "code",
   "execution_count": null,
   "metadata": {},
   "outputs": [],
   "source": [
    "#f9f9f9 "
   ]
  },
  {
   "cell_type": "code",
   "execution_count": 4,
   "metadata": {},
   "outputs": [
    {
     "data": {
      "text/html": [
       "\n",
       "    <iframe src=\"http://127.0.0.1:5050/?session_id=df2\" width=\"100%\" height=\"600px\" style=\"border:none;\"></iframe>\n",
       "    <p style=\"margin-top:10px;\">\n",
       "        <a href=\"http://127.0.0.1:5050/?session_id=df2\" target=\"_blank\" style=\"font-size:14px; text-decoration:none; color:#007bff;\">\n",
       "            🔗 Open in Web Browser\n",
       "        </a>\n",
       "    </p>\n",
       "    "
      ],
      "text/plain": [
       "<IPython.core.display.HTML object>"
      ]
     },
     "metadata": {},
     "output_type": "display_data"
    }
   ],
   "source": [
    "bv.show(df2)"
   ]
  },
  {
   "cell_type": "code",
   "execution_count": null,
   "metadata": {},
   "outputs": [],
   "source": []
  },
  {
   "cell_type": "code",
   "execution_count": null,
   "metadata": {},
   "outputs": [],
   "source": []
  },
  {
   "cell_type": "code",
   "execution_count": null,
   "metadata": {},
   "outputs": [],
   "source": []
  },
  {
   "cell_type": "code",
   "execution_count": 1,
   "metadata": {},
   "outputs": [
    {
     "data": {
      "application/vnd.microsoft.datawrangler.viewer.v0+json": {
       "columns": [
        {
         "name": "index",
         "rawType": "int64",
         "type": "integer"
        },
        {
         "name": "IntegerColumn",
         "rawType": "int64",
         "type": "integer"
        },
        {
         "name": "FloatColumn",
         "rawType": "float64",
         "type": "float"
        },
        {
         "name": "StringColumn",
         "rawType": "object",
         "type": "string"
        },
        {
         "name": "BooleanColumn",
         "rawType": "bool",
         "type": "boolean"
        },
        {
         "name": "DatetimeColumn",
         "rawType": "datetime64[ns]",
         "type": "datetime"
        },
        {
         "name": "TimedeltaColumn",
         "rawType": "timedelta64[ns]",
         "type": "unknown"
        },
        {
         "name": "CategoryColumn",
         "rawType": "category",
         "type": "unknown"
        }
       ],
       "conversionMethod": "pd.DataFrame",
       "ref": "c64a621e-930b-4111-bba1-f16791190e6d",
       "rows": [
        [
         "0",
         "1",
         "1.1",
         "A",
         "True",
         "2025-01-01 00:00:00",
         "1 days 00:00:00",
         "Small"
        ],
        [
         "1",
         "2",
         "2.2",
         "B",
         "False",
         "2025-01-02 00:00:00",
         "2 days 00:00:00",
         "Medium"
        ],
        [
         "2",
         "3",
         "3.3",
         "C",
         "True",
         "2025-01-03 00:00:00",
         "3 days 00:00:00",
         "Large"
        ],
        [
         "3",
         "4",
         "4.4",
         "D",
         "False",
         "2025-01-04 00:00:00",
         "4 days 00:00:00",
         "Small"
        ],
        [
         "4",
         "5",
         "5.5",
         "E",
         "True",
         "2025-01-05 00:00:00",
         "5 days 00:00:00",
         "Medium"
        ]
       ],
       "shape": {
        "columns": 7,
        "rows": 5
       }
      },
      "text/html": [
       "<div>\n",
       "<style scoped>\n",
       "    .dataframe tbody tr th:only-of-type {\n",
       "        vertical-align: middle;\n",
       "    }\n",
       "\n",
       "    .dataframe tbody tr th {\n",
       "        vertical-align: top;\n",
       "    }\n",
       "\n",
       "    .dataframe thead th {\n",
       "        text-align: right;\n",
       "    }\n",
       "</style>\n",
       "<table border=\"1\" class=\"dataframe\">\n",
       "  <thead>\n",
       "    <tr style=\"text-align: right;\">\n",
       "      <th></th>\n",
       "      <th>IntegerColumn</th>\n",
       "      <th>FloatColumn</th>\n",
       "      <th>StringColumn</th>\n",
       "      <th>BooleanColumn</th>\n",
       "      <th>DatetimeColumn</th>\n",
       "      <th>TimedeltaColumn</th>\n",
       "      <th>CategoryColumn</th>\n",
       "    </tr>\n",
       "  </thead>\n",
       "  <tbody>\n",
       "    <tr>\n",
       "      <th>0</th>\n",
       "      <td>1</td>\n",
       "      <td>1.1</td>\n",
       "      <td>A</td>\n",
       "      <td>True</td>\n",
       "      <td>2025-01-01</td>\n",
       "      <td>1 days</td>\n",
       "      <td>Small</td>\n",
       "    </tr>\n",
       "    <tr>\n",
       "      <th>1</th>\n",
       "      <td>2</td>\n",
       "      <td>2.2</td>\n",
       "      <td>B</td>\n",
       "      <td>False</td>\n",
       "      <td>2025-01-02</td>\n",
       "      <td>2 days</td>\n",
       "      <td>Medium</td>\n",
       "    </tr>\n",
       "    <tr>\n",
       "      <th>2</th>\n",
       "      <td>3</td>\n",
       "      <td>3.3</td>\n",
       "      <td>C</td>\n",
       "      <td>True</td>\n",
       "      <td>2025-01-03</td>\n",
       "      <td>3 days</td>\n",
       "      <td>Large</td>\n",
       "    </tr>\n",
       "    <tr>\n",
       "      <th>3</th>\n",
       "      <td>4</td>\n",
       "      <td>4.4</td>\n",
       "      <td>D</td>\n",
       "      <td>False</td>\n",
       "      <td>2025-01-04</td>\n",
       "      <td>4 days</td>\n",
       "      <td>Small</td>\n",
       "    </tr>\n",
       "    <tr>\n",
       "      <th>4</th>\n",
       "      <td>5</td>\n",
       "      <td>5.5</td>\n",
       "      <td>E</td>\n",
       "      <td>True</td>\n",
       "      <td>2025-01-05</td>\n",
       "      <td>5 days</td>\n",
       "      <td>Medium</td>\n",
       "    </tr>\n",
       "  </tbody>\n",
       "</table>\n",
       "</div>"
      ],
      "text/plain": [
       "   IntegerColumn  FloatColumn StringColumn  BooleanColumn DatetimeColumn  \\\n",
       "0              1          1.1            A           True     2025-01-01   \n",
       "1              2          2.2            B          False     2025-01-02   \n",
       "2              3          3.3            C           True     2025-01-03   \n",
       "3              4          4.4            D          False     2025-01-04   \n",
       "4              5          5.5            E           True     2025-01-05   \n",
       "\n",
       "  TimedeltaColumn CategoryColumn  \n",
       "0          1 days          Small  \n",
       "1          2 days         Medium  \n",
       "2          3 days          Large  \n",
       "3          4 days          Small  \n",
       "4          5 days         Medium  "
      ]
     },
     "execution_count": 1,
     "metadata": {},
     "output_type": "execute_result"
    }
   ],
   "source": [
    "import pandas as pd\n",
    "import numpy as np\n",
    "\n",
    "# ✅ Generate a sample DataFrame with various data types\n",
    "df3 = pd.DataFrame({\n",
    "    \"IntegerColumn\": [1, 2, 3, 4, 5],  # int64\n",
    "    \"FloatColumn\": [1.1, 2.2, 3.3, 4.4, 5.5],  # float64\n",
    "    \"StringColumn\": [\"A\", \"B\", \"C\", \"D\", \"E\"],  # object (string)\n",
    "    \"BooleanColumn\": [True, False, True, False, True],  # bool\n",
    "    \"DatetimeColumn\": pd.date_range(start=\"2025-01-01\", periods=5, freq=\"D\"),  # datetime64\n",
    "    \"TimedeltaColumn\": pd.to_timedelta([1, 2, 3, 4, 5], unit=\"D\"),  # timedelta64\n",
    "    \"CategoryColumn\": pd.Categorical([\"Small\", \"Medium\", \"Large\", \"Small\", \"Medium\"])  # category\n",
    "})\n",
    "\n",
    "df3.head()\n"
   ]
  },
  {
   "cell_type": "code",
   "execution_count": 2,
   "metadata": {},
   "outputs": [
    {
     "data": {
      "text/html": [
       "\n",
       "    <iframe src=\"http://127.0.0.1:5050/?session_id=df3\" width=\"100%\" height=\"600px\" style=\"border:none;\"></iframe>\n",
       "    <p style=\"margin-top:10px;\">\n",
       "        <a href=\"http://127.0.0.1:5050/?session_id=df3\" target=\"_blank\" style=\"font-size:14px; text-decoration:none; color:#007bff;\">\n",
       "            🔗 Open in Web Browser\n",
       "        </a>\n",
       "    </p>\n",
       "    "
      ],
      "text/plain": [
       "<IPython.core.display.HTML object>"
      ]
     },
     "metadata": {},
     "output_type": "display_data"
    }
   ],
   "source": [
    "import bvista as bv\n",
    "\n",
    "bv.show(df3)"
   ]
  },
  {
   "cell_type": "code",
   "execution_count": null,
   "metadata": {},
   "outputs": [],
   "source": []
  },
  {
   "cell_type": "code",
   "execution_count": null,
   "metadata": {},
   "outputs": [],
   "source": []
  },
  {
   "cell_type": "code",
   "execution_count": 4,
   "metadata": {},
   "outputs": [
    {
     "data": {
      "text/html": [
       "\n",
       "    <iframe src=\"http://127.0.0.1:5050/?session_id=df4\" width=\"100%\" height=\"600px\" style=\"border:none;\"></iframe>\n",
       "    <p style=\"margin-top:10px;\">\n",
       "        <a href=\"http://127.0.0.1:5050/?session_id=df4\" target=\"_blank\" style=\"font-size:14px; text-decoration:none; color:#007bff;\">\n",
       "            🔗 Open in Web Browser\n",
       "        </a>\n",
       "    </p>\n",
       "    "
      ],
      "text/plain": [
       "<IPython.core.display.HTML object>"
      ]
     },
     "metadata": {},
     "output_type": "display_data"
    }
   ],
   "source": [
    "import pandas as pd\n",
    "import numpy as np\n",
    "import bvista as bv\n",
    "\n",
    "# ✅ Create a sample DataFrame with missing values\n",
    "data = {\n",
    "    \"ID\": [1, 2, 3, 4, 5],\n",
    "    \"Name\": [\"Alice\", \"Bob\", \"\", \"David\", \"Eve\"],\n",
    "    \"Age\": [25, 7, 30, None, 28],\n",
    "    \"City\": [\"New York\", \"yuu\", \"Los Angeles\", \"Chicago\", \"\"],\n",
    "    \"Salary\": [50000, 60000, 5, 55000, 65000],\n",
    "}\n",
    "\n",
    "df4 = pd.DataFrame(data)\n",
    "\n",
    "\n",
    "\n",
    "bv.show(df4)\n"
   ]
  },
  {
   "cell_type": "code",
   "execution_count": 5,
   "metadata": {},
   "outputs": [
    {
     "data": {
      "text/html": [
       "\n",
       "    <iframe src=\"http://127.0.0.1:5050/?session_id=df4\" width=\"100%\" height=\"600px\" style=\"border:none;\"></iframe>\n",
       "    <p style=\"margin-top:10px;\">\n",
       "        <a href=\"http://127.0.0.1:5050/?session_id=df4\" target=\"_blank\" style=\"font-size:14px; text-decoration:none; color:#007bff;\">\n",
       "            🔗 Open in Web Browser\n",
       "        </a>\n",
       "    </p>\n",
       "    "
      ],
      "text/plain": [
       "<IPython.core.display.HTML object>"
      ]
     },
     "metadata": {},
     "output_type": "display_data"
    }
   ],
   "source": [
    "bv.show(df4)"
   ]
  },
  {
   "cell_type": "code",
   "execution_count": null,
   "metadata": {},
   "outputs": [],
   "source": []
  },
  {
   "cell_type": "code",
   "execution_count": 6,
   "metadata": {},
   "outputs": [
    {
     "data": {
      "text/html": [
       "\n",
       "    <iframe src=\"http://127.0.0.1:5050/?session_id=df4\" width=\"100%\" height=\"600px\" style=\"border:none;\"></iframe>\n",
       "    <p style=\"margin-top:10px;\">\n",
       "        <a href=\"http://127.0.0.1:5050/?session_id=df4\" target=\"_blank\" style=\"font-size:14px; text-decoration:none; color:#007bff;\">\n",
       "            🔗 Open in Web Browser\n",
       "        </a>\n",
       "    </p>\n",
       "    "
      ],
      "text/plain": [
       "<IPython.core.display.HTML object>"
      ]
     },
     "metadata": {},
     "output_type": "display_data"
    }
   ],
   "source": [
    "import pandas as pd\n",
    "import numpy as np\n",
    "import bvista as bv\n",
    "\n",
    "# ✅ Create a sample DataFrame with missing values\n",
    "data = {\n",
    "    \"ID\": [1, 2, 3, 4, 5],\n",
    "    \"Name\": [\"Alice\", \"Bob\", None, \"David\", \"Eve\"],\n",
    "    \"Age\": [25, np.nan, 30, None, 28],\n",
    "    \"City\": [\"New York\", \"Henry\", \"Los Angeles\", \"Chicago\", None],\n",
    "    \"Salary\": [50000, 60000, np.nan, 55000, 70000],\n",
    "}\n",
    "\n",
    "df4 = pd.DataFrame(data)\n",
    "\n",
    "\n",
    "\n",
    "bv.show(df4)\n"
   ]
  },
  {
   "cell_type": "code",
   "execution_count": null,
   "metadata": {},
   "outputs": [],
   "source": []
  },
  {
   "cell_type": "code",
   "execution_count": null,
   "metadata": {},
   "outputs": [],
   "source": []
  },
  {
   "cell_type": "code",
   "execution_count": 1,
   "metadata": {},
   "outputs": [],
   "source": [
    "import pandas as pd\n",
    "import numpy as np\n",
    "import bvista as bv\n"
   ]
  },
  {
   "cell_type": "code",
   "execution_count": 2,
   "metadata": {},
   "outputs": [
    {
     "data": {
      "text/html": [
       "\n",
       "    <iframe src=\"http://127.0.0.1:5050/?session_id=df5\" width=\"100%\" height=\"600px\" style=\"border:none;\"></iframe>\n",
       "    <p style=\"margin-top:10px;\">\n",
       "        <a href=\"http://127.0.0.1:5050/?session_id=df5\" target=\"_blank\" style=\"font-size:14px; text-decoration:none; color:#007bff;\">\n",
       "            🔗 Open in Web Browser\n",
       "        </a>\n",
       "    </p>\n",
       "    "
      ],
      "text/plain": [
       "<IPython.core.display.HTML object>"
      ]
     },
     "metadata": {},
     "output_type": "display_data"
    }
   ],
   "source": [
    "data = {\n",
    "        \"int_col\": [1, 2, None, 4, np.nan],  # ✅ int64 with NaN\n",
    "        \"float_col\": [1.5, None, 3.2, np.nan, 5.0],  # ✅ float64 with NaN\n",
    "        \"str_col\": [\"apple\", None, \"banana\", \"cherry\", np.nan],  # ✅ object with None/NaN\n",
    "        \"bool_col\": [True, False, None, True, np.nan],  # ✅ boolean with NaN\n",
    "        \"datetime_col\": [pd.Timestamp(\"2023-01-01\"), None, pd.NaT, pd.Timestamp(\"2023-04-01\"), pd.NaT],  # ✅ datetime64 with NaT\n",
    "        \"timedelta_col\": [pd.Timedelta(days=1), None, pd.NaT, pd.Timedelta(days=4), pd.NaT],  # ✅ timedelta64 with NaT\n",
    "        \"category_col\": pd.Categorical([\"A\", \"B\", None, \"D\", np.nan]),  # ✅ category with missing values\n",
    "        \"currency_col\": [10.0, 20.5, None, np.nan, 50.0],  # ✅ float (to be formatted as currency)\n",
    "        \"percentage_col\": [0.25, 0.50, None, np.nan, 1.0],  # ✅ float (to be converted to percentage)\n",
    "    }\n",
    "\n",
    "df5 = pd.DataFrame(data)\n",
    "\n",
    "bv.show(df5)"
   ]
  },
  {
   "cell_type": "code",
   "execution_count": 3,
   "metadata": {},
   "outputs": [
    {
     "data": {
      "text/plain": [
       "int_col                   float64\n",
       "float_col                 float64\n",
       "str_col                    object\n",
       "bool_col                   object\n",
       "datetime_col       datetime64[ns]\n",
       "timedelta_col     timedelta64[ns]\n",
       "category_col             category\n",
       "currency_col              float64\n",
       "percentage_col            float64\n",
       "dtype: object"
      ]
     },
     "execution_count": 3,
     "metadata": {},
     "output_type": "execute_result"
    }
   ],
   "source": [
    "df5.dtypes"
   ]
  },
  {
   "cell_type": "code",
   "execution_count": 28,
   "metadata": {},
   "outputs": [
    {
     "name": "stdout",
     "output_type": "stream",
     "text": [
      "{'int_col': 'float64', 'float_col': 'float64', 'str_col': 'object', 'bool_col': 'object', 'datetime_col': 'datetime64[ns]', 'timedelta_col': 'timedelta64[ns]', 'category_col': 'category', 'currency_col': 'float64', 'percentage_col': 'float64'}\n"
     ]
    }
   ],
   "source": [
    "dtype_mapping = df5.dtypes.apply(lambda x: str(x)).to_dict()\n",
    "print(dtype_mapping)"
   ]
  },
  {
   "cell_type": "code",
   "execution_count": 43,
   "metadata": {},
   "outputs": [
    {
     "data": {
      "text/plain": [
       "dict_values(['float64', 'float64', 'object', 'object', 'datetime64[ns]', 'timedelta64[ns]', 'category', 'float64', 'float64'])"
      ]
     },
     "execution_count": 43,
     "metadata": {},
     "output_type": "execute_result"
    }
   ],
   "source": [
    "dtype_mapping.values()"
   ]
  },
  {
   "cell_type": "code",
   "execution_count": null,
   "metadata": {},
   "outputs": [],
   "source": []
  },
  {
   "cell_type": "code",
   "execution_count": 4,
   "metadata": {},
   "outputs": [],
   "source": [
    "df5.to_csv('data.csv', index=False)"
   ]
  },
  {
   "cell_type": "code",
   "execution_count": null,
   "metadata": {},
   "outputs": [],
   "source": []
  },
  {
   "cell_type": "code",
   "execution_count": 5,
   "metadata": {},
   "outputs": [
    {
     "data": {
      "application/vnd.microsoft.datawrangler.viewer.v0+json": {
       "columns": [
        {
         "name": "index",
         "rawType": "int64",
         "type": "integer"
        },
        {
         "name": "int_col",
         "rawType": "float64",
         "type": "float"
        },
        {
         "name": "float_col",
         "rawType": "float64",
         "type": "float"
        },
        {
         "name": "str_col",
         "rawType": "object",
         "type": "unknown"
        },
        {
         "name": "bool_col",
         "rawType": "object",
         "type": "unknown"
        },
        {
         "name": "datetime_col",
         "rawType": "object",
         "type": "unknown"
        },
        {
         "name": "timedelta_col",
         "rawType": "object",
         "type": "unknown"
        },
        {
         "name": "category_col",
         "rawType": "object",
         "type": "unknown"
        },
        {
         "name": "currency_col",
         "rawType": "float64",
         "type": "float"
        },
        {
         "name": "percentage_col",
         "rawType": "float64",
         "type": "float"
        }
       ],
       "conversionMethod": "pd.DataFrame",
       "ref": "f3b163df-f377-4e09-b474-1d917c3cf22b",
       "rows": [
        [
         "0",
         "1.0",
         "1.5",
         "apple",
         "True",
         "2023-01-01",
         "1 days",
         "A",
         "10.0",
         "0.25"
        ],
        [
         "1",
         "2.0",
         null,
         null,
         "False",
         null,
         null,
         "B",
         "20.5",
         "0.5"
        ],
        [
         "2",
         null,
         "3.2",
         "banana",
         null,
         null,
         null,
         null,
         null,
         null
        ],
        [
         "3",
         "4.0",
         null,
         "cherry",
         "True",
         "2023-04-01",
         "4 days",
         "D",
         null,
         null
        ],
        [
         "4",
         null,
         "5.0",
         null,
         null,
         null,
         null,
         null,
         "50.0",
         "1.0"
        ]
       ],
       "shape": {
        "columns": 9,
        "rows": 5
       }
      },
      "text/html": [
       "<div>\n",
       "<style scoped>\n",
       "    .dataframe tbody tr th:only-of-type {\n",
       "        vertical-align: middle;\n",
       "    }\n",
       "\n",
       "    .dataframe tbody tr th {\n",
       "        vertical-align: top;\n",
       "    }\n",
       "\n",
       "    .dataframe thead th {\n",
       "        text-align: right;\n",
       "    }\n",
       "</style>\n",
       "<table border=\"1\" class=\"dataframe\">\n",
       "  <thead>\n",
       "    <tr style=\"text-align: right;\">\n",
       "      <th></th>\n",
       "      <th>int_col</th>\n",
       "      <th>float_col</th>\n",
       "      <th>str_col</th>\n",
       "      <th>bool_col</th>\n",
       "      <th>datetime_col</th>\n",
       "      <th>timedelta_col</th>\n",
       "      <th>category_col</th>\n",
       "      <th>currency_col</th>\n",
       "      <th>percentage_col</th>\n",
       "    </tr>\n",
       "  </thead>\n",
       "  <tbody>\n",
       "    <tr>\n",
       "      <th>0</th>\n",
       "      <td>1.0</td>\n",
       "      <td>1.5</td>\n",
       "      <td>apple</td>\n",
       "      <td>True</td>\n",
       "      <td>2023-01-01</td>\n",
       "      <td>1 days</td>\n",
       "      <td>A</td>\n",
       "      <td>10.0</td>\n",
       "      <td>0.25</td>\n",
       "    </tr>\n",
       "    <tr>\n",
       "      <th>1</th>\n",
       "      <td>2.0</td>\n",
       "      <td>NaN</td>\n",
       "      <td>NaN</td>\n",
       "      <td>False</td>\n",
       "      <td>NaN</td>\n",
       "      <td>NaN</td>\n",
       "      <td>B</td>\n",
       "      <td>20.5</td>\n",
       "      <td>0.50</td>\n",
       "    </tr>\n",
       "    <tr>\n",
       "      <th>2</th>\n",
       "      <td>NaN</td>\n",
       "      <td>3.2</td>\n",
       "      <td>banana</td>\n",
       "      <td>NaN</td>\n",
       "      <td>NaN</td>\n",
       "      <td>NaN</td>\n",
       "      <td>NaN</td>\n",
       "      <td>NaN</td>\n",
       "      <td>NaN</td>\n",
       "    </tr>\n",
       "    <tr>\n",
       "      <th>3</th>\n",
       "      <td>4.0</td>\n",
       "      <td>NaN</td>\n",
       "      <td>cherry</td>\n",
       "      <td>True</td>\n",
       "      <td>2023-04-01</td>\n",
       "      <td>4 days</td>\n",
       "      <td>D</td>\n",
       "      <td>NaN</td>\n",
       "      <td>NaN</td>\n",
       "    </tr>\n",
       "    <tr>\n",
       "      <th>4</th>\n",
       "      <td>NaN</td>\n",
       "      <td>5.0</td>\n",
       "      <td>NaN</td>\n",
       "      <td>NaN</td>\n",
       "      <td>NaN</td>\n",
       "      <td>NaN</td>\n",
       "      <td>NaN</td>\n",
       "      <td>50.0</td>\n",
       "      <td>1.00</td>\n",
       "    </tr>\n",
       "  </tbody>\n",
       "</table>\n",
       "</div>"
      ],
      "text/plain": [
       "   int_col  float_col str_col bool_col datetime_col timedelta_col  \\\n",
       "0      1.0        1.5   apple     True   2023-01-01        1 days   \n",
       "1      2.0        NaN     NaN    False          NaN           NaN   \n",
       "2      NaN        3.2  banana      NaN          NaN           NaN   \n",
       "3      4.0        NaN  cherry     True   2023-04-01        4 days   \n",
       "4      NaN        5.0     NaN      NaN          NaN           NaN   \n",
       "\n",
       "  category_col  currency_col  percentage_col  \n",
       "0            A          10.0            0.25  \n",
       "1            B          20.5            0.50  \n",
       "2          NaN           NaN             NaN  \n",
       "3            D           NaN             NaN  \n",
       "4          NaN          50.0            1.00  "
      ]
     },
     "execution_count": 5,
     "metadata": {},
     "output_type": "execute_result"
    }
   ],
   "source": [
    "df7 = pd.read_csv('data.csv')  \n",
    "\n",
    "df7.head()"
   ]
  },
  {
   "cell_type": "code",
   "execution_count": 6,
   "metadata": {},
   "outputs": [
    {
     "data": {
      "text/plain": [
       "int_col           float64\n",
       "float_col         float64\n",
       "str_col            object\n",
       "bool_col           object\n",
       "datetime_col       object\n",
       "timedelta_col      object\n",
       "category_col       object\n",
       "currency_col      float64\n",
       "percentage_col    float64\n",
       "dtype: object"
      ]
     },
     "execution_count": 6,
     "metadata": {},
     "output_type": "execute_result"
    }
   ],
   "source": [
    "df7.dtypes"
   ]
  },
  {
   "cell_type": "code",
   "execution_count": null,
   "metadata": {},
   "outputs": [],
   "source": [
    "# ✅ Route: Retrieve dataset\n",
    "\n",
    "def get_data(df):\n",
    "\n",
    "\n",
    "   \n",
    "\n",
    "   \n",
    "\n",
    "    # ✅ Get the correct data types for each column\n",
    "    dtype_mapping = df.dtypes.apply(lambda x: str(x)).to_dict()\n",
    "\n",
    "    # ✅ Convert DataFrame to JSON-safe dictionary\n",
    "    data_json_safe = df.to_dict(orient=\"records\")\n",
    "\n",
    "    # ✅ Replace NaN values with a special value\n",
    "    for row in data_json_safe:\n",
    "        for col, value in row.items():\n",
    "            if pd.isna(value):\n",
    "                row[col] = None\n",
    "\n",
    "    return jsonify({\n",
    "\n",
    "        \"name\": session[\"name\"],\n",
    "        \"data\": data_json_safe,\n",
    "        \"columns\": [\n",
    "            {\n",
    "                \"field\": col,\n",
    "                \"headerName\": col,\n",
    "                \"dataType\": dtype_mapping[col],\n",
    "            }\n",
    "            for col in df.columns\n",
    "        ],\n",
    "        \"total_rows\": df.shape[0],\n",
    "        \"total_columns\": df.shape[1]\n",
    "    }), 200"
   ]
  },
  {
   "cell_type": "code",
   "execution_count": null,
   "metadata": {},
   "outputs": [],
   "source": []
  },
  {
   "cell_type": "code",
   "execution_count": null,
   "metadata": {},
   "outputs": [],
   "source": []
  },
  {
   "cell_type": "code",
   "execution_count": null,
   "metadata": {},
   "outputs": [],
   "source": []
  },
  {
   "cell_type": "code",
   "execution_count": null,
   "metadata": {},
   "outputs": [],
   "source": []
  },
  {
   "cell_type": "code",
   "execution_count": null,
   "metadata": {},
   "outputs": [],
   "source": []
  },
  {
   "cell_type": "code",
   "execution_count": null,
   "metadata": {},
   "outputs": [],
   "source": []
  },
  {
   "cell_type": "code",
   "execution_count": 44,
   "metadata": {},
   "outputs": [
    {
     "name": "stdout",
     "output_type": "stream",
     "text": [
      "{'columns': [{'field': 'int_col', 'headerName': 'int_col', 'dataType': 'float64'}, {'field': 'float_col', 'headerName': 'float_col', 'dataType': 'float64'}, {'field': 'str_col', 'headerName': 'str_col', 'dataType': 'object'}, {'field': 'bool_col', 'headerName': 'bool_col', 'dataType': 'object'}, {'field': 'datetime_col', 'headerName': 'datetime_col', 'dataType': 'datetime64[ns]'}, {'field': 'timedelta_col', 'headerName': 'timedelta_col', 'dataType': 'timedelta64[ns]'}, {'field': 'category_col', 'headerName': 'category_col', 'dataType': 'category'}, {'field': 'currency_col', 'headerName': 'currency_col', 'dataType': 'float64'}, {'field': 'percentage_col', 'headerName': 'percentage_col', 'dataType': 'float64'}]}\n"
     ]
    }
   ],
   "source": [
    "    # ✅ Get the correct data types for each column\n",
    "dtype_mapping = df5.dtypes.apply(lambda x: str(x)).to_dict()\n",
    "\n",
    "\n",
    "data_json_safe = df5.to_dict(orient=\"records\")\n",
    "\n",
    "    # ✅ Replace NaN values with a special value\n",
    "for row in data_json_safe:\n",
    "     for col, value in row.items():\n",
    "          if pd.isna(value):\n",
    "              row[col] = None\n",
    "\n",
    "\n",
    "print({\n",
    "        \"columns\": [\n",
    "            {\n",
    "                \"field\": col,\n",
    "                \"headerName\": col,\n",
    "                \"dataType\": dtype_mapping[col],\n",
    "            }\n",
    "            for col in df5.columns\n",
    "        ],\n",
    "    })"
   ]
  },
  {
   "cell_type": "code",
   "execution_count": null,
   "metadata": {},
   "outputs": [],
   "source": []
  },
  {
   "cell_type": "code",
   "execution_count": null,
   "metadata": {},
   "outputs": [],
   "source": []
  },
  {
   "cell_type": "code",
   "execution_count": null,
   "metadata": {},
   "outputs": [],
   "source": []
  },
  {
   "cell_type": "code",
   "execution_count": null,
   "metadata": {},
   "outputs": [],
   "source": []
  },
  {
   "cell_type": "code",
   "execution_count": 22,
   "metadata": {},
   "outputs": [
    {
     "name": "stdout",
     "output_type": "stream",
     "text": [
      "{'int_col': 'float64', 'float_col': 'float64', 'str_col': 'object', 'bool_col': 'object', 'datetime_col': 'string', 'timedelta_col': 'float64', 'category_col': 'string', 'currency_col': 'float64', 'percentage_col': 'float64'}\n",
      "int_col           float64\n",
      "float_col         float64\n",
      "str_col            object\n",
      "bool_col           object\n",
      "datetime_col       object\n",
      "timedelta_col     float64\n",
      "category_col       object\n",
      "currency_col      float64\n",
      "percentage_col    float64\n",
      "dtype: object\n"
     ]
    }
   ],
   "source": [
    "dtype_mapping = df5.dtypes.apply(lambda x: str(x)).to_dict()\n",
    "\n",
    "# ✅ Convert datetime and timedelta columns to strings\n",
    "for col, dtype in dtype_mapping.items():\n",
    "    if dtype.startswith(\"datetime64\"):\n",
    "        df5[col] = df5[col].dt.strftime('%Y-%m-%d %H:%M:%S')\n",
    "        dtype_mapping[col] = \"string\"\n",
    "    elif dtype.startswith(\"timedelta64\"):\n",
    "        df5[col] = df5[col].dt.total_seconds()\n",
    "        dtype_mapping[col] = \"float64\"\n",
    "\n",
    "# ✅ Convert category columns to strings\n",
    "for col, dtype in dtype_mapping.items():\n",
    "    if dtype.startswith(\"category\"):\n",
    "        df5[col] = df5[col].astype(str)\n",
    "        dtype_mapping[col] = \"string\"\n",
    "\n",
    "print(dtype_mapping)\n",
    "print(df5.dtypes)"
   ]
  },
  {
   "cell_type": "code",
   "execution_count": null,
   "metadata": {},
   "outputs": [],
   "source": []
  },
  {
   "cell_type": "code",
   "execution_count": 23,
   "metadata": {},
   "outputs": [
    {
     "name": "stdout",
     "output_type": "stream",
     "text": [
      "int_col float64\n",
      "float_col float64\n",
      "str_col object\n",
      "bool_col object\n",
      "datetime_col object\n",
      "timedelta_col float64\n",
      "category_col object\n",
      "currency_col float64\n",
      "percentage_col float64\n"
     ]
    }
   ],
   "source": [
    "dtype_mapping = df5.dtypes.apply(lambda x: str(x)).to_dict()\n",
    "\n",
    "    # ✅ Convert datetime and timedelta columns to strings\n",
    "for col, dtype in dtype_mapping.items():\n",
    "    print(col, dtype)"
   ]
  },
  {
   "cell_type": "code",
   "execution_count": null,
   "metadata": {},
   "outputs": [],
   "source": []
  },
  {
   "cell_type": "code",
   "execution_count": 9,
   "metadata": {},
   "outputs": [
    {
     "name": "stdout",
     "output_type": "stream",
     "text": [
      "int_col           float64\n",
      "float_col         float64\n",
      "str_col            object\n",
      "bool_col           object\n",
      "datetime_col       object\n",
      "timedelta_col     float64\n",
      "category_col       object\n",
      "currency_col      float64\n",
      "percentage_col    float64\n",
      "dtype: object\n"
     ]
    }
   ],
   "source": [
    "dtype_mapping = df5.dtypes.apply(lambda x: str(x)).to_dict()\n",
    "\n",
    "    # ✅ Convert datetime and timedelta columns to strings\n",
    "for col, dtype in dtype_mapping.items():\n",
    "    if dtype.startswith(\"datetime64\") or dtype.startswith(\"timedelta64\"):\n",
    "        df5[col] = df5[col].dt.strftime('%Y-%m-%d %H:%M:%S') if dtype.startswith(\"datetime64[ns]\") else df5[col].dt.total_seconds()\n",
    "\n",
    "    # ✅ Convert category columns to strings\n",
    "for col, dtype in dtype_mapping.items():\n",
    "     if dtype.startswith(\"category\"):\n",
    "         df5[col] = df5[col].astype(str)\n",
    "\n",
    "\n",
    "print(df5.dtypes)"
   ]
  },
  {
   "cell_type": "code",
   "execution_count": null,
   "metadata": {},
   "outputs": [],
   "source": []
  },
  {
   "cell_type": "code",
   "execution_count": null,
   "metadata": {},
   "outputs": [],
   "source": []
  },
  {
   "cell_type": "code",
   "execution_count": null,
   "metadata": {},
   "outputs": [],
   "source": []
  },
  {
   "cell_type": "code",
   "execution_count": null,
   "metadata": {},
   "outputs": [],
   "source": []
  },
  {
   "cell_type": "code",
   "execution_count": 4,
   "metadata": {},
   "outputs": [
    {
     "data": {
      "text/html": [
       "\n",
       "    <iframe src=\"http://127.0.0.1:5050/?session_id=df5\" width=\"100%\" height=\"600px\" style=\"border:none;\"></iframe>\n",
       "    <p style=\"margin-top:10px;\">\n",
       "        <a href=\"http://127.0.0.1:5050/?session_id=df5\" target=\"_blank\" style=\"font-size:14px; text-decoration:none; color:#007bff;\">\n",
       "            🔗 Open in Web Browser\n",
       "        </a>\n",
       "    </p>\n",
       "    "
      ],
      "text/plain": [
       "<IPython.core.display.HTML object>"
      ]
     },
     "metadata": {},
     "output_type": "display_data"
    }
   ],
   "source": [
    "bv.show(df5)"
   ]
  },
  {
   "cell_type": "code",
   "execution_count": 1,
   "metadata": {},
   "outputs": [
    {
     "ename": "NameError",
     "evalue": "name 'bv' is not defined",
     "output_type": "error",
     "traceback": [
      "\u001b[0;31m---------------------------------------------------------------------------\u001b[0m",
      "\u001b[0;31mNameError\u001b[0m                                 Traceback (most recent call last)",
      "Cell \u001b[0;32mIn[1], line 19\u001b[0m\n\u001b[1;32m      6\u001b[0m data \u001b[38;5;241m=\u001b[39m {\n\u001b[1;32m      7\u001b[0m         \u001b[38;5;124m\"\u001b[39m\u001b[38;5;124mint_col\u001b[39m\u001b[38;5;124m\"\u001b[39m: [\u001b[38;5;241m1\u001b[39m, \u001b[38;5;241m2\u001b[39m, \u001b[38;5;28;01mNone\u001b[39;00m, \u001b[38;5;241m4\u001b[39m, np\u001b[38;5;241m.\u001b[39mnan],  \u001b[38;5;66;03m# ✅ int64 with NaN\u001b[39;00m\n\u001b[1;32m      8\u001b[0m         \u001b[38;5;124m\"\u001b[39m\u001b[38;5;124mfloat_col\u001b[39m\u001b[38;5;124m\"\u001b[39m: [\u001b[38;5;241m1.5\u001b[39m, \u001b[38;5;28;01mNone\u001b[39;00m, \u001b[38;5;124m\"\u001b[39m\u001b[38;5;124myou\u001b[39m\u001b[38;5;124m\"\u001b[39m, np\u001b[38;5;241m.\u001b[39mnan, \u001b[38;5;241m5.0\u001b[39m],  \u001b[38;5;66;03m# ✅ float64 with NaN\u001b[39;00m\n\u001b[0;32m   (...)\u001b[0m\n\u001b[1;32m     15\u001b[0m         \u001b[38;5;124m\"\u001b[39m\u001b[38;5;124mpercentage_col\u001b[39m\u001b[38;5;124m\"\u001b[39m: [\u001b[38;5;241m0.25\u001b[39m, \u001b[38;5;241m0.50\u001b[39m, \u001b[38;5;28;01mNone\u001b[39;00m, np\u001b[38;5;241m.\u001b[39mnan, \u001b[38;5;241m1.0\u001b[39m],  \u001b[38;5;66;03m# ✅ float (to be converted to percentage)\u001b[39;00m\n\u001b[1;32m     16\u001b[0m     }\n\u001b[1;32m     18\u001b[0m df \u001b[38;5;241m=\u001b[39m pd\u001b[38;5;241m.\u001b[39mDataFrame(data)\n\u001b[0;32m---> 19\u001b[0m \u001b[43mbv\u001b[49m\u001b[38;5;241m.\u001b[39mshow(df)\n",
      "\u001b[0;31mNameError\u001b[0m: name 'bv' is not defined"
     ]
    }
   ],
   "source": [
    "import pandas as pd\n",
    "import numpy as np\n",
    "\n",
    "\n",
    "\n",
    "data = {\n",
    "        \"int_col\": [1, 2, None, 4, np.nan],  # ✅ int64 with NaN\n",
    "        \"float_col\": [1.5, None, \"you\", np.nan, 5.0],  # ✅ float64 with NaN\n",
    "        \"str_col\": [\"apple\", None, \"banana\", \"cherry\", np.nan],  # ✅ object with None/NaN\n",
    "        \"bool_col\": [True, False, None, \"come\", np.nan],  # ✅ boolean with NaN\n",
    "        \"datetime_col\": [pd.Timestamp(\"2023-01-01\"), None, pd.NaT, pd.Timestamp(\"2023-04-01\"), pd.NaT],  # ✅ datetime64 with NaT\n",
    "        \"timedelta_col\": [pd.Timedelta(days=1), None, pd.NaT, pd.Timedelta(days=4), pd.NaT],  # ✅ timedelta64 with NaT\n",
    "        \"category_col\": pd.Categorical([\"A\", \"B\", None, \"D\", np.nan]),  # ✅ category with missing values\n",
    "        \"currency_col\": [10.0, 20.5, None, np.nan, 50.0],  # ✅ float (to be formatted as currency)\n",
    "        \"percentage_col\": [0.25, 0.50, None, np.nan, 1.0],  # ✅ float (to be converted to percentage)\n",
    "    }\n",
    "\n",
    "df = pd.DataFrame(data)\n",
    "bv.show(df)"
   ]
  },
  {
   "cell_type": "code",
   "execution_count": 11,
   "metadata": {},
   "outputs": [
    {
     "name": "stdout",
     "output_type": "stream",
     "text": [
      "int_col                   float64\n",
      "float_col                 float64\n",
      "str_col                    object\n",
      "bool_col                   object\n",
      "datetime_col       datetime64[ns]\n",
      "timedelta_col     timedelta64[ns]\n",
      "category_col             category\n",
      "currency_col              float64\n",
      "percentage_col            float64\n",
      "dtype: object\n",
      "int_col           2\n",
      "float_col         2\n",
      "str_col           2\n",
      "bool_col          2\n",
      "datetime_col      3\n",
      "timedelta_col     3\n",
      "category_col      2\n",
      "currency_col      2\n",
      "percentage_col    2\n",
      "dtype: int64\n"
     ]
    }
   ],
   "source": [
    "data = {\n",
    "        \"int_col\": [1, 2, None, 4, np.nan],  # ✅ int64 with NaN\n",
    "        \"float_col\": [1.5, None, 3.2, np.nan, 5.0],  # ✅ float64 with NaN\n",
    "        \"str_col\": [\"apple\", None, \"banana\", \"cherry\", np.nan],  # ✅ object with None/NaN\n",
    "        \"bool_col\": [True, False, None, True, np.nan],  # ✅ boolean with NaN\n",
    "        \"datetime_col\": [pd.Timestamp(\"2023-01-01\"), None, pd.NaT, pd.Timestamp(\"2023-04-01\"), pd.NaT],  # ✅ datetime64 with NaT\n",
    "        \"timedelta_col\": [pd.Timedelta(days=1), None, pd.NaT, pd.Timedelta(days=4), pd.NaT],  # ✅ timedelta64 with NaT\n",
    "        \"category_col\": pd.Categorical([\"A\", \"B\", None, \"D\", np.nan]),  # ✅ category with missing values\n",
    "        \"currency_col\": [10.0, 20.5, None, np.nan, 50.0],  # ✅ float (to be formatted as currency)\n",
    "        \"percentage_col\": [0.25, 0.50, None, np.nan, 1.0],  # ✅ float (to be converted to percentage)\n",
    "    }\n",
    "\n",
    "df5 = pd.DataFrame(data)\n",
    "\n",
    "print(df5.dtypes)\n",
    "\n",
    "print(df5.isna().sum())"
   ]
  },
  {
   "cell_type": "code",
   "execution_count": null,
   "metadata": {},
   "outputs": [],
   "source": []
  },
  {
   "cell_type": "code",
   "execution_count": 7,
   "metadata": {},
   "outputs": [],
   "source": [
    "data = {\n",
    "        \"int_col\": [1, 2, None, 4, np.nan],  # ✅ int64 with NaN\n",
    "        \"float_col\": [1.5, None, \"you\", np.nan, 5.0],  # ✅ float64 with NaN\n",
    "        \"str_col\": [\"apple\", None, \"banana\", \"cherry\", np.nan],  # ✅ object with None/NaN\n",
    "        \"bool_col\": [True, False, None, \"come\", np.nan],  # ✅ boolean with NaN\n",
    "        \"datetime_col\": [pd.Timestamp(\"2023-01-01\"), None, pd.NaT, pd.Timestamp(\"2023-04-01\"), pd.NaT],  # ✅ datetime64 with NaT\n",
    "        \"timedelta_col\": [pd.Timedelta(days=1), None, pd.NaT, pd.Timedelta(days=4), pd.NaT],  # ✅ timedelta64 with NaT\n",
    "        \"category_col\": pd.Categorical([\"A\", \"B\", None, \"D\", np.nan]),  # ✅ category with missing values\n",
    "        \"currency_col\": [10.0, 20.5, None, np.nan, 50.0],  # ✅ float (to be formatted as currency)\n",
    "        \"percentage_col\": [0.25, 0.50, None, np.nan, 1.0],  # ✅ float (to be converted to percentage)\n",
    "    }\n",
    "\n",
    "df6 = pd.DataFrame(data)"
   ]
  },
  {
   "cell_type": "code",
   "execution_count": 9,
   "metadata": {},
   "outputs": [
    {
     "name": "stdout",
     "output_type": "stream",
     "text": [
      "int_col                   float64\n",
      "float_col                  object\n",
      "str_col                    object\n",
      "bool_col                   object\n",
      "datetime_col       datetime64[ns]\n",
      "timedelta_col     timedelta64[ns]\n",
      "category_col             category\n",
      "currency_col              float64\n",
      "percentage_col            float64\n",
      "dtype: object\n",
      "int_col           2\n",
      "float_col         2\n",
      "str_col           2\n",
      "bool_col          2\n",
      "datetime_col      3\n",
      "timedelta_col     3\n",
      "category_col      2\n",
      "currency_col      2\n",
      "percentage_col    2\n",
      "dtype: int64\n"
     ]
    }
   ],
   "source": [
    "print(df6.dtypes)\n",
    "\n",
    "print(df6.isna().sum())"
   ]
  },
  {
   "cell_type": "code",
   "execution_count": null,
   "metadata": {},
   "outputs": [],
   "source": []
  },
  {
   "cell_type": "code",
   "execution_count": 30,
   "metadata": {},
   "outputs": [
    {
     "name": "stdout",
     "output_type": "stream",
     "text": [
      "IntegerColumn                int64\n",
      "FloatColumn                float64\n",
      "StringColumn                object\n",
      "BooleanColumn                 bool\n",
      "DatetimeColumn      datetime64[ns]\n",
      "TimedeltaColumn    timedelta64[ns]\n",
      "CategoryColumn            category\n",
      "dtype: object\n",
      "IntegerColumn      0\n",
      "FloatColumn        0\n",
      "StringColumn       0\n",
      "BooleanColumn      0\n",
      "DatetimeColumn     0\n",
      "TimedeltaColumn    0\n",
      "CategoryColumn     0\n",
      "dtype: int64\n"
     ]
    }
   ],
   "source": [
    "print(df3.dtypes)\n",
    "\n",
    "print(df3.isna().sum())"
   ]
  },
  {
   "cell_type": "code",
   "execution_count": null,
   "metadata": {},
   "outputs": [],
   "source": []
  },
  {
   "cell_type": "code",
   "execution_count": null,
   "metadata": {},
   "outputs": [],
   "source": []
  },
  {
   "cell_type": "code",
   "execution_count": null,
   "metadata": {},
   "outputs": [],
   "source": []
  },
  {
   "cell_type": "code",
   "execution_count": null,
   "metadata": {},
   "outputs": [],
   "source": []
  },
  {
   "cell_type": "code",
   "execution_count": null,
   "metadata": {},
   "outputs": [],
   "source": []
  },
  {
   "cell_type": "code",
   "execution_count": null,
   "metadata": {},
   "outputs": [],
   "source": []
  },
  {
   "cell_type": "code",
   "execution_count": null,
   "metadata": {},
   "outputs": [],
   "source": []
  },
  {
   "cell_type": "code",
   "execution_count": null,
   "metadata": {},
   "outputs": [],
   "source": []
  },
  {
   "cell_type": "code",
   "execution_count": null,
   "metadata": {},
   "outputs": [
    {
     "name": "stdout",
     "output_type": "stream",
     "text": [
      "🚀 Starting B-Vista backend...\n",
      "✅ B-Vista backend is running.\n"
     ]
    }
   ],
   "source": [
    "from bvista.server_manager import start_backend\n",
    "start_backend()\n"
   ]
  },
  {
   "cell_type": "code",
   "execution_count": null,
   "metadata": {},
   "outputs": [],
   "source": [
    "import requests\n",
    "import pandas as pd\n",
    "import os\n",
    "import sys\n",
    "from IPython.core.display import display, HTML\n",
    "\n",
    "# Define Backend API URL\n",
    "API_URL = \"http://127.0.0.1:5050\"\n",
    "\n",
    "def show(df=None, name=None, session_id=None):\n",
    "    \"\"\"Display the UI inside Jupyter Notebook with dataset switching support.\"\"\"\n",
    "\n",
    "    if df is not None and not isinstance(df, pd.DataFrame):\n",
    "        raise ValueError(\"Input must be a Pandas DataFrame.\")\n",
    "\n",
    "    if df is not None:\n",
    "        # ✅ Automatically infer variable name if `name` is not provided\n",
    "        if name is None:\n",
    "            import inspect\n",
    "            frame = inspect.currentframe().f_back\n",
    "            name = [var_name for var_name, var_val in frame.f_locals.items() if var_val is df]\n",
    "            name = name[0] if name else \"Untitled_Dataset\"  # Default to \"Untitled_Dataset\" if name detection fails\n",
    "\n",
    "        # ✅ Ensure a unique filename for each dataset\n",
    "        filename = name\n",
    "\n",
    "        # ✅ Upload Data to Backend\n",
    "        files = {\"file\": (filename, df.to_csv(index=False), \"text/csv\")}\n",
    "        response = requests.post(f\"{API_URL}/api/upload\", files=files, data={\"session_id\": name})\n",
    "       \n",
    "        # ✅ New Code (send as JSON)\n",
    "        #response = requests.post(f\"{API_URL}/api/load_data\", json={\"data\": df.to_dict(orient=\"records\"), \"name\": name})\n",
    "\n",
    "\n",
    "\n",
    "        \n",
    "        if response.status_code != 200:\n",
    "            raise ValueError(f\"Failed to load data: {response.json().get('error', 'Unknown error')}\")\n",
    "\n",
    "        session_id = response.json()[\"session_id\"]\n",
    "\n",
    "    elif session_id:\n",
    "        # ✅ Validate if session exists\n",
    "        response = requests.get(f\"{API_URL}/api/session/{session_id}\")\n",
    "        if response.status_code != 200:\n",
    "            raise ValueError(f\"Invalid session_id: {session_id}\")\n",
    "\n",
    "    else:\n",
    "        # ✅ Get latest session if no session_id is provided\n",
    "        response = requests.get(f\"{API_URL}/api/get_sessions\")\n",
    "        sessions = response.json().get(\"sessions\", {})\n",
    "        if sessions:\n",
    "            session_id = list(sessions.keys())[-1]  # Get the latest session\n",
    "        else:\n",
    "            raise ValueError(\"No active sessions available. Please upload a dataset first.\")\n",
    "\n",
    "    # ✅ Define Web UI URL\n",
    "    server_url = f\"{API_URL}/?session_id={session_id}\"\n",
    "\n",
    "    # ✅ Display the UI inside Jupyter Notebook\n",
    "    iframe_html = f\"\"\"\n",
    "    <iframe src=\"{server_url}\" width=\"100%\" height=\"600px\" style=\"border:none;\"></iframe>\n",
    "    <p style=\"margin-top:10px;\">\n",
    "        <a href=\"{server_url}\" target=\"_blank\" style=\"font-size:14px; text-decoration:none; color:#007bff;\">\n",
    "            🔗 Open in Web Browser\n",
    "        </a>\n",
    "    </p>\n",
    "    \"\"\"\n",
    "    display(HTML(iframe_html))\n"
   ]
  },
  {
   "cell_type": "code",
   "execution_count": null,
   "metadata": {},
   "outputs": [],
   "source": []
  },
  {
   "cell_type": "code",
   "execution_count": null,
   "metadata": {},
   "outputs": [],
   "source": [
    "import pandas as pd\n",
    "import numpy as np\n",
    "import bvista as bv\n",
    "\n",
    "# ✅ Define number of rows\n",
    "num_rows = 100\n",
    "\n",
    "# ✅ Generate large dataset with numerical values\n",
    "df_large = pd.DataFrame({\n",
    "    \"ID\": np.arange(1, num_rows + 1),\n",
    "    \"Category\": np.random.choice([\"A\", \"B\", \"C\", \"D\"], size=num_rows),  # Categorical column\n",
    "    \"Value1\": np.random.randint(1, 100, size=num_rows),  # Numeric column\n",
    "    \"Value2\": np.random.uniform(10.0, 500.0, size=num_rows)  # Float column\n",
    "})\n",
    "\n",
    "\n"
   ]
  },
  {
   "cell_type": "code",
   "execution_count": null,
   "metadata": {},
   "outputs": [
    {
     "data": {
      "text/html": [
       "\n",
       "    <iframe src=\"http://127.0.0.1:5050/?session_id=df_large\" width=\"100%\" height=\"600px\" style=\"border:none;\"></iframe>\n",
       "    <p style=\"margin-top:10px;\">\n",
       "        <a href=\"http://127.0.0.1:5050/?session_id=df_large\" target=\"_blank\" style=\"font-size:14px; text-decoration:none; color:#007bff;\">\n",
       "            🔗 Open in Web Browser\n",
       "        </a>\n",
       "    </p>\n",
       "    "
      ],
      "text/plain": [
       "<IPython.core.display.HTML object>"
      ]
     },
     "metadata": {},
     "output_type": "display_data"
    }
   ],
   "source": [
    "# ✅ Display in B-Vista\n",
    "bv.show(df_large)"
   ]
  },
  {
   "cell_type": "code",
   "execution_count": null,
   "metadata": {},
   "outputs": [
    {
     "data": {
      "text/html": [
       "\n",
       "    <iframe src=\"http://127.0.0.1:5050/?session_id=df\" width=\"100%\" height=\"600px\" style=\"border:none;\"></iframe>\n",
       "    <p style=\"margin-top:10px;\">\n",
       "        <a href=\"http://127.0.0.1:5050/?session_id=df\" target=\"_blank\" style=\"font-size:14px; text-decoration:none; color:#007bff;\">\n",
       "            🔗 Open in Web Browser\n",
       "        </a>\n",
       "    </p>\n",
       "    "
      ],
      "text/plain": [
       "<IPython.core.display.HTML object>"
      ]
     },
     "metadata": {},
     "output_type": "display_data"
    }
   ],
   "source": [
    "import bvista as bv\n",
    "import pandas as pd\n",
    "\n",
    "df = pd.DataFrame({\"A\": [1, 2, 3], \"B\": [4, 5, 6]})\n",
    "df2 = pd.DataFrame({\"X\": [10, 20, 30], \"Y\": [40, 50, 60]})\n",
    "\n",
    "bv.show(df)\n"
   ]
  },
  {
   "cell_type": "code",
   "execution_count": null,
   "metadata": {},
   "outputs": [
    {
     "data": {
      "text/html": [
       "\n",
       "    <iframe src=\"http://127.0.0.1:5050/?session_id=df2\" width=\"100%\" height=\"600px\" style=\"border:none;\"></iframe>\n",
       "    <p style=\"margin-top:10px;\">\n",
       "        <a href=\"http://127.0.0.1:5050/?session_id=df2\" target=\"_blank\" style=\"font-size:14px; text-decoration:none; color:#007bff;\">\n",
       "            🔗 Open in Web Browser\n",
       "        </a>\n",
       "    </p>\n",
       "    "
      ],
      "text/plain": [
       "<IPython.core.display.HTML object>"
      ]
     },
     "metadata": {},
     "output_type": "display_data"
    }
   ],
   "source": [
    "bv.show(df2)"
   ]
  },
  {
   "cell_type": "code",
   "execution_count": null,
   "metadata": {},
   "outputs": [],
   "source": [
    "import bvista as bv"
   ]
  },
  {
   "cell_type": "code",
   "execution_count": null,
   "metadata": {},
   "outputs": [
    {
     "name": "stdout",
     "output_type": "stream",
     "text": [
      "Status Code: 200\n",
      "Response: {\n",
      "  \"message\": \"File uploaded\",\n",
      "  \"name\": \"df.csv\",\n",
      "  \"session_id\": \"test_dataset\"\n",
      "}\n",
      "\n"
     ]
    }
   ],
   "source": [
    "import requests\n",
    "import pandas as pd\n",
    "\n",
    "API_URL = \"http://127.0.0.1:5050\"\n",
    "\n",
    "df = pd.DataFrame({\"A\": [1, 2, 3], \"B\": [4, 5, 6]})\n",
    "files = {\"file\": (\"df.csv\", df.to_csv(index=False).encode('utf-8'), \"text/csv\")}\n",
    "\n",
    "response = requests.post(f\"{API_URL}/api/upload\", files=files, data={\"session_id\": \"test_dataset\"})\n",
    "\n",
    "print(\"Status Code:\", response.status_code)\n",
    "print(\"Response:\", response.text)\n"
   ]
  },
  {
   "cell_type": "code",
   "execution_count": null,
   "metadata": {},
   "outputs": [],
   "source": []
  },
  {
   "cell_type": "code",
   "execution_count": null,
   "metadata": {},
   "outputs": [
    {
     "data": {
      "text/html": [
       "\n",
       "    <iframe src=\"http://127.0.0.1:5050/?session_id=df2\" width=\"100%\" height=\"600px\" style=\"border:none;\"></iframe>\n",
       "    <p style=\"margin-top:10px;\">\n",
       "        <a href=\"http://127.0.0.1:5050/?session_id=df2\" target=\"_blank\" style=\"font-size:14px; text-decoration:none; color:#007bff;\">\n",
       "            🔗 Open in Web Browser\n",
       "        </a>\n",
       "    </p>\n",
       "    "
      ],
      "text/plain": [
       "<IPython.core.display.HTML object>"
      ]
     },
     "metadata": {},
     "output_type": "display_data"
    }
   ],
   "source": [
    "bv.show(df2)\n"
   ]
  },
  {
   "cell_type": "code",
   "execution_count": null,
   "metadata": {},
   "outputs": [],
   "source": []
  },
  {
   "cell_type": "code",
   "execution_count": null,
   "metadata": {},
   "outputs": [
    {
     "data": {
      "text/html": [
       "\n",
       "    <iframe src=\"http://127.0.0.1:5050/?session_id=df2\" width=\"100%\" height=\"600px\" style=\"border:none;\"></iframe>\n",
       "    <p style=\"margin-top:10px;\">\n",
       "        <a href=\"http://127.0.0.1:5050/?session_id=df2\" target=\"_blank\" style=\"font-size:14px; text-decoration:none; color:#007bff;\">\n",
       "            🔗 Open in Web Browser\n",
       "        </a>\n",
       "    </p>\n",
       "    "
      ],
      "text/plain": [
       "<IPython.core.display.HTML object>"
      ]
     },
     "metadata": {},
     "output_type": "display_data"
    }
   ],
   "source": [
    "bv.show(df2)"
   ]
  },
  {
   "cell_type": "code",
   "execution_count": null,
   "metadata": {},
   "outputs": [],
   "source": []
  },
  {
   "cell_type": "code",
   "execution_count": null,
   "metadata": {},
   "outputs": [
    {
     "name": "stdout",
     "output_type": "stream",
     "text": [
      "{'sessions': {'default_session': {'created_at': 1740040870.190644, 'name': 'dataset.csv'}}}\n"
     ]
    }
   ],
   "source": [
    "import requests\n",
    "API_URL = \"http://127.0.0.1:5050\"\n",
    "response = requests.get(f\"{API_URL}/api/get_sessions\")\n",
    "print(response.json())  # Check if the session was created\n"
   ]
  },
  {
   "cell_type": "code",
   "execution_count": null,
   "metadata": {},
   "outputs": [],
   "source": []
  },
  {
   "cell_type": "code",
   "execution_count": null,
   "metadata": {},
   "outputs": [
    {
     "name": "stdout",
     "output_type": "stream",
     "text": [
      "{'columns': [{'field': 'A', 'headerName': 'A'}, {'field': 'B', 'headerName': 'B'}], 'data': [{'A': 1, 'B': 4}, {'A': 2, 'B': 5}, {'A': 3, 'B': 6}], 'name': 'dataset.csv', 'session_id': 'default_session'}\n"
     ]
    }
   ],
   "source": [
    "session_id = \"default_session\"  # Change this if different\n",
    "response = requests.get(f\"{API_URL}/api/session/{session_id}\")\n",
    "print(response.json())  # Check if data exists\n"
   ]
  },
  {
   "cell_type": "code",
   "execution_count": null,
   "metadata": {},
   "outputs": [],
   "source": []
  },
  {
   "cell_type": "code",
   "execution_count": null,
   "metadata": {},
   "outputs": [
    {
     "name": "stderr",
     "output_type": "stream",
     "text": [
      "Werkzeug appears to be used in a production deployment. Consider switching to a production web server instead.\n"
     ]
    },
    {
     "name": "stdout",
     "output_type": "stream",
     "text": [
      " * Serving Flask app 'app'\n",
      " * Debug mode: off\n"
     ]
    },
    {
     "name": "stderr",
     "output_type": "stream",
     "text": [
      "\u001b[31m\u001b[1mWARNING: This is a development server. Do not use it in a production deployment. Use a production WSGI server instead.\u001b[0m\n",
      " * Running on http://127.0.0.1:40000\n",
      "\u001b[33mPress CTRL+C to quit\u001b[0m\n"
     ]
    },
    {
     "data": {
      "text/html": [
       "\n",
       "    <iframe src=\"http://127.0.0.1:40000\" width=\"100%\" height=\"600px\" style=\"border:none;\"></iframe>\n",
       "    <p style=\"margin-top:10px;\">\n",
       "        <a href=\"http://127.0.0.1:40000\" target=\"_blank\" style=\"font-size:14px; text-decoration:none; color:#007bff;\">\n",
       "            🔗 Open in Web Browser\n",
       "        </a>\n",
       "    </p>\n",
       "    "
      ],
      "text/plain": [
       "<IPython.core.display.HTML object>"
      ]
     },
     "metadata": {},
     "output_type": "display_data"
    },
    {
     "name": "stderr",
     "output_type": "stream",
     "text": [
      "127.0.0.1 - - [19/Feb/2025 12:14:52] \"GET / HTTP/1.1\" 200 -\n",
      "127.0.0.1 - - [19/Feb/2025 12:14:52] \"GET /static/js/main.949f950c.js HTTP/1.1\" 200 -\n",
      "127.0.0.1 - - [19/Feb/2025 12:14:52] \"GET /static/css/main.ba046532.css HTTP/1.1\" 200 -\n"
     ]
    }
   ],
   "source": [
    "bv.show(df)"
   ]
  },
  {
   "cell_type": "code",
   "execution_count": null,
   "metadata": {},
   "outputs": [
    {
     "data": {
      "text/html": [
       "\n",
       "    <iframe src=\"http://127.0.0.1:5050\" width=\"100%\" height=\"600px\" style=\"border:none;\"></iframe>\n",
       "    <p style=\"margin-top:10px;\">\n",
       "        <a href=\"http://127.0.0.1:5050\" target=\"_blank\" style=\"font-size:14px; text-decoration:none; color:#007bff;\">\n",
       "            🔗 Open in Web Browser\n",
       "        </a>\n",
       "    </p>\n",
       "    "
      ],
      "text/plain": [
       "<IPython.core.display.HTML object>"
      ]
     },
     "metadata": {},
     "output_type": "display_data"
    }
   ],
   "source": [
    "import bvista.backend as bv\n",
    "import pandas as pd\n",
    "\n",
    "df1 = pd.DataFrame({\n",
    "    \"ID\": [1, 2, 3],\n",
    "    \"Name\": [\"Alice\", \"Bob\", \"Charlie\"],\n",
    "    \"Score\": [95, 80, 75]\n",
    "})\n",
    "\n",
    "df2 = pd.DataFrame({\n",
    "    \"ID\": [4, 5, 6],\n",
    "    \"Name\": [\"David\", \"Eve\", \"Frank\"],\n",
    "    \"Score\": [85, 90, 88]\n",
    "})\n",
    "\n",
    "\n",
    "\n",
    "# Test multiple DataFrames\n",
    "bv.show([df1, df2])\n"
   ]
  },
  {
   "cell_type": "code",
   "execution_count": null,
   "metadata": {},
   "outputs": [
    {
     "data": {
      "text/html": [
       "\n",
       "    <iframe src=\"http://127.0.0.1:5050\" width=\"100%\" height=\"600px\" style=\"border:none;\"></iframe>\n",
       "    <p style=\"margin-top:10px;\">\n",
       "        <a href=\"http://127.0.0.1:5050\" target=\"_blank\" style=\"font-size:14px; text-decoration:none; color:#007bff;\">\n",
       "            🔗 Open in Web Browser\n",
       "        </a>\n",
       "    </p>\n",
       "    "
      ],
      "text/plain": [
       "<IPython.core.display.HTML object>"
      ]
     },
     "metadata": {},
     "output_type": "display_data"
    }
   ],
   "source": [
    "bv.show(df)"
   ]
  },
  {
   "cell_type": "code",
   "execution_count": null,
   "metadata": {},
   "outputs": [
    {
     "name": "stdout",
     "output_type": "stream",
     "text": [
      "{'status': 'running'}\n"
     ]
    }
   ],
   "source": [
    "import requests\n",
    "\n",
    "response = requests.get(\"http://127.0.0.1:5050/healthcheck\")\n",
    "print(response.json())  # Should return {\"status\": \"running\"}\n"
   ]
  },
  {
   "cell_type": "code",
   "execution_count": null,
   "metadata": {},
   "outputs": [],
   "source": []
  },
  {
   "cell_type": "code",
   "execution_count": null,
   "metadata": {},
   "outputs": [],
   "source": [
    "import React, { useEffect, useState, useRef, useCallback } from \"react\";\n",
    "import axios from \"axios\";\n",
    "import { io } from \"socket.io-client\";\n",
    "import { AgGridReact } from \"ag-grid-react\";\n",
    "import \"ag-grid-community/styles/ag-grid.css\";\n",
    "import \"ag-grid-community/styles/ag-theme-alpine.css\";\n",
    "\n",
    "// ✅ Import AG Grid Modules\n",
    "import { ModuleRegistry } from \"ag-grid-community\";\n",
    "import { ClientSideRowModelModule } from \"ag-grid-community\";\n",
    "import { MenuModule } from \"ag-grid-enterprise\";\n",
    "import { ColumnsToolPanelModule } from \"ag-grid-enterprise\";\n",
    "import { FiltersToolPanelModule } from \"ag-grid-enterprise\";\n",
    "import { IntegratedChartsModule } from \"ag-grid-enterprise\";\n",
    "import { RangeSelectionModule } from \"ag-grid-enterprise\";\n",
    "import { ClipboardModule } from \"ag-grid-enterprise\";\n",
    "import { ExcelExportModule } from \"ag-grid-enterprise\";\n",
    "import { RowGroupingModule } from \"ag-grid-enterprise\";\n",
    "import { SetFilterModule } from \"ag-grid-enterprise\";\n",
    "\n",
    "// ✅ Register Modules\n",
    "ModuleRegistry.registerModules([\n",
    "    ClientSideRowModelModule,\n",
    "    MenuModule,\n",
    "    ColumnsToolPanelModule,\n",
    "    FiltersToolPanelModule,\n",
    "    IntegratedChartsModule,\n",
    "    RangeSelectionModule,\n",
    "    ClipboardModule,\n",
    "    ExcelExportModule,\n",
    "    RowGroupingModule,\n",
    "    SetFilterModule,\n",
    "]);\n",
    "\n",
    "const API_URL = \"http://127.0.0.1:5050\"; // Backend URL\n",
    "\n",
    "function DataTable() {\n",
    "    const [rowData, setRowData] = useState([]);\n",
    "    const [columnDefs, setColumnDefs] = useState([]);\n",
    "    const [loading, setLoading] = useState(true);\n",
    "    const [error, setError] = useState(null);\n",
    "    const gridRef = useRef();\n",
    "\n",
    "    // ✅ Fetch Data Function\n",
    "    const fetchData = useCallback(async () => {\n",
    "        setLoading(true);\n",
    "        try {\n",
    "            const response = await axios.get(`${API_URL}/get_data`);\n",
    "            if (response.data.data && response.data.columns) {\n",
    "                setRowData(response.data.data);\n",
    "                setColumnDefs(formatColumnDefs(response.data.columns));\n",
    "            } else {\n",
    "                setError(\"No data available.\");\n",
    "            }\n",
    "        } catch (err) {\n",
    "            setError(\"Error fetching data.\");\n",
    "        }\n",
    "        setLoading(false);\n",
    "    }, []);\n",
    "\n",
    "    useEffect(() => {\n",
    "        fetchData();\n",
    "        const socket = io(API_URL);\n",
    "        socket.on(\"data_update\", (newData) => {\n",
    "            if (newData.data && newData.columns) {\n",
    "                setRowData(newData.data);\n",
    "                setColumnDefs(formatColumnDefs(newData.columns));\n",
    "            }\n",
    "        });\n",
    "        return () => {\n",
    "            socket.disconnect();\n",
    "        };\n",
    "    }, [fetchData]);\n",
    "\n",
    "    // ✅ Format Columns to Enable Filtering & Sorting\n",
    "    const formatColumnDefs = (columns) => {\n",
    "        return columns.map((col) => ({\n",
    "            ...col,\n",
    "            headerName: col.headerName || col.field,\n",
    "            filter: \"agSetColumnFilter\",\n",
    "            floatingFilter: true,\n",
    "            menuTabs: [\"filterMenuTab\", \"columnsMenuTab\"],\n",
    "            filterParams: {\n",
    "                suppressMiniFilter: false,\n",
    "                applyMiniFilterWhileTyping: true,\n",
    "                filterOptions: [\"contains\", \"notContains\", \"startsWith\", \"endsWith\"],\n",
    "            },\n",
    "            resizable: true,\n",
    "            suppressMovable: false,\n",
    "            headerComponentParams: {\n",
    "                menuIconClick: (params) => {\n",
    "                    params.api.showColumnMenuAfterButtonClick(params.column, params.eGui);\n",
    "                },\n",
    "            },\n",
    "        }));\n",
    "    };\n",
    "\n",
    "    // ✅ Allow Column Renaming\n",
    "    const renameColumn = (params) => {\n",
    "        const oldName = params.column.colDef.headerName;\n",
    "        const newName = prompt(`Enter new name for column \"${oldName}\":`, oldName);\n",
    "        if (newName && newName.trim() !== \"\" && newName !== oldName) {\n",
    "            setColumnDefs((prevDefs) =>\n",
    "                prevDefs.map((col) =>\n",
    "                    col.field === params.column.colDef.field ? { ...col, headerName: newName } : col\n",
    "                )\n",
    "            );\n",
    "        }\n",
    "    };\n",
    "\n",
    "    // ✅ Custom Header Menu Items\n",
    "    const getHeaderMenuItems = (params) => {\n",
    "        const defaultOptions = params.defaultItems || [];\n",
    "        return [\n",
    "            ...defaultOptions,\n",
    "            \"separator\",\n",
    "            {\n",
    "                name: \"📝 Rename Column\",\n",
    "                action: () => renameColumn(params),\n",
    "            },\n",
    "            {\n",
    "                name: \"🔍 Find Duplicates\",\n",
    "                action: () => alert(\"Finding duplicates not yet implemented\"),\n",
    "            },\n",
    "            {\n",
    "                name: \"🔄 Change Data Type\",\n",
    "                subMenu: [\n",
    "                    { name: \"String\", action: () => alert(\"Convert to String\") },\n",
    "                    { name: \"Number\", action: () => alert(\"Convert to Number\") },\n",
    "                    { name: \"Boolean\", action: () => alert(\"Convert to Boolean\") },\n",
    "                ],\n",
    "            },\n",
    "        ];\n",
    "    };\n",
    "\n",
    "    return (\n",
    "        <div className=\"ag-theme-alpine\" style={{ height: \"650px\", width: \"95%\", margin: \"auto\", overflowX: \"auto\" }}>\n",
    "            <h2>📊 Interactive Data Table</h2>\n",
    "            {loading ? (\n",
    "                <p>Loading data...</p>\n",
    "            ) : error ? (\n",
    "                <p style={{ color: \"red\" }}>{error}</p>\n",
    "            ) : rowData.length > 0 ? (\n",
    "                <AgGridReact\n",
    "                    ref={gridRef}\n",
    "                    rowData={rowData}\n",
    "                    columnDefs={columnDefs}\n",
    "                    pagination={true}\n",
    "                    paginationPageSize={10}\n",
    "                    animateRows={true}\n",
    "                    rowSelection=\"multiple\"\n",
    "                    enableRangeSelection={true}\n",
    "                    enableCharts={true}\n",
    "                    enableClipboard={true}\n",
    "                    suppressMenuHide={true}\n",
    "                    defaultColDef={{\n",
    "                        sortable: true,\n",
    "                        editable: true,\n",
    "                        resizable: true,\n",
    "                        floatingFilter: true,\n",
    "                        filter: \"agSetColumnFilter\",\n",
    "                    }}\n",
    "                    getMainMenuItems={getHeaderMenuItems} // ✅ Add Custom Header Menu Items\n",
    "                    sideBar={{\n",
    "                        toolPanels: [\n",
    "                            { id: \"columns\", labelDefault: \"Columns\", toolPanel: \"agColumnsToolPanel\", minWidth: 300 },\n",
    "                            { id: \"filters\", labelDefault: \"Filters\", toolPanel: \"agFiltersToolPanel\", minWidth: 300 },\n",
    "                        ],\n",
    "                        defaultToolPanel: \"filters\",\n",
    "                    }}\n",
    "                />\n",
    "            ) : (\n",
    "                <p style={{ color: \"gray\", textAlign: \"center\" }}>No data available. Load data first.</p>\n",
    "            )}\n",
    "        </div>\n",
    "    );\n",
    "}\n",
    "\n",
    "export default DataTable;\n"
   ]
  },
  {
   "cell_type": "code",
   "execution_count": null,
   "metadata": {},
   "outputs": [
    {
     "data": {
      "text/html": [
       "\n",
       "        <iframe\n",
       "            width=\"100%\"\n",
       "            height=\"475\"\n",
       "            src=\"http://MacBookAir.lan:40000/dtale/iframe/1\"\n",
       "            frameborder=\"0\"\n",
       "            allowfullscreen\n",
       "            \n",
       "        ></iframe>\n",
       "        "
      ],
      "text/plain": [
       "<IPython.lib.display.IFrame at 0x113b03ee0>"
      ]
     },
     "metadata": {},
     "output_type": "display_data"
    },
    {
     "data": {
      "text/plain": []
     },
     "execution_count": 7,
     "metadata": {},
     "output_type": "execute_result"
    }
   ],
   "source": [
    "import dtale\n",
    "dtale.show(df)\n"
   ]
  },
  {
   "cell_type": "markdown",
   "metadata": {},
   "source": [
    "backend/app.py"
   ]
  },
  {
   "cell_type": "code",
   "execution_count": null,
   "metadata": {},
   "outputs": [
    {
     "ename": "NameError",
     "evalue": "name '__file__' is not defined",
     "output_type": "error",
     "traceback": [
      "\u001b[0;31m---------------------------------------------------------------------------\u001b[0m",
      "\u001b[0;31mNameError\u001b[0m                                 Traceback (most recent call last)",
      "Cell \u001b[0;32mIn[8], line 14\u001b[0m\n\u001b[1;32m     11\u001b[0m FIXED_PORT \u001b[38;5;241m=\u001b[39m \u001b[38;5;241m5050\u001b[39m\n\u001b[1;32m     13\u001b[0m \u001b[38;5;66;03m# Ensure the 'backend' folder is in Python's module path\u001b[39;00m\n\u001b[0;32m---> 14\u001b[0m sys\u001b[38;5;241m.\u001b[39mpath\u001b[38;5;241m.\u001b[39minsert(\u001b[38;5;241m0\u001b[39m, os\u001b[38;5;241m.\u001b[39mpath\u001b[38;5;241m.\u001b[39mabspath(os\u001b[38;5;241m.\u001b[39mpath\u001b[38;5;241m.\u001b[39mdirname(\u001b[38;5;18;43m__file__\u001b[39;49m)))\n\u001b[1;32m     16\u001b[0m \u001b[38;5;28;01mfrom\u001b[39;00m\u001b[38;5;250m \u001b[39m\u001b[38;5;21;01mroutes\u001b[39;00m\u001b[38;5;21;01m.\u001b[39;00m\u001b[38;5;21;01mdata_routes\u001b[39;00m\u001b[38;5;250m \u001b[39m\u001b[38;5;28;01mimport\u001b[39;00m data_routes  \u001b[38;5;66;03m# Import API routes\u001b[39;00m\n\u001b[1;32m     18\u001b[0m \u001b[38;5;66;03m# Set up the Flask app\u001b[39;00m\n",
      "\u001b[0;31mNameError\u001b[0m: name '__file__' is not defined"
     ]
    }
   ],
   "source": [
    "import sys\n",
    "import os\n",
    "import socket\n",
    "import pandas as pd\n",
    "import dtale\n",
    "from flask import Flask, send_from_directory, jsonify, request\n",
    "from flask_socketio import SocketIO\n",
    "from flask_cors import CORS\n",
    "\n",
    "# Set the fixed port\n",
    "FIXED_PORT = 5050\n",
    "\n",
    "# Ensure the 'backend' folder is in Python's module path\n",
    "sys.path.insert(0, os.path.abspath(os.path.dirname(__file__)))\n",
    "\n",
    "from routes.data_routes import data_routes  # Import API routes\n",
    "\n",
    "# Set up the Flask app\n",
    "app = Flask(__name__, static_folder=\"../frontend/bvista-frontend/build\", static_url_path=\"/\")\n",
    "CORS(app)  # Allow frontend to communicate with backend\n",
    "socketio = SocketIO(app, cors_allowed_origins=\"*\")\n",
    "\n",
    "# Register API routes\n",
    "app.register_blueprint(data_routes)\n",
    "\n",
    "# Global storage for dataset\n",
    "df_storage = None\n",
    "dtale_instance = None\n",
    "\n",
    "@app.route(\"/start_dtale\", methods=[\"POST\"])\n",
    "def start_dtale():\n",
    "    \"\"\"Start D-Tale instance with the stored DataFrame.\"\"\"\n",
    "    global dtale_instance\n",
    "\n",
    "    if dtale_instance is None:\n",
    "        return jsonify({\"error\": \"No data has been loaded into D-Tale\"}), 400\n",
    "\n",
    "    return jsonify({\"dtale_url\": dtale_instance._main_url})\n",
    "\n",
    "@app.route(\"/load_data\", methods=[\"POST\"])\n",
    "def load_data():\n",
    "    \"\"\"Load data into memory and start D-Tale.\"\"\"\n",
    "    global df_storage, dtale_instance\n",
    "\n",
    "    data = request.get_json()\n",
    "    if not data:\n",
    "        return jsonify({\"error\": \"No data received\"}), 400\n",
    "\n",
    "    df_storage = pd.DataFrame(data)  # Store dataset\n",
    "    dtale_instance = dtale.show(df_storage, host=\"127.0.0.1\", open_browser=False)\n",
    "\n",
    "    # Emit WebSocket event to update frontend\n",
    "    socketio.emit(\"data_update\", {\"data\": df_storage.to_dict(orient=\"records\")}, broadcast=True)\n",
    "\n",
    "    return jsonify({\"message\": \"Data loaded successfully\", \"dtale_url\": dtale_instance._main_url})\n",
    "\n",
    "@app.route(\"/get_data\", methods=[\"GET\"])\n",
    "def get_data():\n",
    "    \"\"\"Retrieve stored dataset.\"\"\"\n",
    "    global df_storage\n",
    "    if df_storage is None:\n",
    "        return jsonify({\"error\": \"No data available\"}), 404\n",
    "    \n",
    "    return jsonify({\"data\": df_storage.to_dict(orient=\"records\")})\n",
    "\n",
    "@app.route(\"/\")\n",
    "def serve_react():\n",
    "    \"\"\"Serve the React frontend.\"\"\"\n",
    "    return send_from_directory(app.static_folder, \"index.html\")\n",
    "\n",
    "@app.route(\"/<path:path>\")\n",
    "def serve_static(path):\n",
    "    \"\"\"Serve static files for React frontend.\"\"\"\n",
    "    return send_from_directory(app.static_folder, path)\n",
    "\n",
    "@app.route(\"/healthcheck\")\n",
    "def healthcheck():\n",
    "    \"\"\"Check if the backend is running.\"\"\"\n",
    "    return jsonify({\"status\": \"running\"}), 200\n",
    "\n",
    "def is_port_in_use(port):\n",
    "    \"\"\"Check if a port is in use.\"\"\"\n",
    "    with socket.socket(socket.AF_INET, socket.SOCK_STREAM) as sock:\n",
    "        return sock.connect_ex((\"127.0.0.1\", port)) == 0\n",
    "\n",
    "if __name__ == \"__main__\":\n",
    "    if is_port_in_use(FIXED_PORT):\n",
    "        print(f\"⚡ Backend is already running on port {FIXED_PORT}.\")\n",
    "    else:\n",
    "        print(f\"🚀 B-Vista Backend is starting on port {FIXED_PORT}...\")\n",
    "        socketio.run(app, debug=False, host=\"127.0.0.1\", port=FIXED_PORT, allow_unsafe_werkzeug=True)\n"
   ]
  },
  {
   "cell_type": "code",
   "execution_count": null,
   "metadata": {},
   "outputs": [],
   "source": []
  },
  {
   "cell_type": "code",
   "execution_count": null,
   "metadata": {},
   "outputs": [],
   "source": []
  },
  {
   "cell_type": "code",
   "execution_count": null,
   "metadata": {},
   "outputs": [],
   "source": []
  },
  {
   "cell_type": "code",
   "execution_count": null,
   "metadata": {},
   "outputs": [],
   "source": []
  },
  {
   "cell_type": "code",
   "execution_count": null,
   "metadata": {},
   "outputs": [],
   "source": []
  },
  {
   "cell_type": "code",
   "execution_count": null,
   "metadata": {},
   "outputs": [],
   "source": []
  },
  {
   "cell_type": "markdown",
   "metadata": {},
   "source": [
    "DataTable.js"
   ]
  },
  {
   "cell_type": "code",
   "execution_count": null,
   "metadata": {},
   "outputs": [],
   "source": [
    "import React, { useState, useEffect } from \"react\";\n",
    "import axios from \"axios\";\n",
    "import { io } from \"socket.io-client\";\n",
    "\n",
    "const API_URL = \"http://127.0.0.1:5050\"; // Ensure this matches backend\n",
    "\n",
    "function DataTable() {\n",
    "    const [data, setData] = useState([]);\n",
    "    const [loading, setLoading] = useState(true);\n",
    "    const [error, setError] = useState(null);\n",
    "\n",
    "    useEffect(() => {\n",
    "        fetchData(); // Load data when the page is opened\n",
    "\n",
    "        // ✅ Connect to WebSocket for real-time updates\n",
    "        const socket = io(API_URL);\n",
    "        socket.on(\"data_update\", (newData) => {\n",
    "            console.log(\"🔄 Live Data Update Received:\", newData);\n",
    "            if (newData.data) {\n",
    "                setData(newData.data);\n",
    "            }\n",
    "        });\n",
    "\n",
    "        return () => {\n",
    "            socket.disconnect();\n",
    "        };\n",
    "    }, []);\n",
    "\n",
    "    const fetchData = async () => {\n",
    "        setLoading(true);\n",
    "        try {\n",
    "            const response = await axios.get(`${API_URL}/get_data`);\n",
    "            if (response.data.data) {\n",
    "                setData(response.data.data);\n",
    "            } else {\n",
    "                setError(\"No data available.\");\n",
    "            }\n",
    "        } catch (err) {\n",
    "            setError(\"Error fetching data.\");\n",
    "        }\n",
    "        setLoading(false);\n",
    "    };\n",
    "\n",
    "    return (\n",
    "        <div className=\"data-table-container\">\n",
    "            <h2>📊 Data Table</h2>\n",
    "            {loading ? (\n",
    "                <p>Loading data...</p>\n",
    "            ) : error ? (\n",
    "                <p style={{ color: \"red\" }}>{error}</p>\n",
    "            ) : data.length > 0 ? (\n",
    "                <table>\n",
    "                    <thead>\n",
    "                        <tr>\n",
    "                            {Object.keys(data[0]).map((key) => (\n",
    "                                <th key={key}>{key}</th>\n",
    "                            ))}\n",
    "                        </tr>\n",
    "                    </thead>\n",
    "                    <tbody>\n",
    "                        {data.map((row, index) => (\n",
    "                            <tr key={index}>\n",
    "                                {Object.values(row).map((value, idx) => (\n",
    "                                    <td key={idx}>{value}</td>\n",
    "                                ))}\n",
    "                            </tr>\n",
    "                        ))}\n",
    "                    </tbody>\n",
    "                </table>\n",
    "            ) : (\n",
    "                <p>No data available. Load data first.</p>\n",
    "            )}\n",
    "        </div>\n",
    "    );\n",
    "}\n",
    "\n",
    "export default DataTable;\n"
   ]
  }
 ],
 "metadata": {
  "kernelspec": {
   "display_name": "venv",
   "language": "python",
   "name": "python3"
  },
  "language_info": {
   "codemirror_mode": {
    "name": "ipython",
    "version": 3
   },
   "file_extension": ".py",
   "mimetype": "text/x-python",
   "name": "python",
   "nbconvert_exporter": "python",
   "pygments_lexer": "ipython3",
   "version": "3.10.16"
  }
 },
 "nbformat": 4,
 "nbformat_minor": 2
}
